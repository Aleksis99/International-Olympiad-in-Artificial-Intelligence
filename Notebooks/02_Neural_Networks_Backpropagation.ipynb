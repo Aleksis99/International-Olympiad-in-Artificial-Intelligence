{
 "cells": [
  {
   "cell_type": "markdown",
   "metadata": {
    "id": "1TWEiePNkTw-"
   },
   "source": [
    "## Neural Networks"
   ]
  },
  {
   "cell_type": "code",
   "execution_count": null,
   "metadata": {
    "id": "dybyM8y5kTw_"
   },
   "outputs": [],
   "source": [
    "import numpy as np\n",
    "import matplotlib.pyplot as plt\n",
    "import math\n",
    "import random\n",
    "%matplotlib inline"
   ]
  },
  {
   "cell_type": "markdown",
   "metadata": {
    "id": "eEMPj50skTxA"
   },
   "source": [
    "## ANN or SNN"
   ]
  },
  {
   "cell_type": "markdown",
   "metadata": {
    "id": "Q-GGcvU6kTxA"
   },
   "source": [
    "• Artificial neural networks (ANN) are a very simplified model of biological neural networks. They are the basis of modern artificial intelligence methods, through which remarkable successes have been achieved in recent years.\n",
    "\n",
    "• Spiked neural networks (SNN) encompass models that mimic the neural dynamics of the brain. In addition to neuronal and synaptic states, SNNs include the concept of time in their operational model."
   ]
  },
  {
   "cell_type": "markdown",
   "metadata": {
    "id": "CLA2BacjkTxA"
   },
   "source": [
    "# How do Neural networks work?\n",
    "\n",
    "This model of information processing is inspired by the structure of the brain of biological organisms: a neuron receives signals from the neurons it is connected to, processes them, and transmits information to its connected neurons in the network.\n",
    "\n",
    "![image-2.png](attachment:image-2.png)"
   ]
  },
  {
   "cell_type": "markdown",
   "metadata": {
    "id": "K-p_S_sckTxA"
   },
   "source": [
    "Each neuron (e.g. $i$ – the one in a given layer or level) collects all the input information ($x_j$) to it, sums it with certain weights (${w_i,_j}$), processes the intermediate result ($a_i$) using the activation function ($f$) and passes the result ($y_i$) to all its connected neurons in the next layer.\n",
    "A bias ($b_i$, bias) is added to the input data, whose weight is 1 (this avoids the case where all weights are zero)."
   ]
  },
  {
   "cell_type": "markdown",
   "metadata": {
    "id": "wmQMD6cqkTxB"
   },
   "source": [
    "The neural network is formed by three types of layers:\n",
    "- **Input layer**: The neurons of this layer receive the observations ($i_1$, $i_2$, … , $i_n$). Each input element is assigned a weight according to its importance. (The weights are introduced in the manner of synaptic impulses transmitted between biological neurons. A negative weight value corresponds to a suppressive impulse, and a positive one to an excitatory one.)\n",
    "- **Hidden layers**: These are the intermediate layers between the input and the output, which help the neural network learn the complex relationships associated with the data (in some cases, these layers may not exist);\n",
    "- **Output layer**: The neurons of this layer extract the final result ($o_1$, $o_2$, … , $o_m$) from the previous two layers."
   ]
  },
  {
   "cell_type": "markdown",
   "metadata": {
    "id": "KI36fedfkTxB"
   },
   "source": [
    "## Perceptron"
   ]
  },
  {
   "cell_type": "markdown",
   "metadata": {
    "id": "EXvfGaaRkTxB"
   },
   "source": [
    "![image.png](attachment:image.png)"
   ]
  },
  {
   "cell_type": "markdown",
   "metadata": {
    "id": "ZcCkegZ7kTxB"
   },
   "source": [
    "- **Simple Perceptron — MLP0**:  \n",
    "  $$\n",
    "  \\mathbf{x} \\in \\mathbb{R}^{d_{in}}, \\, \\mathbf{W} \\in \\mathbb{R}^{d_{out} \\times d_{in}}, \\, \\mathbf{b} \\in \\mathbb{R}^{d_{out}}\n",
    "  $$  \n",
    "  $$\n",
    "  \\text{NN}_{\\text{MLP0}}(\\mathbf{x}) = \\mathbf{W} \\mathbf{x} + \\mathbf{b}\n",
    "  $$\n",
    "\n",
    "- **Single-Layer Perceptron (One Hidden Layer) — MLP1**:  \n",
    "  $$\n",
    "  \\mathbf{x} \\in \\mathbb{R}^{d_{in}}, \\, \\mathbf{W}^{(1)} \\in \\mathbb{R}^{d_1 \\times d_{in}}, \\, \\mathbf{b}^{(1)} \\in \\mathbb{R}^{d_1}\n",
    "  $$  \n",
    "  $$\n",
    "  \\mathbf{W}^{(2)} \\in \\mathbb{R}^{d_{out} \\times d_1}, \\, \\mathbf{b}^{(2)} \\in \\mathbb{R}^{d_{out}}, \\, f: \\mathbb{R} \\to \\mathbb{R}\n",
    "  $$  \n",
    "  $$\n",
    "  \\text{NN}_{\\text{MLP1}}(\\mathbf{x}) = \\mathbf{W}^{(2)} f(\\mathbf{W}^{(1)} \\mathbf{x} + \\mathbf{b}^{(1)}) + \\mathbf{b}^{(2)}\n",
    "  $$\n",
    "\n",
    "\n",
    "\n",
    "- **Simple Perceptron — MLP0**:  \n",
    "  - Input vector $\\mathbf{x} \\in \\mathbb{R}^{d_{in}}$, weight matrix $\\mathbf{W} \\in \\mathbb{R}^{d_{out} \\times d_{in}}$, and bias vector $\\mathbf{b} \\in \\mathbb{R}^{d_{out}}$.  \n",
    "  - The output is computed as:  \n",
    "    $$\n",
    "    \\text{NN}_{\\text{MLP0}}(\\mathbf{x}) = \\mathbf{W} \\mathbf{x} + \\mathbf{b}\n",
    "    $$\n",
    "\n",
    "- **Single-Layer Perceptron (One Hidden Layer) — MLP1**:  \n",
    "  - Input vector $\\mathbf{x} \\in \\mathbb{R}^{d_{in}}$, first-layer weight matrix $\\mathbf{W}^{(1)} \\in \\mathbb{R}^{d_1 \\times d_{in}}$, and first-layer bias vector $\\mathbf{b}^{(1)} \\in \\mathbb{R}^{d_1}$.  \n",
    "  - Second-layer weight matrix $\\mathbf{W}^{(2)} \\in \\mathbb{R}^{d_{out} \\times d_1}$, second-layer bias vector $\\mathbf{b}^{(2)} \\in \\mathbb{R}^{d_{out}}$, and activation function $f: \\mathbb{R} \\to \\mathbb{R}$.  \n",
    "  - The output is computed as:  \n",
    "    $$\n",
    "    \\text{NN}_{\\text{MLP1}}(\\mathbf{x}) = \\mathbf{W}^{(2)} f(\\mathbf{W}^{(1)} \\mathbf{x} + \\mathbf{b}^{(1)}) + \\mathbf{b}^{(2)}\n",
    "    $$\n"
   ]
  },
  {
   "cell_type": "markdown",
   "metadata": {
    "id": "hMCEwhSkkTxB"
   },
   "source": [
    "\n",
    "# Multi-Layer Perceptron\n",
    "\n",
    "### Two-Layer Perceptron (Two Hidden Layers) — MLP2:\n",
    "- Input vector:  \n",
    "  $$\n",
    "  \\mathbf{x} \\in \\mathbb{R}^{d_{in}}\n",
    "  $$\n",
    "\n",
    "- First layer:  \n",
    "  $$\n",
    "  \\mathbf{W}^{(1)} \\in \\mathbb{R}^{d_1 \\times d_{in}}, \\, \\mathbf{b}^{(1)} \\in \\mathbb{R}^{d_1}\n",
    "  $$\n",
    "\n",
    "- Second layer:  \n",
    "  $$\n",
    "  \\mathbf{W}^{(2)} \\in \\mathbb{R}^{d_2 \\times d_1}, \\, \\mathbf{b}^{(2)} \\in \\mathbb{R}^{d_2}, \\, f^{(1)}: \\mathbb{R} \\to \\mathbb{R}\n",
    "  $$\n",
    "\n",
    "- Third layer:  \n",
    "  $$\n",
    "  \\mathbf{W}^{(3)} \\in \\mathbb{R}^{d_{out} \\times d_2}, \\, \\mathbf{b}^{(3)} \\in \\mathbb{R}^{d_{out}}, \\, f^{(2)}: \\mathbb{R} \\to \\mathbb{R}\n",
    "  $$\n",
    "\n",
    "- Output:  \n",
    "  $$\n",
    "  \\text{NN}_{\\text{MLP2}}(\\mathbf{x}) = \\mathbf{W}^{(3)} f^{(2)}\\big(\\mathbf{W}^{(2)} f^{(1)}\\big(\\mathbf{W}^{(1)} \\mathbf{x} + \\mathbf{b}^{(1)}\\big) + \\mathbf{b}^{(2)}\\big) + \\mathbf{b}^{(3)}\n",
    "  $$\n",
    "\n",
    "\n",
    "# Multi-Layer Perceptron\n",
    "\n",
    "### Two-Layer Perceptron (Two Hidden Layers) — MLP2:\n",
    "- **Input vector**:  \n",
    "  $\\mathbf{x} \\in \\mathbb{R}^{d_{in}}$\n",
    "\n",
    "- **First layer**:  \n",
    "  Weight matrix $\\mathbf{W}^{(1)} \\in \\mathbb{R}^{d_1 \\times d_{in}}$, bias vector $\\mathbf{b}^{(1)} \\in \\mathbb{R}^{d_1}$\n",
    "\n",
    "- **Second layer**:  \n",
    "  Weight matrix $\\mathbf{W}^{(2)} \\in \\mathbb{R}^{d_2 \\times d_1}$, bias vector $\\mathbf{b}^{(2)} \\in \\mathbb{R}^{d_2}$, activation function $f^{(1)}: \\mathbb{R} \\to \\mathbb{R}$\n",
    "\n",
    "- **Third layer**:  \n",
    "  Weight matrix $\\mathbf{W}^{(3)} \\in \\mathbb{R}^{d_{out} \\times d_2}$, bias vector $\\mathbf{b}^{(3)} \\in \\mathbb{R}^{d_{out}}$, activation function $f^{(2)}: \\mathbb{R} \\to \\mathbb{R}$\n",
    "\n",
    "- **Output**:  \n",
    "  $$\n",
    "  \\text{NN}_{\\text{MLP2}}(\\mathbf{x}) = \\mathbf{W}^{(3)} f^{(2)}\\big(\\mathbf{W}^{(2)} f^{(1)}\\big(\\mathbf{W}^{(1)} \\mathbf{x} + \\mathbf{b}^{(1)}\\big) + \\mathbf{b}^{(2)}\\big) + \\mathbf{b}^{(3)}\n",
    "  $$\n"
   ]
  },
  {
   "cell_type": "markdown",
   "metadata": {
    "id": "wDWNxomVkTxC"
   },
   "source": [
    "# Network parameters:\n",
    "\n",
    "* Architecture\n",
    "* Number of layers\n",
    "* Number of neurons in each layer\n",
    "* Activation function\n",
    "* Weight update rule and learning rate\n",
    "* Batch size\n",
    "* Regularizations\n",
    "* And others"
   ]
  },
  {
   "cell_type": "markdown",
   "metadata": {
    "id": "nK5la8n9kTxC"
   },
   "source": [
    "### Activating functions"
   ]
  },
  {
   "cell_type": "code",
   "execution_count": null,
   "metadata": {
    "id": "LuC0qFP1kTxC"
   },
   "outputs": [],
   "source": [
    "x = np.linspace(-10, 10)"
   ]
  },
  {
   "cell_type": "code",
   "execution_count": null,
   "metadata": {
    "id": "Eo657RnxkTxC",
    "outputId": "c2c6a9c3-950d-46ea-f742-7afa10af9ab1"
   },
   "outputs": [
    {
     "data": {
      "text/plain": [
       "[<matplotlib.lines.Line2D at 0x2674b2d0a10>]"
      ]
     },
     "execution_count": 4,
     "metadata": {},
     "output_type": "execute_result"
    },
    {
     "data": {
      "image/png": "[encoded data removed]",
      "text/plain": [
       "<Figure size 640x480 with 1 Axes>"
      ]
     },
     "metadata": {},
     "output_type": "display_data"
    }
   ],
   "source": [
    "def sigmoid(x):\n",
    "    return 1 / (1 + np.exp(-x))\n",
    "\n",
    "\n",
    "plt.plot(x, sigmoid(x))"
   ]
  },
  {
   "cell_type": "code",
   "execution_count": null,
   "metadata": {
    "id": "FPvMS8rekTxC",
    "outputId": "e0f66bf9-051f-4c14-8a84-4e6167862046"
   },
   "outputs": [
    {
     "data": {
      "text/plain": [
       "[<matplotlib.lines.Line2D at 0x2674b3333d0>]"
      ]
     },
     "execution_count": 5,
     "metadata": {},
     "output_type": "execute_result"
    },
    {
     "data": {
      "image/png": "[encoded data removed]",
      "text/plain": [
       "<Figure size 640x480 with 1 Axes>"
      ]
     },
     "metadata": {},
     "output_type": "display_data"
    }
   ],
   "source": [
    "def tanh(x):\n",
    "    return (np.exp(2 * x) - 1) / (np.exp(2 * x) + 1)\n",
    "\n",
    "\n",
    "plt.plot(x, tanh(x))"
   ]
  },
  {
   "cell_type": "code",
   "execution_count": null,
   "metadata": {
    "id": "OBQODkfIkTxC",
    "outputId": "9d6e10e9-b5ad-4f0e-fa9e-8b88ec920fdf"
   },
   "outputs": [
    {
     "data": {
      "text/plain": [
       "[<matplotlib.lines.Line2D at 0x2674b18c710>]"
      ]
     },
     "execution_count": 6,
     "metadata": {},
     "output_type": "execute_result"
    },
    {
     "data": {
      "image/png": "[encoded data removed]",
      "text/plain": [
       "<Figure size 640x480 with 1 Axes>"
      ]
     },
     "metadata": {},
     "output_type": "display_data"
    }
   ],
   "source": [
    "def relu(x):\n",
    "    z = x > 0\n",
    "    return x * z\n",
    "\n",
    "\n",
    "plt.plot(x, relu(x))"
   ]
  },
  {
   "cell_type": "code",
   "execution_count": null,
   "metadata": {
    "id": "J8CfdJKTkTxC",
    "outputId": "1a314d94-a9ea-41a4-f2af-8bfb472760b4"
   },
   "outputs": [
    {
     "data": {
      "text/plain": [
       "[<matplotlib.lines.Line2D at 0x2674b38ffd0>]"
      ]
     },
     "execution_count": 7,
     "metadata": {},
     "output_type": "execute_result"
    },
    {
     "data": {
      "image/png": "[encoded data removed]",
      "text/plain": [
       "<Figure size 640x480 with 1 Axes>"
      ]
     },
     "metadata": {},
     "output_type": "display_data"
    }
   ],
   "source": [
    "def leaky_rely(x, leakage=0.1):\n",
    "    x = np.copy(x)\n",
    "    x[x < 0] *= leakage\n",
    "    return x\n",
    "\n",
    "\n",
    "plt.plot(x, leaky_rely(x))"
   ]
  },
  {
   "cell_type": "code",
   "execution_count": null,
   "metadata": {
    "id": "G0RvvtLikTxC",
    "outputId": "6eea2dca-ea08-40f2-f4b8-ae7f0d540c57"
   },
   "outputs": [
    {
     "data": {
      "text/plain": [
       "[<matplotlib.lines.Line2D at 0x2674cbc3190>]"
      ]
     },
     "execution_count": 8,
     "metadata": {},
     "output_type": "execute_result"
    },
    {
     "data": {
      "image/png": "[encoded data removed]",
      "text/plain": [
       "<Figure size 640x480 with 1 Axes>"
      ]
     },
     "metadata": {},
     "output_type": "display_data"
    }
   ],
   "source": [
    "def softplus_function(x):\n",
    "    return np.log(1 + np.exp(x))\n",
    "\n",
    "\n",
    "plt.plot(x, softplus_function(x))"
   ]
  },
  {
   "cell_type": "markdown",
   "metadata": {
    "id": "EDrYcMNYkTxC"
   },
   "source": [
    "## The expressive power of networks with forward propagation of activation\n",
    "\n",
    "• Boolean functions:\n",
    "\n",
    "Every Boolean function can be represented absolutely exactly by\n",
    "some two-layer network, although in the worst case the number of\n",
    "necessary hidden nodes grows exponentially with the number of inputs to the\n",
    "network.\n",
    "\n",
    "• Continuous functions.\n",
    "\n",
    "Every bounded continuous function can be approximated with arbitrarily small error by some two-layer network (Cybenko 1989).\n",
    "\n",
    "In this case the theorem applies to networks that use\n",
    "sigmoid nodes in the hidden layer and (thresholdless) linear nodes in the\n",
    "output layer. The number of hidden nodes required depends on the function being approximated.\n",
    "\n",
    "• Arbitrary functions.\n",
    "\n",
    "Every function can be approximated with arbitrary accuracy by some three-layer network (Cybenko 1988). The output layer consists of linear nodes, and the two hidden layers use sigmoid nodes, with the number of nodes required in each layer generally unknown."
   ]
  },
  {
   "cell_type": "markdown",
   "metadata": {
    "id": "dqQDKmFJkTxC"
   },
   "source": [
    "# Gradient is considered more complex than logistic regression.\n",
    "\n",
    "Because of this, we will add two more techniques:\n",
    "* Computational Graph\n",
    "* Chain Rule\n",
    "# Computational Graph\n",
    "With a graph, we break down calculations into their simplest components. Example:\n",
    "\n",
    "$ \\hat y = \\sigma\\big( g(x W_1 + b) W_2 + b_2\\big)$\n",
    "<br/>We will break it down into parts:\n",
    "<br/>\n",
    "<br/>$ op_1 = x W_1 + b $\n",
    "<br/>$ op_2 = g( op_1) $\n",
    "<br/>$ op_3 = op_2 * W_2 + b_2 $\n",
    "<br/>$ op_4 = \\sigma (op_3) $\n",
    "\n",
    "Let's add the error:\n",
    "<br/>$ op_5 = L(op_4) $\n",
    "# Chain Rule\n",
    "\n",
    "\"Chain rule\" is a formula for calculating the derivatives of composite functions:\n",
    "\n",
    "Let $F = f ∘ g$, or $F(x) = f(g(x))$ for each $x$. Then:\n",
    "$$ F'(x)=f'(g(x))g'(x) $$\n",
    "or if $ z=f(y)$ and $y=g(x) $, then:\n",
    "\n",
    "$$\\frac{dz}{dx}={\\frac{dz}{dy}}\\cdot {\\frac {dy}{dx}}$$\n",
    "These two techniques allow us to find the gradient for any `W` and `b`:\n",
    "$$\\frac{\\partial}{\\partial w} L(W)$$"
   ]
  },
  {
   "cell_type": "markdown",
   "metadata": {
    "id": "9zWTAUfjkTxD"
   },
   "source": [
    "![image.png](attachment:image.png)"
   ]
  },
  {
   "cell_type": "markdown",
   "metadata": {
    "id": "VAFfTpnPkTxD"
   },
   "source": [
    "![image.png](attachment:image.png)"
   ]
  },
  {
   "cell_type": "markdown",
   "metadata": {
    "id": "Eq-aNyBFkTxD"
   },
   "source": [
    "![image.png](attachment:image.png)"
   ]
  },
  {
   "cell_type": "markdown",
   "metadata": {
    "id": "bXOw-LwhkTxD"
   },
   "source": [
    "![image.png](attachment:image.png)"
   ]
  },
  {
   "cell_type": "markdown",
   "metadata": {
    "id": "5KtMRpDAkTxD"
   },
   "source": [
    "\n",
    "# Formalization of Backpropagation — Computational Graph\n",
    "\n",
    "- Given a directed acyclic graph $G = (V, E)$, where $E \\subseteq V \\times V$.\n",
    "\n",
    "- For each vertex $v \\in V$, the (immediate) predecessors are denoted as:  \n",
    "  $$\n",
    "  P_G(v) = [p \\in V \\mid (p, v) \\in E].\n",
    "  $$  \n",
    "  We assume that $P_G(v)$ is a list.\n",
    "\n",
    "- The leaves (sources) of the graph are denoted as:  \n",
    "  $$\n",
    "  L(G) = [v \\mid P_G(v) = \\emptyset].\n",
    "  $$\n",
    "\n",
    "- The terminal vertices (sinks) of the graph are denoted as:  \n",
    "  $$\n",
    "  T(G) = [v \\mid \\nexists u \\in V : (v, u) \\in E].\n",
    "  $$  \n",
    "  We assume that the graph has exactly one terminal vertex:  \n",
    "  $$\n",
    "  |T(G)| = 1.\n",
    "  $$"
   ]
  },
  {
   "cell_type": "markdown",
   "metadata": {
    "id": "g98mjYNlkTxD"
   },
   "source": [
    "\n",
    "- For every vertex $v \\in V \\setminus L(G)$, we assume that there is a defined function for calculating its value:  \n",
    "  $$\n",
    "  \\text{calc}(G, v): \\mathbb{R}^{|P_G(v)|} \\to \\mathbb{R}.\n",
    "  $$\n",
    "\n",
    "- For every vertex $v \\in V \\setminus L(G)$ and each of its predecessors $u \\in P_G(v)$, we assume that there is a defined function for calculating the partial derivative of the function $\\text{calc}(G, v)$ with respect to the argument $u$, denoted as:  \n",
    "  $$\n",
    "  \\text{deriv}(G, v, u): \\mathbb{R}^{|P_G(v)|} \\to \\mathbb{R}.\n",
    "  $$"
   ]
  },
  {
   "cell_type": "markdown",
   "metadata": {
    "id": "a4dk1QbEkTxD"
   },
   "source": [
    "\n",
    "# Backpropagation Algorithm\n",
    "\n",
    "### Forward Pass\n",
    "```\n",
    "Forward(G, X):\n",
    "1  for v in topologicalSort(G):\n",
    "2      if isSource(v):\n",
    "3          F(v) <- read(v, X)\n",
    "4      else\n",
    "5          [p1, p2, ..., pk] <- Predecessors(G)(v)\n",
    "6          F(v) <- calc(G, v)(F(p1), ..., F(pk))\n",
    "7  return F\n",
    "```\n",
    "\n",
    "```\n",
    "read(v, X):\n",
    "    Where X := x_1, x_2, ..., x_n and v is the i-th weight input weight\n",
    "    return v * x_i\n",
    "```\n",
    "\n",
    "\n",
    "\n",
    "\n",
    "### Backward Pass\n",
    "```\n",
    "Backward(G, F):\n",
    "1  for v in topologicalSort(G):\n",
    "2      B(v) <- 0\n",
    "3  for v in reverseTopologicalSort(G):\n",
    "4      if isSink(v):\n",
    "5          B(v) <- 1\n",
    "6      [p1, p2, ..., pk] <- Predecessors(G)(v)\n",
    "7      for p in Predecessors(G)(v):\n",
    "8          B(p) += B(v) * deriv(G, v, p)(F(p1), ..., F(pk))\n",
    "9  return B\n",
    "```\n",
    "\n",
    "### Training\n",
    "\n",
    "```\n",
    "X := training features\n",
    "y := target attribute\n",
    "G <- initModel(args)\n",
    "\n",
    "for i in range(epochs):\n",
    "    output = Forward(G, X)\n",
    "    gradients <- Backward(G, F)\n",
    "    for p in Vertices(G):\n",
    "        p -= gradients(p) * learning_rate\n",
    "```"
   ]
  },
  {
   "cell_type": "code",
   "execution_count": null,
   "metadata": {
    "id": "rrRPu4qQkTxD"
   },
   "outputs": [],
   "source": [
    "class Value:\n",
    "    def __init__(self, data, _children=(), _op=\"\", label=\"\"):\n",
    "        self.data = data\n",
    "        self.grad = 0.0\n",
    "        self._backward = lambda: None\n",
    "        self._prev = set(_children)\n",
    "        self._op = _op\n",
    "        self.label = label\n",
    "\n",
    "    def __repr__(self):\n",
    "        return f\"Value(data={self.data})\"\n",
    "\n",
    "    def __add__(self, other):\n",
    "        out = Value(self.data + other.data, (self, other), \"+\")\n",
    "\n",
    "        def _backward():\n",
    "            self.grad  += 1.0 * out.grad\n",
    "            other.grad += 1.0 * out.grad\n",
    "\n",
    "        out._backward = _backward\n",
    "\n",
    "        return out\n",
    "\n",
    "    def __mul__(self, other):\n",
    "        out = Value(self.data * other.data, (self, other), \"*\")\n",
    "\n",
    "        def _backward():\n",
    "            self.grad  += other.data * out.grad\n",
    "            other.grad += self.data * out.grad\n",
    "\n",
    "        out._backward = _backward\n",
    "\n",
    "        return out\n",
    "\n",
    "    def tanh(self):\n",
    "        x = self.data\n",
    "        t = (math.exp(2 * x) - 1) / (math.exp(2 * x) + 1)\n",
    "        out = Value(t, (self,), \"tanh\")\n",
    "\n",
    "        def _backward():\n",
    "            self.grad += (1 - t**2) * out.grad\n",
    "\n",
    "        out._backward = _backward\n",
    "\n",
    "        return out\n",
    "\n",
    "    def backward(self):\n",
    "        topo = []\n",
    "        visited = set()\n",
    "\n",
    "        def build_topo(v):\n",
    "            if v not in visited:\n",
    "                visited.add(v)\n",
    "                for child in v._prev:\n",
    "                    build_topo(child)\n",
    "                topo.append(v)\n",
    "\n",
    "        build_topo(self)\n",
    "\n",
    "        self.grad = 1.0\n",
    "        for node in reversed(topo):\n",
    "            node._backward()"
   ]
  },
  {
   "cell_type": "code",
   "execution_count": null,
   "metadata": {
    "id": "IZ1JtVsSkTxD"
   },
   "outputs": [],
   "source": [
    "from graphviz import Digraph\n",
    "\n",
    "\n",
    "def trace(root):\n",
    "    # builds a set of all nodes and edges in a graph\n",
    "    nodes, edges = set(), set()\n",
    "\n",
    "    def build(v):\n",
    "        if v not in nodes:\n",
    "            nodes.add(v)\n",
    "            for child in v._prev:\n",
    "                edges.add((child, v))\n",
    "                build(child)\n",
    "\n",
    "    build(root)\n",
    "    return nodes, edges\n",
    "\n",
    "\n",
    "def draw_dot(root):\n",
    "    dot = Digraph(format=\"svg\", graph_attr={\"rankdir\": \"LR\"})  # LR = left to right\n",
    "\n",
    "    nodes, edges = trace(root)\n",
    "    for n in nodes:\n",
    "        uid = str(id(n))\n",
    "        # for any value in the graph, create a rectangular ('record') node for it\n",
    "        dot.node(\n",
    "            name=uid,\n",
    "            label=\"{ %s | data %.4f | grad %.4f }\" % (n.label, n.data, n.grad),\n",
    "            shape=\"record\",\n",
    "        )\n",
    "        if n._op:\n",
    "            # if this value is a result of some operation, create an op node for it\n",
    "            dot.node(name=uid + n._op, label=n._op)\n",
    "            # and connect this node to it\n",
    "            dot.edge(uid + n._op, uid)\n",
    "\n",
    "    for n1, n2 in edges:\n",
    "        # connect n1 to the op node of n2\n",
    "        dot.edge(str(id(n1)), str(id(n2)) + n2._op)\n",
    "\n",
    "    return dot"
   ]
  },
  {
   "cell_type": "code",
   "execution_count": null,
   "metadata": {
    "id": "w5gjjtuckTxD",
    "outputId": "370fb052-1ded-4b0e-ff11-52229dceffeb"
   },
   "outputs": [
    {
     "data": {
      "text/plain": [
       "Value(data=-8.0)"
      ]
     },
     "execution_count": 11,
     "metadata": {},
     "output_type": "execute_result"
    }
   ],
   "source": [
    "a = Value(2.0, label=\"a\")\n",
    "b = Value(-3.0, label=\"b\")\n",
    "c = Value(10.0, label=\"c\")\n",
    "e = a * b\n",
    "e.label = \"e\"\n",
    "d = e + c\n",
    "d.label = \"d\"\n",
    "f = Value(-2.0, label=\"f\")\n",
    "L = d * f\n",
    "L.label = \"L\"\n",
    "L"
   ]
  },
  {
   "cell_type": "code",
   "execution_count": null,
   "metadata": {
    "id": "MOpOmrBOkTxD",
    "outputId": "cc9dc894-f265-40a0-8dfa-25f001896ac5"
   },
   "outputs": [
    {
     "data": {
      "image/svg+xml": [
       "<?xml version=\"1.0\" encoding=\"UTF-8\" standalone=\"no\"?>\n",
       "<!DOCTYPE svg PUBLIC \"-//W3C//DTD SVG 1.1//EN\"\n",
       " \"http://www.w3.org/Graphics/SVG/1.1/DTD/svg11.dtd\">\n",
       "<!-- Generated by graphviz version 9.0.0 (20230911.1827)\n",
       " -->\n",
       "<!-- Pages: 1 -->\n",
       "<svg width=\"1147pt\" height=\"154pt\"\n",
       " viewBox=\"0.00 0.00 1147.25 154.00\" xmlns=\"http://www.w3.org/2000/svg\" xmlns:xlink=\"http://www.w3.org/1999/xlink\">\n",
       "<g id=\"graph0\" class=\"graph\" transform=\"scale(1 1) rotate(0) translate(4 150)\">\n",
       "<polygon fill=\"white\" stroke=\"none\" points=\"-4,4 -4,-150 1143.25,-150 1143.25,4 -4,4\"/>\n",
       "<!-- 2642666080848 -->\n",
       "<g id=\"node1\" class=\"node\">\n",
       "<title>2642666080848</title>\n",
       "<polygon fill=\"none\" stroke=\"black\" points=\"635.25,-54.5 635.25,-90.5 821.25,-90.5 821.25,-54.5 635.25,-54.5\"/>\n",
       "<text text-anchor=\"middle\" x=\"647\" y=\"-67.2\" font-family=\"Times New Roman,serif\" font-size=\"14.00\">d</text>\n",
       "<polyline fill=\"none\" stroke=\"black\" points=\"658.75,-54.75 658.75,-90.5\"/>\n",
       "<text text-anchor=\"middle\" x=\"699\" y=\"-67.2\" font-family=\"Times New Roman,serif\" font-size=\"14.00\">data 4.0000</text>\n",
       "<polyline fill=\"none\" stroke=\"black\" points=\"739.25,-54.75 739.25,-90.5\"/>\n",
       "<text text-anchor=\"middle\" x=\"780.25\" y=\"-67.2\" font-family=\"Times New Roman,serif\" font-size=\"14.00\">grad 0.0000</text>\n",
       "</g>\n",
       "<!-- 2642692677968* -->\n",
       "<g id=\"node7\" class=\"node\">\n",
       "<title>2642692677968*</title>\n",
       "<ellipse fill=\"none\" stroke=\"black\" cx=\"885\" cy=\"-99.5\" rx=\"27\" ry=\"18\"/>\n",
       "<text text-anchor=\"middle\" x=\"885\" y=\"-94.08\" font-family=\"Times New Roman,serif\" font-size=\"14.00\">*</text>\n",
       "</g>\n",
       "<!-- 2642666080848&#45;&gt;2642692677968* -->\n",
       "<g id=\"edge4\" class=\"edge\">\n",
       "<title>2642666080848&#45;&gt;2642692677968*</title>\n",
       "<path fill=\"none\" stroke=\"black\" d=\"M821.5,-88.6C830.64,-90.19 839.48,-91.73 847.5,-93.13\"/>\n",
       "<polygon fill=\"black\" stroke=\"black\" points=\"846.66,-96.54 857.12,-94.81 847.87,-89.64 846.66,-96.54\"/>\n",
       "</g>\n",
       "<!-- 2642666080848+ -->\n",
       "<g id=\"node2\" class=\"node\">\n",
       "<title>2642666080848+</title>\n",
       "<ellipse fill=\"none\" stroke=\"black\" cx=\"571.5\" cy=\"-72.5\" rx=\"27\" ry=\"18\"/>\n",
       "<text text-anchor=\"middle\" x=\"571.5\" y=\"-67.08\" font-family=\"Times New Roman,serif\" font-size=\"14.00\">+</text>\n",
       "</g>\n",
       "<!-- 2642666080848+&#45;&gt;2642666080848 -->\n",
       "<g id=\"edge1\" class=\"edge\">\n",
       "<title>2642666080848+&#45;&gt;2642666080848</title>\n",
       "<path fill=\"none\" stroke=\"black\" d=\"M598.75,-72.5C606.11,-72.5 614.58,-72.5 623.59,-72.5\"/>\n",
       "<polygon fill=\"black\" stroke=\"black\" points=\"623.3,-76 633.3,-72.5 623.3,-69 623.3,-76\"/>\n",
       "</g>\n",
       "<!-- 2642675087440 -->\n",
       "<g id=\"node3\" class=\"node\">\n",
       "<title>2642675087440</title>\n",
       "<polygon fill=\"none\" stroke=\"black\" points=\"3,-55.5 3,-91.5 187.5,-91.5 187.5,-55.5 3,-55.5\"/>\n",
       "<text text-anchor=\"middle\" x=\"14\" y=\"-68.2\" font-family=\"Times New Roman,serif\" font-size=\"14.00\">a</text>\n",
       "<polyline fill=\"none\" stroke=\"black\" points=\"25,-55.75 25,-91.5\"/>\n",
       "<text text-anchor=\"middle\" x=\"65.25\" y=\"-68.2\" font-family=\"Times New Roman,serif\" font-size=\"14.00\">data 2.0000</text>\n",
       "<polyline fill=\"none\" stroke=\"black\" points=\"105.5,-55.75 105.5,-91.5\"/>\n",
       "<text text-anchor=\"middle\" x=\"146.5\" y=\"-68.2\" font-family=\"Times New Roman,serif\" font-size=\"14.00\">grad 0.0000</text>\n",
       "</g>\n",
       "<!-- 2642675233232* -->\n",
       "<g id=\"node10\" class=\"node\">\n",
       "<title>2642675233232*</title>\n",
       "<ellipse fill=\"none\" stroke=\"black\" cx=\"253.5\" cy=\"-45.5\" rx=\"27\" ry=\"18\"/>\n",
       "<text text-anchor=\"middle\" x=\"253.5\" y=\"-40.08\" font-family=\"Times New Roman,serif\" font-size=\"14.00\">*</text>\n",
       "</g>\n",
       "<!-- 2642675087440&#45;&gt;2642675233232* -->\n",
       "<g id=\"edge7\" class=\"edge\">\n",
       "<title>2642675087440&#45;&gt;2642675233232*</title>\n",
       "<path fill=\"none\" stroke=\"black\" d=\"M187.59,-57.13C197.51,-55.35 207.14,-53.63 215.8,-52.08\"/>\n",
       "<polygon fill=\"black\" stroke=\"black\" points=\"216.25,-55.55 225.48,-50.34 215.02,-48.66 216.25,-55.55\"/>\n",
       "</g>\n",
       "<!-- 2642666272528 -->\n",
       "<g id=\"node4\" class=\"node\">\n",
       "<title>2642666272528</title>\n",
       "<polygon fill=\"none\" stroke=\"black\" points=\"634.5,-109.5 634.5,-145.5 822,-145.5 822,-109.5 634.5,-109.5\"/>\n",
       "<text text-anchor=\"middle\" x=\"644.75\" y=\"-122.2\" font-family=\"Times New Roman,serif\" font-size=\"14.00\">f</text>\n",
       "<polyline fill=\"none\" stroke=\"black\" points=\"655,-109.75 655,-145.5\"/>\n",
       "<text text-anchor=\"middle\" x=\"697.5\" y=\"-122.2\" font-family=\"Times New Roman,serif\" font-size=\"14.00\">data &#45;2.0000</text>\n",
       "<polyline fill=\"none\" stroke=\"black\" points=\"740,-109.75 740,-145.5\"/>\n",
       "<text text-anchor=\"middle\" x=\"781\" y=\"-122.2\" font-family=\"Times New Roman,serif\" font-size=\"14.00\">grad 0.0000</text>\n",
       "</g>\n",
       "<!-- 2642666272528&#45;&gt;2642692677968* -->\n",
       "<g id=\"edge5\" class=\"edge\">\n",
       "<title>2642666272528&#45;&gt;2642692677968*</title>\n",
       "<path fill=\"none\" stroke=\"black\" d=\"M822.39,-110.65C831.15,-109.06 839.63,-107.53 847.34,-106.13\"/>\n",
       "<polygon fill=\"black\" stroke=\"black\" points=\"847.71,-109.62 856.93,-104.4 846.46,-102.73 847.71,-109.62\"/>\n",
       "</g>\n",
       "<!-- 2642692436240 -->\n",
       "<g id=\"node5\" class=\"node\">\n",
       "<title>2642692436240</title>\n",
       "<polygon fill=\"none\" stroke=\"black\" points=\"0,-0.5 0,-36.5 190.5,-36.5 190.5,-0.5 0,-0.5\"/>\n",
       "<text text-anchor=\"middle\" x=\"11.75\" y=\"-13.2\" font-family=\"Times New Roman,serif\" font-size=\"14.00\">b</text>\n",
       "<polyline fill=\"none\" stroke=\"black\" points=\"23.5,-0.75 23.5,-36.5\"/>\n",
       "<text text-anchor=\"middle\" x=\"66\" y=\"-13.2\" font-family=\"Times New Roman,serif\" font-size=\"14.00\">data &#45;3.0000</text>\n",
       "<polyline fill=\"none\" stroke=\"black\" points=\"108.5,-0.75 108.5,-36.5\"/>\n",
       "<text text-anchor=\"middle\" x=\"149.5\" y=\"-13.2\" font-family=\"Times New Roman,serif\" font-size=\"14.00\">grad 0.0000</text>\n",
       "</g>\n",
       "<!-- 2642692436240&#45;&gt;2642675233232* -->\n",
       "<g id=\"edge6\" class=\"edge\">\n",
       "<title>2642692436240&#45;&gt;2642675233232*</title>\n",
       "<path fill=\"none\" stroke=\"black\" d=\"M190.75,-34.83C199.54,-36.35 208.04,-37.82 215.78,-39.15\"/>\n",
       "<polygon fill=\"black\" stroke=\"black\" points=\"214.94,-42.56 225.39,-40.81 216.13,-35.66 214.94,-42.56\"/>\n",
       "</g>\n",
       "<!-- 2642692677968 -->\n",
       "<g id=\"node6\" class=\"node\">\n",
       "<title>2642692677968</title>\n",
       "<polygon fill=\"none\" stroke=\"black\" points=\"948,-81.5 948,-117.5 1139.25,-117.5 1139.25,-81.5 948,-81.5\"/>\n",
       "<text text-anchor=\"middle\" x=\"960.12\" y=\"-94.2\" font-family=\"Times New Roman,serif\" font-size=\"14.00\">L</text>\n",
       "<polyline fill=\"none\" stroke=\"black\" points=\"972.25,-81.75 972.25,-117.5\"/>\n",
       "<text text-anchor=\"middle\" x=\"1014.75\" y=\"-94.2\" font-family=\"Times New Roman,serif\" font-size=\"14.00\">data &#45;8.0000</text>\n",
       "<polyline fill=\"none\" stroke=\"black\" points=\"1057.25,-81.75 1057.25,-117.5\"/>\n",
       "<text text-anchor=\"middle\" x=\"1098.25\" y=\"-94.2\" font-family=\"Times New Roman,serif\" font-size=\"14.00\">grad 0.0000</text>\n",
       "</g>\n",
       "<!-- 2642692677968*&#45;&gt;2642692677968 -->\n",
       "<g id=\"edge2\" class=\"edge\">\n",
       "<title>2642692677968*&#45;&gt;2642692677968</title>\n",
       "<path fill=\"none\" stroke=\"black\" d=\"M912.22,-99.5C919.38,-99.5 927.61,-99.5 936.37,-99.5\"/>\n",
       "<polygon fill=\"black\" stroke=\"black\" points=\"936.21,-103 946.21,-99.5 936.21,-96 936.21,-103\"/>\n",
       "</g>\n",
       "<!-- 2642692278736 -->\n",
       "<g id=\"node8\" class=\"node\">\n",
       "<title>2642692278736</title>\n",
       "<polygon fill=\"none\" stroke=\"black\" points=\"316.5,-82.5 316.5,-118.5 508.5,-118.5 508.5,-82.5 316.5,-82.5\"/>\n",
       "<text text-anchor=\"middle\" x=\"327.88\" y=\"-95.2\" font-family=\"Times New Roman,serif\" font-size=\"14.00\">c</text>\n",
       "<polyline fill=\"none\" stroke=\"black\" points=\"339.25,-82.75 339.25,-118.5\"/>\n",
       "<text text-anchor=\"middle\" x=\"382.88\" y=\"-95.2\" font-family=\"Times New Roman,serif\" font-size=\"14.00\">data 10.0000</text>\n",
       "<polyline fill=\"none\" stroke=\"black\" points=\"426.5,-82.75 426.5,-118.5\"/>\n",
       "<text text-anchor=\"middle\" x=\"467.5\" y=\"-95.2\" font-family=\"Times New Roman,serif\" font-size=\"14.00\">grad 0.0000</text>\n",
       "</g>\n",
       "<!-- 2642692278736&#45;&gt;2642666080848+ -->\n",
       "<g id=\"edge8\" class=\"edge\">\n",
       "<title>2642692278736&#45;&gt;2642666080848+</title>\n",
       "<path fill=\"none\" stroke=\"black\" d=\"M508.9,-83.49C517.68,-81.92 526.17,-80.41 533.89,-79.03\"/>\n",
       "<polygon fill=\"black\" stroke=\"black\" points=\"534.25,-82.52 543.48,-77.32 533.02,-75.63 534.25,-82.52\"/>\n",
       "</g>\n",
       "<!-- 2642675233232 -->\n",
       "<g id=\"node9\" class=\"node\">\n",
       "<title>2642675233232</title>\n",
       "<polygon fill=\"none\" stroke=\"black\" points=\"318,-27.5 318,-63.5 507,-63.5 507,-27.5 318,-27.5\"/>\n",
       "<text text-anchor=\"middle\" x=\"329\" y=\"-40.2\" font-family=\"Times New Roman,serif\" font-size=\"14.00\">e</text>\n",
       "<polyline fill=\"none\" stroke=\"black\" points=\"340,-27.75 340,-63.5\"/>\n",
       "<text text-anchor=\"middle\" x=\"382.5\" y=\"-40.2\" font-family=\"Times New Roman,serif\" font-size=\"14.00\">data &#45;6.0000</text>\n",
       "<polyline fill=\"none\" stroke=\"black\" points=\"425,-27.75 425,-63.5\"/>\n",
       "<text text-anchor=\"middle\" x=\"466\" y=\"-40.2\" font-family=\"Times New Roman,serif\" font-size=\"14.00\">grad 0.0000</text>\n",
       "</g>\n",
       "<!-- 2642675233232&#45;&gt;2642666080848+ -->\n",
       "<g id=\"edge9\" class=\"edge\">\n",
       "<title>2642675233232&#45;&gt;2642666080848+</title>\n",
       "<path fill=\"none\" stroke=\"black\" d=\"M507.09,-61.6C516.45,-63.2 525.5,-64.76 533.71,-66.17\"/>\n",
       "<polygon fill=\"black\" stroke=\"black\" points=\"533.1,-69.62 543.55,-67.87 534.29,-62.72 533.1,-69.62\"/>\n",
       "</g>\n",
       "<!-- 2642675233232*&#45;&gt;2642675233232 -->\n",
       "<g id=\"edge3\" class=\"edge\">\n",
       "<title>2642675233232*&#45;&gt;2642675233232</title>\n",
       "<path fill=\"none\" stroke=\"black\" d=\"M280.78,-45.5C288.29,-45.5 296.96,-45.5 306.2,-45.5\"/>\n",
       "<polygon fill=\"black\" stroke=\"black\" points=\"306.2,-49 316.2,-45.5 306.2,-42 306.2,-49\"/>\n",
       "</g>\n",
       "</g>\n",
       "</svg>\n"
      ],
      "text/plain": [
       "<graphviz.graphs.Digraph at 0x2674bb284d0>"
      ]
     },
     "execution_count": 12,
     "metadata": {},
     "output_type": "execute_result"
    }
   ],
   "source": [
    "draw_dot(L)"
   ]
  },
  {
   "cell_type": "code",
   "execution_count": null,
   "metadata": {
    "id": "HBy0CKFGkTxE",
    "outputId": "2b1426f6-61a7-4935-e70e-eac16b86e564"
   },
   "outputs": [
    {
     "name": "stdout",
     "output_type": "stream",
     "text": [
      "-2.000000000000668\n"
     ]
    }
   ],
   "source": [
    "def scope():\n",
    "    h = 0.001\n",
    "\n",
    "    a = Value(2.0, label=\"a\")\n",
    "    b = Value(-3.0, label=\"b\")\n",
    "    c = Value(10.0, label=\"c\")\n",
    "    e = a * b\n",
    "    e.label = \"e\"\n",
    "    d = e + c\n",
    "    d.label = \"d\"\n",
    "    f = Value(-2.0, label=\"f\")\n",
    "    L = d * f\n",
    "    L.label = \"L\"\n",
    "    L1 = L.data\n",
    "\n",
    "    a = Value(2.0, label=\"a\")\n",
    "    b = Value(-3.0, label=\"b\")\n",
    "    c = Value(10.0, label=\"c\")\n",
    "    e = a * b\n",
    "    e.label = \"e\"\n",
    "    d = e + c\n",
    "    d.label = \"d\"\n",
    "    d.data+= h\n",
    "    f = Value(-2.0, label=\"f\")\n",
    "    L = d * f\n",
    "    L.label = \"L\"\n",
    "    L2 = L.data\n",
    "\n",
    "    print((L2 - L1) / h)\n",
    "\n",
    "\n",
    "scope()"
   ]
  },
  {
   "cell_type": "code",
   "execution_count": null,
   "metadata": {
    "id": "QX3ag7b1kTxE"
   },
   "outputs": [],
   "source": [
    "L.backward()"
   ]
  },
  {
   "cell_type": "code",
   "execution_count": null,
   "metadata": {
    "id": "wJg2zBh3kTxE",
    "outputId": "dcd476f9-4e8f-4d1f-821c-b139ffbe479b"
   },
   "outputs": [
    {
     "data": {
      "image/svg+xml": [
       "<?xml version=\"1.0\" encoding=\"UTF-8\" standalone=\"no\"?>\n",
       "<!DOCTYPE svg PUBLIC \"-//W3C//DTD SVG 1.1//EN\"\n",
       " \"http://www.w3.org/Graphics/SVG/1.1/DTD/svg11.dtd\">\n",
       "<!-- Generated by graphviz version 9.0.0 (20230911.1827)\n",
       " -->\n",
       "<!-- Pages: 1 -->\n",
       "<svg width=\"1159pt\" height=\"154pt\"\n",
       " viewBox=\"0.00 0.00 1159.25 154.00\" xmlns=\"http://www.w3.org/2000/svg\" xmlns:xlink=\"http://www.w3.org/1999/xlink\">\n",
       "<g id=\"graph0\" class=\"graph\" transform=\"scale(1 1) rotate(0) translate(4 150)\">\n",
       "<polygon fill=\"white\" stroke=\"none\" points=\"-4,4 -4,-150 1155.25,-150 1155.25,4 -4,4\"/>\n",
       "<!-- 2642666080848 -->\n",
       "<g id=\"node1\" class=\"node\">\n",
       "<title>2642666080848</title>\n",
       "<polygon fill=\"none\" stroke=\"black\" points=\"643.5,-54.5 643.5,-90.5 834,-90.5 834,-54.5 643.5,-54.5\"/>\n",
       "<text text-anchor=\"middle\" x=\"655.25\" y=\"-67.2\" font-family=\"Times New Roman,serif\" font-size=\"14.00\">d</text>\n",
       "<polyline fill=\"none\" stroke=\"black\" points=\"667,-54.75 667,-90.5\"/>\n",
       "<text text-anchor=\"middle\" x=\"707.25\" y=\"-67.2\" font-family=\"Times New Roman,serif\" font-size=\"14.00\">data 4.0000</text>\n",
       "<polyline fill=\"none\" stroke=\"black\" points=\"747.5,-54.75 747.5,-90.5\"/>\n",
       "<text text-anchor=\"middle\" x=\"790.75\" y=\"-67.2\" font-family=\"Times New Roman,serif\" font-size=\"14.00\">grad &#45;2.0000</text>\n",
       "</g>\n",
       "<!-- 2642692677968* -->\n",
       "<g id=\"node7\" class=\"node\">\n",
       "<title>2642692677968*</title>\n",
       "<ellipse fill=\"none\" stroke=\"black\" cx=\"897\" cy=\"-99.5\" rx=\"27\" ry=\"18\"/>\n",
       "<text text-anchor=\"middle\" x=\"897\" y=\"-94.08\" font-family=\"Times New Roman,serif\" font-size=\"14.00\">*</text>\n",
       "</g>\n",
       "<!-- 2642666080848&#45;&gt;2642692677968* -->\n",
       "<g id=\"edge4\" class=\"edge\">\n",
       "<title>2642666080848&#45;&gt;2642692677968*</title>\n",
       "<path fill=\"none\" stroke=\"black\" d=\"M834.25,-88.83C843.04,-90.35 851.54,-91.82 859.28,-93.15\"/>\n",
       "<polygon fill=\"black\" stroke=\"black\" points=\"858.44,-96.56 868.89,-94.81 859.63,-89.66 858.44,-96.56\"/>\n",
       "</g>\n",
       "<!-- 2642666080848+ -->\n",
       "<g id=\"node2\" class=\"node\">\n",
       "<title>2642666080848+</title>\n",
       "<ellipse fill=\"none\" stroke=\"black\" cx=\"580.5\" cy=\"-72.5\" rx=\"27\" ry=\"18\"/>\n",
       "<text text-anchor=\"middle\" x=\"580.5\" y=\"-67.08\" font-family=\"Times New Roman,serif\" font-size=\"14.00\">+</text>\n",
       "</g>\n",
       "<!-- 2642666080848+&#45;&gt;2642666080848 -->\n",
       "<g id=\"edge1\" class=\"edge\">\n",
       "<title>2642666080848+&#45;&gt;2642666080848</title>\n",
       "<path fill=\"none\" stroke=\"black\" d=\"M607.65,-72.5C614.8,-72.5 623.01,-72.5 631.75,-72.5\"/>\n",
       "<polygon fill=\"black\" stroke=\"black\" points=\"631.56,-76 641.56,-72.5 631.56,-69 631.56,-76\"/>\n",
       "</g>\n",
       "<!-- 2642675087440 -->\n",
       "<g id=\"node3\" class=\"node\">\n",
       "<title>2642675087440</title>\n",
       "<polygon fill=\"none\" stroke=\"black\" points=\"5.25,-55.5 5.25,-91.5 189.75,-91.5 189.75,-55.5 5.25,-55.5\"/>\n",
       "<text text-anchor=\"middle\" x=\"16.25\" y=\"-68.2\" font-family=\"Times New Roman,serif\" font-size=\"14.00\">a</text>\n",
       "<polyline fill=\"none\" stroke=\"black\" points=\"27.25,-55.75 27.25,-91.5\"/>\n",
       "<text text-anchor=\"middle\" x=\"67.5\" y=\"-68.2\" font-family=\"Times New Roman,serif\" font-size=\"14.00\">data 2.0000</text>\n",
       "<polyline fill=\"none\" stroke=\"black\" points=\"107.75,-55.75 107.75,-91.5\"/>\n",
       "<text text-anchor=\"middle\" x=\"148.75\" y=\"-68.2\" font-family=\"Times New Roman,serif\" font-size=\"14.00\">grad 6.0000</text>\n",
       "</g>\n",
       "<!-- 2642675233232* -->\n",
       "<g id=\"node10\" class=\"node\">\n",
       "<title>2642675233232*</title>\n",
       "<ellipse fill=\"none\" stroke=\"black\" cx=\"258\" cy=\"-45.5\" rx=\"27\" ry=\"18\"/>\n",
       "<text text-anchor=\"middle\" x=\"258\" y=\"-40.08\" font-family=\"Times New Roman,serif\" font-size=\"14.00\">*</text>\n",
       "</g>\n",
       "<!-- 2642675087440&#45;&gt;2642675233232* -->\n",
       "<g id=\"edge7\" class=\"edge\">\n",
       "<title>2642675087440&#45;&gt;2642675233232*</title>\n",
       "<path fill=\"none\" stroke=\"black\" d=\"M190.24,-57.29C200.93,-55.41 211.3,-53.57 220.56,-51.94\"/>\n",
       "<polygon fill=\"black\" stroke=\"black\" points=\"220.91,-55.43 230.15,-50.24 219.69,-48.54 220.91,-55.43\"/>\n",
       "</g>\n",
       "<!-- 2642666272528 -->\n",
       "<g id=\"node4\" class=\"node\">\n",
       "<title>2642666272528</title>\n",
       "<polygon fill=\"none\" stroke=\"black\" points=\"645,-109.5 645,-145.5 832.5,-145.5 832.5,-109.5 645,-109.5\"/>\n",
       "<text text-anchor=\"middle\" x=\"655.25\" y=\"-122.2\" font-family=\"Times New Roman,serif\" font-size=\"14.00\">f</text>\n",
       "<polyline fill=\"none\" stroke=\"black\" points=\"665.5,-109.75 665.5,-145.5\"/>\n",
       "<text text-anchor=\"middle\" x=\"708\" y=\"-122.2\" font-family=\"Times New Roman,serif\" font-size=\"14.00\">data &#45;2.0000</text>\n",
       "<polyline fill=\"none\" stroke=\"black\" points=\"750.5,-109.75 750.5,-145.5\"/>\n",
       "<text text-anchor=\"middle\" x=\"791.5\" y=\"-122.2\" font-family=\"Times New Roman,serif\" font-size=\"14.00\">grad 4.0000</text>\n",
       "</g>\n",
       "<!-- 2642666272528&#45;&gt;2642692677968* -->\n",
       "<g id=\"edge5\" class=\"edge\">\n",
       "<title>2642666272528&#45;&gt;2642692677968*</title>\n",
       "<path fill=\"none\" stroke=\"black\" d=\"M832.9,-110.81C842.21,-109.14 851.22,-107.52 859.38,-106.06\"/>\n",
       "<polygon fill=\"black\" stroke=\"black\" points=\"859.95,-109.52 869.18,-104.31 858.71,-102.63 859.95,-109.52\"/>\n",
       "</g>\n",
       "<!-- 2642692436240 -->\n",
       "<g id=\"node5\" class=\"node\">\n",
       "<title>2642692436240</title>\n",
       "<polygon fill=\"none\" stroke=\"black\" points=\"0,-0.5 0,-36.5 195,-36.5 195,-0.5 0,-0.5\"/>\n",
       "<text text-anchor=\"middle\" x=\"11.75\" y=\"-13.2\" font-family=\"Times New Roman,serif\" font-size=\"14.00\">b</text>\n",
       "<polyline fill=\"none\" stroke=\"black\" points=\"23.5,-0.75 23.5,-36.5\"/>\n",
       "<text text-anchor=\"middle\" x=\"66\" y=\"-13.2\" font-family=\"Times New Roman,serif\" font-size=\"14.00\">data &#45;3.0000</text>\n",
       "<polyline fill=\"none\" stroke=\"black\" points=\"108.5,-0.75 108.5,-36.5\"/>\n",
       "<text text-anchor=\"middle\" x=\"151.75\" y=\"-13.2\" font-family=\"Times New Roman,serif\" font-size=\"14.00\">grad &#45;4.0000</text>\n",
       "</g>\n",
       "<!-- 2642692436240&#45;&gt;2642675233232* -->\n",
       "<g id=\"edge6\" class=\"edge\">\n",
       "<title>2642692436240&#45;&gt;2642675233232*</title>\n",
       "<path fill=\"none\" stroke=\"black\" d=\"M195.27,-34.98C204.08,-36.49 212.6,-37.94 220.34,-39.25\"/>\n",
       "<polygon fill=\"black\" stroke=\"black\" points=\"219.49,-42.66 229.94,-40.89 220.67,-35.76 219.49,-42.66\"/>\n",
       "</g>\n",
       "<!-- 2642692677968 -->\n",
       "<g id=\"node6\" class=\"node\">\n",
       "<title>2642692677968</title>\n",
       "<polygon fill=\"none\" stroke=\"black\" points=\"960,-81.5 960,-117.5 1151.25,-117.5 1151.25,-81.5 960,-81.5\"/>\n",
       "<text text-anchor=\"middle\" x=\"972.12\" y=\"-94.2\" font-family=\"Times New Roman,serif\" font-size=\"14.00\">L</text>\n",
       "<polyline fill=\"none\" stroke=\"black\" points=\"984.25,-81.75 984.25,-117.5\"/>\n",
       "<text text-anchor=\"middle\" x=\"1026.75\" y=\"-94.2\" font-family=\"Times New Roman,serif\" font-size=\"14.00\">data &#45;8.0000</text>\n",
       "<polyline fill=\"none\" stroke=\"black\" points=\"1069.25,-81.75 1069.25,-117.5\"/>\n",
       "<text text-anchor=\"middle\" x=\"1110.25\" y=\"-94.2\" font-family=\"Times New Roman,serif\" font-size=\"14.00\">grad 1.0000</text>\n",
       "</g>\n",
       "<!-- 2642692677968*&#45;&gt;2642692677968 -->\n",
       "<g id=\"edge2\" class=\"edge\">\n",
       "<title>2642692677968*&#45;&gt;2642692677968</title>\n",
       "<path fill=\"none\" stroke=\"black\" d=\"M924.22,-99.5C931.38,-99.5 939.61,-99.5 948.37,-99.5\"/>\n",
       "<polygon fill=\"black\" stroke=\"black\" points=\"948.21,-103 958.21,-99.5 948.21,-96 948.21,-103\"/>\n",
       "</g>\n",
       "<!-- 2642692278736 -->\n",
       "<g id=\"node8\" class=\"node\">\n",
       "<title>2642692278736</title>\n",
       "<polygon fill=\"none\" stroke=\"black\" points=\"321,-82.5 321,-118.5 517.5,-118.5 517.5,-82.5 321,-82.5\"/>\n",
       "<text text-anchor=\"middle\" x=\"332.38\" y=\"-95.2\" font-family=\"Times New Roman,serif\" font-size=\"14.00\">c</text>\n",
       "<polyline fill=\"none\" stroke=\"black\" points=\"343.75,-82.75 343.75,-118.5\"/>\n",
       "<text text-anchor=\"middle\" x=\"387.38\" y=\"-95.2\" font-family=\"Times New Roman,serif\" font-size=\"14.00\">data 10.0000</text>\n",
       "<polyline fill=\"none\" stroke=\"black\" points=\"431,-82.75 431,-118.5\"/>\n",
       "<text text-anchor=\"middle\" x=\"474.25\" y=\"-95.2\" font-family=\"Times New Roman,serif\" font-size=\"14.00\">grad &#45;2.0000</text>\n",
       "</g>\n",
       "<!-- 2642692278736&#45;&gt;2642666080848+ -->\n",
       "<g id=\"edge8\" class=\"edge\">\n",
       "<title>2642692278736&#45;&gt;2642666080848+</title>\n",
       "<path fill=\"none\" stroke=\"black\" d=\"M517.93,-83.33C526.63,-81.8 535.03,-80.32 542.68,-78.97\"/>\n",
       "<polygon fill=\"black\" stroke=\"black\" points=\"543.29,-82.42 552.53,-77.24 542.08,-75.53 543.29,-82.42\"/>\n",
       "</g>\n",
       "<!-- 2642675233232 -->\n",
       "<g id=\"node9\" class=\"node\">\n",
       "<title>2642675233232</title>\n",
       "<polygon fill=\"none\" stroke=\"black\" points=\"322.5,-27.5 322.5,-63.5 516,-63.5 516,-27.5 322.5,-27.5\"/>\n",
       "<text text-anchor=\"middle\" x=\"333.5\" y=\"-40.2\" font-family=\"Times New Roman,serif\" font-size=\"14.00\">e</text>\n",
       "<polyline fill=\"none\" stroke=\"black\" points=\"344.5,-27.75 344.5,-63.5\"/>\n",
       "<text text-anchor=\"middle\" x=\"387\" y=\"-40.2\" font-family=\"Times New Roman,serif\" font-size=\"14.00\">data &#45;6.0000</text>\n",
       "<polyline fill=\"none\" stroke=\"black\" points=\"429.5,-27.75 429.5,-63.5\"/>\n",
       "<text text-anchor=\"middle\" x=\"472.75\" y=\"-40.2\" font-family=\"Times New Roman,serif\" font-size=\"14.00\">grad &#45;2.0000</text>\n",
       "</g>\n",
       "<!-- 2642675233232&#45;&gt;2642666080848+ -->\n",
       "<g id=\"edge9\" class=\"edge\">\n",
       "<title>2642675233232&#45;&gt;2642666080848+</title>\n",
       "<path fill=\"none\" stroke=\"black\" d=\"M516.1,-61.75C525.4,-63.33 534.38,-64.85 542.53,-66.23\"/>\n",
       "<polygon fill=\"black\" stroke=\"black\" points=\"541.85,-69.67 552.3,-67.89 543.02,-62.77 541.85,-69.67\"/>\n",
       "</g>\n",
       "<!-- 2642675233232*&#45;&gt;2642675233232 -->\n",
       "<g id=\"edge3\" class=\"edge\">\n",
       "<title>2642675233232*&#45;&gt;2642675233232</title>\n",
       "<path fill=\"none\" stroke=\"black\" d=\"M285.3,-45.5C292.77,-45.5 301.4,-45.5 310.61,-45.5\"/>\n",
       "<polygon fill=\"black\" stroke=\"black\" points=\"310.57,-49 320.57,-45.5 310.57,-42 310.57,-49\"/>\n",
       "</g>\n",
       "</g>\n",
       "</svg>\n"
      ],
      "text/plain": [
       "<graphviz.graphs.Digraph at 0x2674b39fe10>"
      ]
     },
     "execution_count": 16,
     "metadata": {},
     "output_type": "execute_result"
    }
   ],
   "source": [
    "draw_dot(L)"
   ]
  },
  {
   "cell_type": "code",
   "execution_count": null,
   "metadata": {
    "id": "tDXeNanGkTxE",
    "outputId": "b283ac80-8d89-4e40-a246-1a067ffefe42"
   },
   "outputs": [
    {
     "name": "stdout",
     "output_type": "stream",
     "text": [
      "-8.726303999999999\n"
     ]
    }
   ],
   "source": [
    "a.data -= 0.01 * a.grad\n",
    "b.data -= 0.01 * b.grad\n",
    "c.data -= 0.01 * c.grad\n",
    "f.data -= 0.01 * f.grad\n",
    "\n",
    "e = a * b\n",
    "d = e + c\n",
    "L = d * f\n",
    "\n",
    "print(L.data)"
   ]
  },
  {
   "cell_type": "code",
   "execution_count": null,
   "metadata": {
    "id": "AJUXohbkkTxE",
    "outputId": "45cd71ee-6e49-42f4-8ccc-079651975336"
   },
   "outputs": [
    {
     "data": {
      "image/png": "[encoded data removed]",
      "text/plain": [
       "<Figure size 640x480 with 1 Axes>"
      ]
     },
     "metadata": {},
     "output_type": "display_data"
    }
   ],
   "source": [
    "plt.plot(np.arange(-5, 5, 0.2), np.tanh(np.arange(-5, 5, 0.2)))\n",
    "plt.grid()"
   ]
  },
  {
   "cell_type": "code",
   "execution_count": null,
   "metadata": {
    "id": "IBsK2FBNkTxE"
   },
   "outputs": [],
   "source": [
    "# inputs x1,x2\n",
    "x1 = Value(2.0, label=\"x1\")\n",
    "x2 = Value(0.0, label=\"x2\")\n",
    "# weights w1,w2\n",
    "w1 = Value(-3.0, label=\"w1\")\n",
    "w2 = Value(1.0, label=\"w2\")\n",
    "# bias of the neuron\n",
    "b = Value(6.8813735870195432, label=\"b\")\n",
    "# x1*w1 + x2*w2 + b\n",
    "x1w1 = x1 * w1\n",
    "x1w1.label = \"x1*w1\"\n",
    "x2w2 = x2 * w2\n",
    "x2w2.label = \"x2*w2\"\n",
    "x1w1x2w2 = x1w1 + x2w2\n",
    "x1w1x2w2.label = \"x1*w1 + x2*w2\"\n",
    "n = x1w1x2w2 + b\n",
    "n.label = \"n\"\n",
    "o = n.tanh()\n",
    "o.label = \"o\""
   ]
  },
  {
   "cell_type": "code",
   "execution_count": null,
   "metadata": {
    "id": "ZqPRxN8SkTxH",
    "outputId": "260398ad-bcf1-4ec7-c03e-9d6e940dd318"
   },
   "outputs": [
    {
     "data": {
      "image/svg+xml": [
       "<?xml version=\"1.0\" encoding=\"UTF-8\" standalone=\"no\"?>\n",
       "<!DOCTYPE svg PUBLIC \"-//W3C//DTD SVG 1.1//EN\"\n",
       " \"http://www.w3.org/Graphics/SVG/1.1/DTD/svg11.dtd\">\n",
       "<!-- Generated by graphviz version 9.0.0 (20230911.1827)\n",
       " -->\n",
       "<!-- Pages: 1 -->\n",
       "<svg width=\"1575pt\" height=\"210pt\"\n",
       " viewBox=\"0.00 0.00 1574.75 210.00\" xmlns=\"http://www.w3.org/2000/svg\" xmlns:xlink=\"http://www.w3.org/1999/xlink\">\n",
       "<g id=\"graph0\" class=\"graph\" transform=\"scale(1 1) rotate(0) translate(4 206)\">\n",
       "<polygon fill=\"white\" stroke=\"none\" points=\"-4,4 -4,-206 1570.75,-206 1570.75,4 -4,4\"/>\n",
       "<!-- 2642693467216 -->\n",
       "<g id=\"node1\" class=\"node\">\n",
       "<title>2642693467216</title>\n",
       "<polygon fill=\"none\" stroke=\"black\" points=\"3.75,-165.5 3.75,-201.5 195.75,-201.5 195.75,-165.5 3.75,-165.5\"/>\n",
       "<text text-anchor=\"middle\" x=\"18.5\" y=\"-178.2\" font-family=\"Times New Roman,serif\" font-size=\"14.00\">x1</text>\n",
       "<polyline fill=\"none\" stroke=\"black\" points=\"33.25,-165.75 33.25,-201.5\"/>\n",
       "<text text-anchor=\"middle\" x=\"73.5\" y=\"-178.2\" font-family=\"Times New Roman,serif\" font-size=\"14.00\">data 2.0000</text>\n",
       "<polyline fill=\"none\" stroke=\"black\" points=\"113.75,-165.75 113.75,-201.5\"/>\n",
       "<text text-anchor=\"middle\" x=\"154.75\" y=\"-178.2\" font-family=\"Times New Roman,serif\" font-size=\"14.00\">grad 0.0000</text>\n",
       "</g>\n",
       "<!-- 2642693397904* -->\n",
       "<g id=\"node11\" class=\"node\">\n",
       "<title>2642693397904*</title>\n",
       "<ellipse fill=\"none\" stroke=\"black\" cx=\"262.5\" cy=\"-128.5\" rx=\"27\" ry=\"18\"/>\n",
       "<text text-anchor=\"middle\" x=\"262.5\" y=\"-123.08\" font-family=\"Times New Roman,serif\" font-size=\"14.00\">*</text>\n",
       "</g>\n",
       "<!-- 2642693467216&#45;&gt;2642693397904* -->\n",
       "<g id=\"edge10\" class=\"edge\">\n",
       "<title>2642693467216&#45;&gt;2642693397904*</title>\n",
       "<path fill=\"none\" stroke=\"black\" d=\"M173.43,-165.03C182.28,-162.37 191.14,-159.51 199.5,-156.5 209.59,-152.87 220.33,-148.29 229.98,-143.89\"/>\n",
       "<polygon fill=\"black\" stroke=\"black\" points=\"231.37,-147.1 238.95,-139.7 228.41,-140.76 231.37,-147.1\"/>\n",
       "</g>\n",
       "<!-- 2642666443664 -->\n",
       "<g id=\"node2\" class=\"node\">\n",
       "<title>2642666443664</title>\n",
       "<polygon fill=\"none\" stroke=\"black\" points=\"0,-110.5 0,-146.5 199.5,-146.5 199.5,-110.5 0,-110.5\"/>\n",
       "<text text-anchor=\"middle\" x=\"16.25\" y=\"-123.2\" font-family=\"Times New Roman,serif\" font-size=\"14.00\">w1</text>\n",
       "<polyline fill=\"none\" stroke=\"black\" points=\"32.5,-110.75 32.5,-146.5\"/>\n",
       "<text text-anchor=\"middle\" x=\"75\" y=\"-123.2\" font-family=\"Times New Roman,serif\" font-size=\"14.00\">data &#45;3.0000</text>\n",
       "<polyline fill=\"none\" stroke=\"black\" points=\"117.5,-110.75 117.5,-146.5\"/>\n",
       "<text text-anchor=\"middle\" x=\"158.5\" y=\"-123.2\" font-family=\"Times New Roman,serif\" font-size=\"14.00\">grad 0.0000</text>\n",
       "</g>\n",
       "<!-- 2642666443664&#45;&gt;2642693397904* -->\n",
       "<g id=\"edge13\" class=\"edge\">\n",
       "<title>2642666443664&#45;&gt;2642693397904*</title>\n",
       "<path fill=\"none\" stroke=\"black\" d=\"M199.81,-128.5C208.19,-128.5 216.28,-128.5 223.69,-128.5\"/>\n",
       "<polygon fill=\"black\" stroke=\"black\" points=\"223.58,-132 233.58,-128.5 223.58,-125 223.58,-132\"/>\n",
       "</g>\n",
       "<!-- 2642693401232 -->\n",
       "<g id=\"node3\" class=\"node\">\n",
       "<title>2642693401232</title>\n",
       "<polygon fill=\"none\" stroke=\"black\" points=\"714.38,-27.5 714.38,-63.5 900.38,-63.5 900.38,-27.5 714.38,-27.5\"/>\n",
       "<text text-anchor=\"middle\" x=\"726.12\" y=\"-40.2\" font-family=\"Times New Roman,serif\" font-size=\"14.00\">b</text>\n",
       "<polyline fill=\"none\" stroke=\"black\" points=\"737.88,-27.75 737.88,-63.5\"/>\n",
       "<text text-anchor=\"middle\" x=\"778.12\" y=\"-40.2\" font-family=\"Times New Roman,serif\" font-size=\"14.00\">data 6.8814</text>\n",
       "<polyline fill=\"none\" stroke=\"black\" points=\"818.38,-27.75 818.38,-63.5\"/>\n",
       "<text text-anchor=\"middle\" x=\"859.38\" y=\"-40.2\" font-family=\"Times New Roman,serif\" font-size=\"14.00\">grad 0.0000</text>\n",
       "</g>\n",
       "<!-- 2642693469968+ -->\n",
       "<g id=\"node6\" class=\"node\">\n",
       "<title>2642693469968+</title>\n",
       "<ellipse fill=\"none\" stroke=\"black\" cx=\"1006.5\" cy=\"-72.5\" rx=\"27\" ry=\"18\"/>\n",
       "<text text-anchor=\"middle\" x=\"1006.5\" y=\"-67.08\" font-family=\"Times New Roman,serif\" font-size=\"14.00\">+</text>\n",
       "</g>\n",
       "<!-- 2642693401232&#45;&gt;2642693469968+ -->\n",
       "<g id=\"edge8\" class=\"edge\">\n",
       "<title>2642693401232&#45;&gt;2642693469968+</title>\n",
       "<path fill=\"none\" stroke=\"black\" d=\"M900.59,-58.13C924.65,-61.43 949.22,-64.79 968.53,-67.44\"/>\n",
       "<polygon fill=\"black\" stroke=\"black\" points=\"967.94,-70.89 978.32,-68.78 968.89,-63.95 967.94,-70.89\"/>\n",
       "</g>\n",
       "<!-- 2642693403600 -->\n",
       "<g id=\"node4\" class=\"node\">\n",
       "<title>2642693403600</title>\n",
       "<polygon fill=\"none\" stroke=\"black\" points=\"2.25,-55.5 2.25,-91.5 197.25,-91.5 197.25,-55.5 2.25,-55.5\"/>\n",
       "<text text-anchor=\"middle\" x=\"18.5\" y=\"-68.2\" font-family=\"Times New Roman,serif\" font-size=\"14.00\">w2</text>\n",
       "<polyline fill=\"none\" stroke=\"black\" points=\"34.75,-55.75 34.75,-91.5\"/>\n",
       "<text text-anchor=\"middle\" x=\"75\" y=\"-68.2\" font-family=\"Times New Roman,serif\" font-size=\"14.00\">data 1.0000</text>\n",
       "<polyline fill=\"none\" stroke=\"black\" points=\"115.25,-55.75 115.25,-91.5\"/>\n",
       "<text text-anchor=\"middle\" x=\"156.25\" y=\"-68.2\" font-family=\"Times New Roman,serif\" font-size=\"14.00\">grad 0.0000</text>\n",
       "</g>\n",
       "<!-- 2642693396304* -->\n",
       "<g id=\"node8\" class=\"node\">\n",
       "<title>2642693396304*</title>\n",
       "<ellipse fill=\"none\" stroke=\"black\" cx=\"262.5\" cy=\"-73.5\" rx=\"27\" ry=\"18\"/>\n",
       "<text text-anchor=\"middle\" x=\"262.5\" y=\"-68.08\" font-family=\"Times New Roman,serif\" font-size=\"14.00\">*</text>\n",
       "</g>\n",
       "<!-- 2642693403600&#45;&gt;2642693396304* -->\n",
       "<g id=\"edge9\" class=\"edge\">\n",
       "<title>2642693403600&#45;&gt;2642693396304*</title>\n",
       "<path fill=\"none\" stroke=\"black\" d=\"M197.51,-73.5C206.8,-73.5 215.79,-73.5 223.94,-73.5\"/>\n",
       "<polygon fill=\"black\" stroke=\"black\" points=\"223.72,-77 233.72,-73.5 223.72,-70 223.72,-77\"/>\n",
       "</g>\n",
       "<!-- 2642693469968 -->\n",
       "<g id=\"node5\" class=\"node\">\n",
       "<title>2642693469968</title>\n",
       "<polygon fill=\"none\" stroke=\"black\" points=\"1069.5,-54.5 1069.5,-90.5 1254.75,-90.5 1254.75,-54.5 1069.5,-54.5\"/>\n",
       "<text text-anchor=\"middle\" x=\"1080.88\" y=\"-67.2\" font-family=\"Times New Roman,serif\" font-size=\"14.00\">n</text>\n",
       "<polyline fill=\"none\" stroke=\"black\" points=\"1092.25,-54.75 1092.25,-90.5\"/>\n",
       "<text text-anchor=\"middle\" x=\"1132.5\" y=\"-67.2\" font-family=\"Times New Roman,serif\" font-size=\"14.00\">data 0.8814</text>\n",
       "<polyline fill=\"none\" stroke=\"black\" points=\"1172.75,-54.75 1172.75,-90.5\"/>\n",
       "<text text-anchor=\"middle\" x=\"1213.75\" y=\"-67.2\" font-family=\"Times New Roman,serif\" font-size=\"14.00\">grad 0.0000</text>\n",
       "</g>\n",
       "<!-- 2642661510096tanh -->\n",
       "<g id=\"node13\" class=\"node\">\n",
       "<title>2642661510096tanh</title>\n",
       "<ellipse fill=\"none\" stroke=\"black\" cx=\"1317.75\" cy=\"-72.5\" rx=\"27\" ry=\"18\"/>\n",
       "<text text-anchor=\"middle\" x=\"1317.75\" y=\"-67.08\" font-family=\"Times New Roman,serif\" font-size=\"14.00\">tanh</text>\n",
       "</g>\n",
       "<!-- 2642693469968&#45;&gt;2642661510096tanh -->\n",
       "<g id=\"edge6\" class=\"edge\">\n",
       "<title>2642693469968&#45;&gt;2642661510096tanh</title>\n",
       "<path fill=\"none\" stroke=\"black\" d=\"M1255.15,-72.5C1263.52,-72.5 1271.64,-72.5 1279.09,-72.5\"/>\n",
       "<polygon fill=\"black\" stroke=\"black\" points=\"1279.03,-76 1289.03,-72.5 1279.03,-69 1279.03,-76\"/>\n",
       "</g>\n",
       "<!-- 2642693469968+&#45;&gt;2642693469968 -->\n",
       "<g id=\"edge1\" class=\"edge\">\n",
       "<title>2642693469968+&#45;&gt;2642693469968</title>\n",
       "<path fill=\"none\" stroke=\"black\" d=\"M1033.91,-72.5C1040.95,-72.5 1049,-72.5 1057.55,-72.5\"/>\n",
       "<polygon fill=\"black\" stroke=\"black\" points=\"1057.54,-76 1067.54,-72.5 1057.54,-69 1057.54,-76\"/>\n",
       "</g>\n",
       "<!-- 2642693396304 -->\n",
       "<g id=\"node7\" class=\"node\">\n",
       "<title>2642693396304</title>\n",
       "<polygon fill=\"none\" stroke=\"black\" points=\"327.75,-55.5 327.75,-91.5 543,-91.5 543,-55.5 327.75,-55.5\"/>\n",
       "<text text-anchor=\"middle\" x=\"354.12\" y=\"-68.2\" font-family=\"Times New Roman,serif\" font-size=\"14.00\">x2*w2</text>\n",
       "<polyline fill=\"none\" stroke=\"black\" points=\"380.5,-55.75 380.5,-91.5\"/>\n",
       "<text text-anchor=\"middle\" x=\"420.75\" y=\"-68.2\" font-family=\"Times New Roman,serif\" font-size=\"14.00\">data 0.0000</text>\n",
       "<polyline fill=\"none\" stroke=\"black\" points=\"461,-55.75 461,-91.5\"/>\n",
       "<text text-anchor=\"middle\" x=\"502\" y=\"-68.2\" font-family=\"Times New Roman,serif\" font-size=\"14.00\">grad 0.0000</text>\n",
       "</g>\n",
       "<!-- 2642693397456+ -->\n",
       "<g id=\"node15\" class=\"node\">\n",
       "<title>2642693397456+</title>\n",
       "<ellipse fill=\"none\" stroke=\"black\" cx=\"608.25\" cy=\"-100.5\" rx=\"27\" ry=\"18\"/>\n",
       "<text text-anchor=\"middle\" x=\"608.25\" y=\"-95.08\" font-family=\"Times New Roman,serif\" font-size=\"14.00\">+</text>\n",
       "</g>\n",
       "<!-- 2642693396304&#45;&gt;2642693397456+ -->\n",
       "<g id=\"edge7\" class=\"edge\">\n",
       "<title>2642693396304&#45;&gt;2642693397456+</title>\n",
       "<path fill=\"none\" stroke=\"black\" d=\"M543.14,-90.37C552.77,-91.89 562.01,-93.35 570.33,-94.67\"/>\n",
       "<polygon fill=\"black\" stroke=\"black\" points=\"569.51,-98.08 579.94,-96.18 570.61,-91.17 569.51,-98.08\"/>\n",
       "</g>\n",
       "<!-- 2642693396304*&#45;&gt;2642693396304 -->\n",
       "<g id=\"edge2\" class=\"edge\">\n",
       "<title>2642693396304*&#45;&gt;2642693396304</title>\n",
       "<path fill=\"none\" stroke=\"black\" d=\"M289.82,-73.5C297.5,-73.5 306.41,-73.5 315.98,-73.5\"/>\n",
       "<polygon fill=\"black\" stroke=\"black\" points=\"315.97,-77 325.97,-73.5 315.97,-70 315.97,-77\"/>\n",
       "</g>\n",
       "<!-- 2642692337488 -->\n",
       "<g id=\"node9\" class=\"node\">\n",
       "<title>2642692337488</title>\n",
       "<polygon fill=\"none\" stroke=\"black\" points=\"3.75,-0.5 3.75,-36.5 195.75,-36.5 195.75,-0.5 3.75,-0.5\"/>\n",
       "<text text-anchor=\"middle\" x=\"18.5\" y=\"-13.2\" font-family=\"Times New Roman,serif\" font-size=\"14.00\">x2</text>\n",
       "<polyline fill=\"none\" stroke=\"black\" points=\"33.25,-0.75 33.25,-36.5\"/>\n",
       "<text text-anchor=\"middle\" x=\"73.5\" y=\"-13.2\" font-family=\"Times New Roman,serif\" font-size=\"14.00\">data 0.0000</text>\n",
       "<polyline fill=\"none\" stroke=\"black\" points=\"113.75,-0.75 113.75,-36.5\"/>\n",
       "<text text-anchor=\"middle\" x=\"154.75\" y=\"-13.2\" font-family=\"Times New Roman,serif\" font-size=\"14.00\">grad 0.0000</text>\n",
       "</g>\n",
       "<!-- 2642692337488&#45;&gt;2642693396304* -->\n",
       "<g id=\"edge11\" class=\"edge\">\n",
       "<title>2642692337488&#45;&gt;2642693396304*</title>\n",
       "<path fill=\"none\" stroke=\"black\" d=\"M170.45,-36.99C180.27,-39.97 190.19,-43.17 199.5,-46.5 209.46,-50.06 220.09,-54.46 229.68,-58.67\"/>\n",
       "<polygon fill=\"black\" stroke=\"black\" points=\"228.04,-61.77 238.6,-62.66 230.9,-55.38 228.04,-61.77\"/>\n",
       "</g>\n",
       "<!-- 2642693397904 -->\n",
       "<g id=\"node10\" class=\"node\">\n",
       "<title>2642693397904</title>\n",
       "<polygon fill=\"none\" stroke=\"black\" points=\"325.5,-110.5 325.5,-146.5 545.25,-146.5 545.25,-110.5 325.5,-110.5\"/>\n",
       "<text text-anchor=\"middle\" x=\"351.88\" y=\"-123.2\" font-family=\"Times New Roman,serif\" font-size=\"14.00\">x1*w1</text>\n",
       "<polyline fill=\"none\" stroke=\"black\" points=\"378.25,-110.75 378.25,-146.5\"/>\n",
       "<text text-anchor=\"middle\" x=\"420.75\" y=\"-123.2\" font-family=\"Times New Roman,serif\" font-size=\"14.00\">data &#45;6.0000</text>\n",
       "<polyline fill=\"none\" stroke=\"black\" points=\"463.25,-110.75 463.25,-146.5\"/>\n",
       "<text text-anchor=\"middle\" x=\"504.25\" y=\"-123.2\" font-family=\"Times New Roman,serif\" font-size=\"14.00\">grad 0.0000</text>\n",
       "</g>\n",
       "<!-- 2642693397904&#45;&gt;2642693397456+ -->\n",
       "<g id=\"edge14\" class=\"edge\">\n",
       "<title>2642693397904&#45;&gt;2642693397456+</title>\n",
       "<path fill=\"none\" stroke=\"black\" d=\"M545.56,-110.61C554.32,-109.17 562.71,-107.8 570.34,-106.55\"/>\n",
       "<polygon fill=\"black\" stroke=\"black\" points=\"570.83,-110.02 580.13,-104.94 569.69,-103.11 570.83,-110.02\"/>\n",
       "</g>\n",
       "<!-- 2642693397904*&#45;&gt;2642693397904 -->\n",
       "<g id=\"edge3\" class=\"edge\">\n",
       "<title>2642693397904*&#45;&gt;2642693397904</title>\n",
       "<path fill=\"none\" stroke=\"black\" d=\"M289.82,-128.5C296.93,-128.5 305.11,-128.5 313.89,-128.5\"/>\n",
       "<polygon fill=\"black\" stroke=\"black\" points=\"313.78,-132 323.78,-128.5 313.78,-125 313.78,-132\"/>\n",
       "</g>\n",
       "<!-- 2642661510096 -->\n",
       "<g id=\"node12\" class=\"node\">\n",
       "<title>2642661510096</title>\n",
       "<polygon fill=\"none\" stroke=\"black\" points=\"1380.75,-54.5 1380.75,-90.5 1566.75,-90.5 1566.75,-54.5 1380.75,-54.5\"/>\n",
       "<text text-anchor=\"middle\" x=\"1392.5\" y=\"-67.2\" font-family=\"Times New Roman,serif\" font-size=\"14.00\">o</text>\n",
       "<polyline fill=\"none\" stroke=\"black\" points=\"1404.25,-54.75 1404.25,-90.5\"/>\n",
       "<text text-anchor=\"middle\" x=\"1444.5\" y=\"-67.2\" font-family=\"Times New Roman,serif\" font-size=\"14.00\">data 0.7071</text>\n",
       "<polyline fill=\"none\" stroke=\"black\" points=\"1484.75,-54.75 1484.75,-90.5\"/>\n",
       "<text text-anchor=\"middle\" x=\"1525.75\" y=\"-67.2\" font-family=\"Times New Roman,serif\" font-size=\"14.00\">grad 0.0000</text>\n",
       "</g>\n",
       "<!-- 2642661510096tanh&#45;&gt;2642661510096 -->\n",
       "<g id=\"edge4\" class=\"edge\">\n",
       "<title>2642661510096tanh&#45;&gt;2642661510096</title>\n",
       "<path fill=\"none\" stroke=\"black\" d=\"M1345.22,-72.5C1352.36,-72.5 1360.53,-72.5 1369.21,-72.5\"/>\n",
       "<polygon fill=\"black\" stroke=\"black\" points=\"1368.94,-76 1378.94,-72.5 1368.94,-69 1368.94,-76\"/>\n",
       "</g>\n",
       "<!-- 2642693397456 -->\n",
       "<g id=\"node14\" class=\"node\">\n",
       "<title>2642693397456</title>\n",
       "<polygon fill=\"none\" stroke=\"black\" points=\"671.25,-82.5 671.25,-118.5 943.5,-118.5 943.5,-82.5 671.25,-82.5\"/>\n",
       "<text text-anchor=\"middle\" x=\"723.88\" y=\"-95.2\" font-family=\"Times New Roman,serif\" font-size=\"14.00\">x1*w1 + x2*w2</text>\n",
       "<polyline fill=\"none\" stroke=\"black\" points=\"776.5,-82.75 776.5,-118.5\"/>\n",
       "<text text-anchor=\"middle\" x=\"819\" y=\"-95.2\" font-family=\"Times New Roman,serif\" font-size=\"14.00\">data &#45;6.0000</text>\n",
       "<polyline fill=\"none\" stroke=\"black\" points=\"861.5,-82.75 861.5,-118.5\"/>\n",
       "<text text-anchor=\"middle\" x=\"902.5\" y=\"-95.2\" font-family=\"Times New Roman,serif\" font-size=\"14.00\">grad 0.0000</text>\n",
       "</g>\n",
       "<!-- 2642693397456&#45;&gt;2642693469968+ -->\n",
       "<g id=\"edge12\" class=\"edge\">\n",
       "<title>2642693397456&#45;&gt;2642693469968+</title>\n",
       "<path fill=\"none\" stroke=\"black\" d=\"M938.49,-82.02C949.28,-80.49 959.5,-79.03 968.57,-77.75\"/>\n",
       "<polygon fill=\"black\" stroke=\"black\" points=\"968.86,-81.24 978.27,-76.37 967.87,-74.31 968.86,-81.24\"/>\n",
       "</g>\n",
       "<!-- 2642693397456+&#45;&gt;2642693397456 -->\n",
       "<g id=\"edge5\" class=\"edge\">\n",
       "<title>2642693397456+&#45;&gt;2642693397456</title>\n",
       "<path fill=\"none\" stroke=\"black\" d=\"M635.43,-100.5C642.57,-100.5 650.85,-100.5 659.84,-100.5\"/>\n",
       "<polygon fill=\"black\" stroke=\"black\" points=\"659.6,-104 669.6,-100.5 659.6,-97 659.6,-104\"/>\n",
       "</g>\n",
       "</g>\n",
       "</svg>\n"
      ],
      "text/plain": [
       "<graphviz.graphs.Digraph at 0x2674ccdc3d0>"
      ]
     },
     "execution_count": 20,
     "metadata": {},
     "output_type": "execute_result"
    }
   ],
   "source": [
    "draw_dot(o)"
   ]
  },
  {
   "cell_type": "code",
   "execution_count": null,
   "metadata": {
    "id": "KjntROUzkTxH"
   },
   "outputs": [],
   "source": [
    "o.backward()"
   ]
  },
  {
   "cell_type": "code",
   "execution_count": null,
   "metadata": {
    "id": "TF6EGSdzkTxH",
    "outputId": "e61ec06c-6b86-4947-e256-603970cb6afe"
   },
   "outputs": [
    {
     "data": {
      "image/svg+xml": [
       "<?xml version=\"1.0\" encoding=\"UTF-8\" standalone=\"no\"?>\n",
       "<!DOCTYPE svg PUBLIC \"-//W3C//DTD SVG 1.1//EN\"\n",
       " \"http://www.w3.org/Graphics/SVG/1.1/DTD/svg11.dtd\">\n",
       "<!-- Generated by graphviz version 9.0.0 (20230911.1827)\n",
       " -->\n",
       "<!-- Pages: 1 -->\n",
       "<svg width=\"1575pt\" height=\"210pt\"\n",
       " viewBox=\"0.00 0.00 1574.75 210.00\" xmlns=\"http://www.w3.org/2000/svg\" xmlns:xlink=\"http://www.w3.org/1999/xlink\">\n",
       "<g id=\"graph0\" class=\"graph\" transform=\"scale(1 1) rotate(0) translate(4 206)\">\n",
       "<polygon fill=\"white\" stroke=\"none\" points=\"-4,4 -4,-206 1570.75,-206 1570.75,4 -4,4\"/>\n",
       "<!-- 2642693467216 -->\n",
       "<g id=\"node1\" class=\"node\">\n",
       "<title>2642693467216</title>\n",
       "<polygon fill=\"none\" stroke=\"black\" points=\"1.5,-165.5 1.5,-201.5 198,-201.5 198,-165.5 1.5,-165.5\"/>\n",
       "<text text-anchor=\"middle\" x=\"16.25\" y=\"-178.2\" font-family=\"Times New Roman,serif\" font-size=\"14.00\">x1</text>\n",
       "<polyline fill=\"none\" stroke=\"black\" points=\"31,-165.75 31,-201.5\"/>\n",
       "<text text-anchor=\"middle\" x=\"71.25\" y=\"-178.2\" font-family=\"Times New Roman,serif\" font-size=\"14.00\">data 2.0000</text>\n",
       "<polyline fill=\"none\" stroke=\"black\" points=\"111.5,-165.75 111.5,-201.5\"/>\n",
       "<text text-anchor=\"middle\" x=\"154.75\" y=\"-178.2\" font-family=\"Times New Roman,serif\" font-size=\"14.00\">grad &#45;1.5000</text>\n",
       "</g>\n",
       "<!-- 2642693397904* -->\n",
       "<g id=\"node11\" class=\"node\">\n",
       "<title>2642693397904*</title>\n",
       "<ellipse fill=\"none\" stroke=\"black\" cx=\"262.5\" cy=\"-128.5\" rx=\"27\" ry=\"18\"/>\n",
       "<text text-anchor=\"middle\" x=\"262.5\" y=\"-123.08\" font-family=\"Times New Roman,serif\" font-size=\"14.00\">*</text>\n",
       "</g>\n",
       "<!-- 2642693467216&#45;&gt;2642693397904* -->\n",
       "<g id=\"edge10\" class=\"edge\">\n",
       "<title>2642693467216&#45;&gt;2642693397904*</title>\n",
       "<path fill=\"none\" stroke=\"black\" d=\"M173.43,-165.03C182.28,-162.37 191.14,-159.51 199.5,-156.5 209.59,-152.87 220.33,-148.29 229.98,-143.89\"/>\n",
       "<polygon fill=\"black\" stroke=\"black\" points=\"231.37,-147.1 238.95,-139.7 228.41,-140.76 231.37,-147.1\"/>\n",
       "</g>\n",
       "<!-- 2642666443664 -->\n",
       "<g id=\"node2\" class=\"node\">\n",
       "<title>2642666443664</title>\n",
       "<polygon fill=\"none\" stroke=\"black\" points=\"0,-110.5 0,-146.5 199.5,-146.5 199.5,-110.5 0,-110.5\"/>\n",
       "<text text-anchor=\"middle\" x=\"16.25\" y=\"-123.2\" font-family=\"Times New Roman,serif\" font-size=\"14.00\">w1</text>\n",
       "<polyline fill=\"none\" stroke=\"black\" points=\"32.5,-110.75 32.5,-146.5\"/>\n",
       "<text text-anchor=\"middle\" x=\"75\" y=\"-123.2\" font-family=\"Times New Roman,serif\" font-size=\"14.00\">data &#45;3.0000</text>\n",
       "<polyline fill=\"none\" stroke=\"black\" points=\"117.5,-110.75 117.5,-146.5\"/>\n",
       "<text text-anchor=\"middle\" x=\"158.5\" y=\"-123.2\" font-family=\"Times New Roman,serif\" font-size=\"14.00\">grad 1.0000</text>\n",
       "</g>\n",
       "<!-- 2642666443664&#45;&gt;2642693397904* -->\n",
       "<g id=\"edge13\" class=\"edge\">\n",
       "<title>2642666443664&#45;&gt;2642693397904*</title>\n",
       "<path fill=\"none\" stroke=\"black\" d=\"M199.81,-128.5C208.19,-128.5 216.28,-128.5 223.69,-128.5\"/>\n",
       "<polygon fill=\"black\" stroke=\"black\" points=\"223.58,-132 233.58,-128.5 223.58,-125 223.58,-132\"/>\n",
       "</g>\n",
       "<!-- 2642693401232 -->\n",
       "<g id=\"node3\" class=\"node\">\n",
       "<title>2642693401232</title>\n",
       "<polygon fill=\"none\" stroke=\"black\" points=\"714.38,-27.5 714.38,-63.5 900.38,-63.5 900.38,-27.5 714.38,-27.5\"/>\n",
       "<text text-anchor=\"middle\" x=\"726.12\" y=\"-40.2\" font-family=\"Times New Roman,serif\" font-size=\"14.00\">b</text>\n",
       "<polyline fill=\"none\" stroke=\"black\" points=\"737.88,-27.75 737.88,-63.5\"/>\n",
       "<text text-anchor=\"middle\" x=\"778.12\" y=\"-40.2\" font-family=\"Times New Roman,serif\" font-size=\"14.00\">data 6.8814</text>\n",
       "<polyline fill=\"none\" stroke=\"black\" points=\"818.38,-27.75 818.38,-63.5\"/>\n",
       "<text text-anchor=\"middle\" x=\"859.38\" y=\"-40.2\" font-family=\"Times New Roman,serif\" font-size=\"14.00\">grad 0.5000</text>\n",
       "</g>\n",
       "<!-- 2642693469968+ -->\n",
       "<g id=\"node6\" class=\"node\">\n",
       "<title>2642693469968+</title>\n",
       "<ellipse fill=\"none\" stroke=\"black\" cx=\"1006.5\" cy=\"-72.5\" rx=\"27\" ry=\"18\"/>\n",
       "<text text-anchor=\"middle\" x=\"1006.5\" y=\"-67.08\" font-family=\"Times New Roman,serif\" font-size=\"14.00\">+</text>\n",
       "</g>\n",
       "<!-- 2642693401232&#45;&gt;2642693469968+ -->\n",
       "<g id=\"edge8\" class=\"edge\">\n",
       "<title>2642693401232&#45;&gt;2642693469968+</title>\n",
       "<path fill=\"none\" stroke=\"black\" d=\"M900.59,-58.13C924.65,-61.43 949.22,-64.79 968.53,-67.44\"/>\n",
       "<polygon fill=\"black\" stroke=\"black\" points=\"967.94,-70.89 978.32,-68.78 968.89,-63.95 967.94,-70.89\"/>\n",
       "</g>\n",
       "<!-- 2642693403600 -->\n",
       "<g id=\"node4\" class=\"node\">\n",
       "<title>2642693403600</title>\n",
       "<polygon fill=\"none\" stroke=\"black\" points=\"2.25,-55.5 2.25,-91.5 197.25,-91.5 197.25,-55.5 2.25,-55.5\"/>\n",
       "<text text-anchor=\"middle\" x=\"18.5\" y=\"-68.2\" font-family=\"Times New Roman,serif\" font-size=\"14.00\">w2</text>\n",
       "<polyline fill=\"none\" stroke=\"black\" points=\"34.75,-55.75 34.75,-91.5\"/>\n",
       "<text text-anchor=\"middle\" x=\"75\" y=\"-68.2\" font-family=\"Times New Roman,serif\" font-size=\"14.00\">data 1.0000</text>\n",
       "<polyline fill=\"none\" stroke=\"black\" points=\"115.25,-55.75 115.25,-91.5\"/>\n",
       "<text text-anchor=\"middle\" x=\"156.25\" y=\"-68.2\" font-family=\"Times New Roman,serif\" font-size=\"14.00\">grad 0.0000</text>\n",
       "</g>\n",
       "<!-- 2642693396304* -->\n",
       "<g id=\"node8\" class=\"node\">\n",
       "<title>2642693396304*</title>\n",
       "<ellipse fill=\"none\" stroke=\"black\" cx=\"262.5\" cy=\"-73.5\" rx=\"27\" ry=\"18\"/>\n",
       "<text text-anchor=\"middle\" x=\"262.5\" y=\"-68.08\" font-family=\"Times New Roman,serif\" font-size=\"14.00\">*</text>\n",
       "</g>\n",
       "<!-- 2642693403600&#45;&gt;2642693396304* -->\n",
       "<g id=\"edge9\" class=\"edge\">\n",
       "<title>2642693403600&#45;&gt;2642693396304*</title>\n",
       "<path fill=\"none\" stroke=\"black\" d=\"M197.51,-73.5C206.8,-73.5 215.79,-73.5 223.94,-73.5\"/>\n",
       "<polygon fill=\"black\" stroke=\"black\" points=\"223.72,-77 233.72,-73.5 223.72,-70 223.72,-77\"/>\n",
       "</g>\n",
       "<!-- 2642693469968 -->\n",
       "<g id=\"node5\" class=\"node\">\n",
       "<title>2642693469968</title>\n",
       "<polygon fill=\"none\" stroke=\"black\" points=\"1069.5,-54.5 1069.5,-90.5 1254.75,-90.5 1254.75,-54.5 1069.5,-54.5\"/>\n",
       "<text text-anchor=\"middle\" x=\"1080.88\" y=\"-67.2\" font-family=\"Times New Roman,serif\" font-size=\"14.00\">n</text>\n",
       "<polyline fill=\"none\" stroke=\"black\" points=\"1092.25,-54.75 1092.25,-90.5\"/>\n",
       "<text text-anchor=\"middle\" x=\"1132.5\" y=\"-67.2\" font-family=\"Times New Roman,serif\" font-size=\"14.00\">data 0.8814</text>\n",
       "<polyline fill=\"none\" stroke=\"black\" points=\"1172.75,-54.75 1172.75,-90.5\"/>\n",
       "<text text-anchor=\"middle\" x=\"1213.75\" y=\"-67.2\" font-family=\"Times New Roman,serif\" font-size=\"14.00\">grad 0.5000</text>\n",
       "</g>\n",
       "<!-- 2642661510096tanh -->\n",
       "<g id=\"node13\" class=\"node\">\n",
       "<title>2642661510096tanh</title>\n",
       "<ellipse fill=\"none\" stroke=\"black\" cx=\"1317.75\" cy=\"-72.5\" rx=\"27\" ry=\"18\"/>\n",
       "<text text-anchor=\"middle\" x=\"1317.75\" y=\"-67.08\" font-family=\"Times New Roman,serif\" font-size=\"14.00\">tanh</text>\n",
       "</g>\n",
       "<!-- 2642693469968&#45;&gt;2642661510096tanh -->\n",
       "<g id=\"edge6\" class=\"edge\">\n",
       "<title>2642693469968&#45;&gt;2642661510096tanh</title>\n",
       "<path fill=\"none\" stroke=\"black\" d=\"M1255.15,-72.5C1263.52,-72.5 1271.64,-72.5 1279.09,-72.5\"/>\n",
       "<polygon fill=\"black\" stroke=\"black\" points=\"1279.03,-76 1289.03,-72.5 1279.03,-69 1279.03,-76\"/>\n",
       "</g>\n",
       "<!-- 2642693469968+&#45;&gt;2642693469968 -->\n",
       "<g id=\"edge1\" class=\"edge\">\n",
       "<title>2642693469968+&#45;&gt;2642693469968</title>\n",
       "<path fill=\"none\" stroke=\"black\" d=\"M1033.91,-72.5C1040.95,-72.5 1049,-72.5 1057.55,-72.5\"/>\n",
       "<polygon fill=\"black\" stroke=\"black\" points=\"1057.54,-76 1067.54,-72.5 1057.54,-69 1057.54,-76\"/>\n",
       "</g>\n",
       "<!-- 2642693396304 -->\n",
       "<g id=\"node7\" class=\"node\">\n",
       "<title>2642693396304</title>\n",
       "<polygon fill=\"none\" stroke=\"black\" points=\"327.75,-55.5 327.75,-91.5 543,-91.5 543,-55.5 327.75,-55.5\"/>\n",
       "<text text-anchor=\"middle\" x=\"354.12\" y=\"-68.2\" font-family=\"Times New Roman,serif\" font-size=\"14.00\">x2*w2</text>\n",
       "<polyline fill=\"none\" stroke=\"black\" points=\"380.5,-55.75 380.5,-91.5\"/>\n",
       "<text text-anchor=\"middle\" x=\"420.75\" y=\"-68.2\" font-family=\"Times New Roman,serif\" font-size=\"14.00\">data 0.0000</text>\n",
       "<polyline fill=\"none\" stroke=\"black\" points=\"461,-55.75 461,-91.5\"/>\n",
       "<text text-anchor=\"middle\" x=\"502\" y=\"-68.2\" font-family=\"Times New Roman,serif\" font-size=\"14.00\">grad 0.5000</text>\n",
       "</g>\n",
       "<!-- 2642693397456+ -->\n",
       "<g id=\"node15\" class=\"node\">\n",
       "<title>2642693397456+</title>\n",
       "<ellipse fill=\"none\" stroke=\"black\" cx=\"608.25\" cy=\"-100.5\" rx=\"27\" ry=\"18\"/>\n",
       "<text text-anchor=\"middle\" x=\"608.25\" y=\"-95.08\" font-family=\"Times New Roman,serif\" font-size=\"14.00\">+</text>\n",
       "</g>\n",
       "<!-- 2642693396304&#45;&gt;2642693397456+ -->\n",
       "<g id=\"edge7\" class=\"edge\">\n",
       "<title>2642693396304&#45;&gt;2642693397456+</title>\n",
       "<path fill=\"none\" stroke=\"black\" d=\"M543.14,-90.37C552.77,-91.89 562.01,-93.35 570.33,-94.67\"/>\n",
       "<polygon fill=\"black\" stroke=\"black\" points=\"569.51,-98.08 579.94,-96.18 570.61,-91.17 569.51,-98.08\"/>\n",
       "</g>\n",
       "<!-- 2642693396304*&#45;&gt;2642693396304 -->\n",
       "<g id=\"edge2\" class=\"edge\">\n",
       "<title>2642693396304*&#45;&gt;2642693396304</title>\n",
       "<path fill=\"none\" stroke=\"black\" d=\"M289.82,-73.5C297.5,-73.5 306.41,-73.5 315.98,-73.5\"/>\n",
       "<polygon fill=\"black\" stroke=\"black\" points=\"315.97,-77 325.97,-73.5 315.97,-70 315.97,-77\"/>\n",
       "</g>\n",
       "<!-- 2642692337488 -->\n",
       "<g id=\"node9\" class=\"node\">\n",
       "<title>2642692337488</title>\n",
       "<polygon fill=\"none\" stroke=\"black\" points=\"3.75,-0.5 3.75,-36.5 195.75,-36.5 195.75,-0.5 3.75,-0.5\"/>\n",
       "<text text-anchor=\"middle\" x=\"18.5\" y=\"-13.2\" font-family=\"Times New Roman,serif\" font-size=\"14.00\">x2</text>\n",
       "<polyline fill=\"none\" stroke=\"black\" points=\"33.25,-0.75 33.25,-36.5\"/>\n",
       "<text text-anchor=\"middle\" x=\"73.5\" y=\"-13.2\" font-family=\"Times New Roman,serif\" font-size=\"14.00\">data 0.0000</text>\n",
       "<polyline fill=\"none\" stroke=\"black\" points=\"113.75,-0.75 113.75,-36.5\"/>\n",
       "<text text-anchor=\"middle\" x=\"154.75\" y=\"-13.2\" font-family=\"Times New Roman,serif\" font-size=\"14.00\">grad 0.5000</text>\n",
       "</g>\n",
       "<!-- 2642692337488&#45;&gt;2642693396304* -->\n",
       "<g id=\"edge11\" class=\"edge\">\n",
       "<title>2642692337488&#45;&gt;2642693396304*</title>\n",
       "<path fill=\"none\" stroke=\"black\" d=\"M170.45,-36.99C180.27,-39.97 190.19,-43.17 199.5,-46.5 209.46,-50.06 220.09,-54.46 229.68,-58.67\"/>\n",
       "<polygon fill=\"black\" stroke=\"black\" points=\"228.04,-61.77 238.6,-62.66 230.9,-55.38 228.04,-61.77\"/>\n",
       "</g>\n",
       "<!-- 2642693397904 -->\n",
       "<g id=\"node10\" class=\"node\">\n",
       "<title>2642693397904</title>\n",
       "<polygon fill=\"none\" stroke=\"black\" points=\"325.5,-110.5 325.5,-146.5 545.25,-146.5 545.25,-110.5 325.5,-110.5\"/>\n",
       "<text text-anchor=\"middle\" x=\"351.88\" y=\"-123.2\" font-family=\"Times New Roman,serif\" font-size=\"14.00\">x1*w1</text>\n",
       "<polyline fill=\"none\" stroke=\"black\" points=\"378.25,-110.75 378.25,-146.5\"/>\n",
       "<text text-anchor=\"middle\" x=\"420.75\" y=\"-123.2\" font-family=\"Times New Roman,serif\" font-size=\"14.00\">data &#45;6.0000</text>\n",
       "<polyline fill=\"none\" stroke=\"black\" points=\"463.25,-110.75 463.25,-146.5\"/>\n",
       "<text text-anchor=\"middle\" x=\"504.25\" y=\"-123.2\" font-family=\"Times New Roman,serif\" font-size=\"14.00\">grad 0.5000</text>\n",
       "</g>\n",
       "<!-- 2642693397904&#45;&gt;2642693397456+ -->\n",
       "<g id=\"edge14\" class=\"edge\">\n",
       "<title>2642693397904&#45;&gt;2642693397456+</title>\n",
       "<path fill=\"none\" stroke=\"black\" d=\"M545.56,-110.61C554.32,-109.17 562.71,-107.8 570.34,-106.55\"/>\n",
       "<polygon fill=\"black\" stroke=\"black\" points=\"570.83,-110.02 580.13,-104.94 569.69,-103.11 570.83,-110.02\"/>\n",
       "</g>\n",
       "<!-- 2642693397904*&#45;&gt;2642693397904 -->\n",
       "<g id=\"edge3\" class=\"edge\">\n",
       "<title>2642693397904*&#45;&gt;2642693397904</title>\n",
       "<path fill=\"none\" stroke=\"black\" d=\"M289.82,-128.5C296.93,-128.5 305.11,-128.5 313.89,-128.5\"/>\n",
       "<polygon fill=\"black\" stroke=\"black\" points=\"313.78,-132 323.78,-128.5 313.78,-125 313.78,-132\"/>\n",
       "</g>\n",
       "<!-- 2642661510096 -->\n",
       "<g id=\"node12\" class=\"node\">\n",
       "<title>2642661510096</title>\n",
       "<polygon fill=\"none\" stroke=\"black\" points=\"1380.75,-54.5 1380.75,-90.5 1566.75,-90.5 1566.75,-54.5 1380.75,-54.5\"/>\n",
       "<text text-anchor=\"middle\" x=\"1392.5\" y=\"-67.2\" font-family=\"Times New Roman,serif\" font-size=\"14.00\">o</text>\n",
       "<polyline fill=\"none\" stroke=\"black\" points=\"1404.25,-54.75 1404.25,-90.5\"/>\n",
       "<text text-anchor=\"middle\" x=\"1444.5\" y=\"-67.2\" font-family=\"Times New Roman,serif\" font-size=\"14.00\">data 0.7071</text>\n",
       "<polyline fill=\"none\" stroke=\"black\" points=\"1484.75,-54.75 1484.75,-90.5\"/>\n",
       "<text text-anchor=\"middle\" x=\"1525.75\" y=\"-67.2\" font-family=\"Times New Roman,serif\" font-size=\"14.00\">grad 1.0000</text>\n",
       "</g>\n",
       "<!-- 2642661510096tanh&#45;&gt;2642661510096 -->\n",
       "<g id=\"edge4\" class=\"edge\">\n",
       "<title>2642661510096tanh&#45;&gt;2642661510096</title>\n",
       "<path fill=\"none\" stroke=\"black\" d=\"M1345.22,-72.5C1352.36,-72.5 1360.53,-72.5 1369.21,-72.5\"/>\n",
       "<polygon fill=\"black\" stroke=\"black\" points=\"1368.94,-76 1378.94,-72.5 1368.94,-69 1368.94,-76\"/>\n",
       "</g>\n",
       "<!-- 2642693397456 -->\n",
       "<g id=\"node14\" class=\"node\">\n",
       "<title>2642693397456</title>\n",
       "<polygon fill=\"none\" stroke=\"black\" points=\"671.25,-82.5 671.25,-118.5 943.5,-118.5 943.5,-82.5 671.25,-82.5\"/>\n",
       "<text text-anchor=\"middle\" x=\"723.88\" y=\"-95.2\" font-family=\"Times New Roman,serif\" font-size=\"14.00\">x1*w1 + x2*w2</text>\n",
       "<polyline fill=\"none\" stroke=\"black\" points=\"776.5,-82.75 776.5,-118.5\"/>\n",
       "<text text-anchor=\"middle\" x=\"819\" y=\"-95.2\" font-family=\"Times New Roman,serif\" font-size=\"14.00\">data &#45;6.0000</text>\n",
       "<polyline fill=\"none\" stroke=\"black\" points=\"861.5,-82.75 861.5,-118.5\"/>\n",
       "<text text-anchor=\"middle\" x=\"902.5\" y=\"-95.2\" font-family=\"Times New Roman,serif\" font-size=\"14.00\">grad 0.5000</text>\n",
       "</g>\n",
       "<!-- 2642693397456&#45;&gt;2642693469968+ -->\n",
       "<g id=\"edge12\" class=\"edge\">\n",
       "<title>2642693397456&#45;&gt;2642693469968+</title>\n",
       "<path fill=\"none\" stroke=\"black\" d=\"M938.49,-82.02C949.28,-80.49 959.5,-79.03 968.57,-77.75\"/>\n",
       "<polygon fill=\"black\" stroke=\"black\" points=\"968.86,-81.24 978.27,-76.37 967.87,-74.31 968.86,-81.24\"/>\n",
       "</g>\n",
       "<!-- 2642693397456+&#45;&gt;2642693397456 -->\n",
       "<g id=\"edge5\" class=\"edge\">\n",
       "<title>2642693397456+&#45;&gt;2642693397456</title>\n",
       "<path fill=\"none\" stroke=\"black\" d=\"M635.43,-100.5C642.57,-100.5 650.85,-100.5 659.84,-100.5\"/>\n",
       "<polygon fill=\"black\" stroke=\"black\" points=\"659.6,-104 669.6,-100.5 659.6,-97 659.6,-104\"/>\n",
       "</g>\n",
       "</g>\n",
       "</svg>\n"
      ],
      "text/plain": [
       "<graphviz.graphs.Digraph at 0x2674ccdfd90>"
      ]
     },
     "execution_count": 22,
     "metadata": {},
     "output_type": "execute_result"
    }
   ],
   "source": [
    "draw_dot(o)"
   ]
  },
  {
   "cell_type": "code",
   "execution_count": null,
   "metadata": {
    "id": "RTJnz3cUkTxI",
    "outputId": "0cc8ce68-2624-46ac-8b8a-b486d0a336cd"
   },
   "outputs": [
    {
     "data": {
      "text/plain": [
       "[Value(data=6.881373587019543),\n",
       " Value(data=-3.0),\n",
       " Value(data=2.0),\n",
       " Value(data=-6.0),\n",
       " Value(data=1.0),\n",
       " Value(data=0.0),\n",
       " Value(data=0.0),\n",
       " Value(data=-6.0),\n",
       " Value(data=0.8813735870195432),\n",
       " Value(data=0.7071067811865476)]"
      ]
     },
     "execution_count": 23,
     "metadata": {},
     "output_type": "execute_result"
    }
   ],
   "source": [
    "topo = []\n",
    "visited = set()\n",
    "\n",
    "\n",
    "def build_topo(v):\n",
    "    if v not in visited:\n",
    "        visited.add(v)\n",
    "        for child in v._prev:\n",
    "            build_topo(child)\n",
    "        topo.append(v)\n",
    "\n",
    "\n",
    "build_topo(o)\n",
    "topo"
   ]
  },
  {
   "cell_type": "code",
   "execution_count": null,
   "metadata": {
    "id": "BrmvGmxmkTxI"
   },
   "outputs": [],
   "source": [
    "class Value:\n",
    "    def __init__(self, data, _children=(), _op=\"\", label=\"\"):\n",
    "        self.data = data\n",
    "        self.grad = 0.0\n",
    "        self._backward = lambda: None\n",
    "        self._prev = set(_children)\n",
    "        self._op = _op\n",
    "        self.label = label\n",
    "\n",
    "    def __repr__(self):\n",
    "        return f\"Value(data={self.data})\"\n",
    "\n",
    "    def __add__(self, other):\n",
    "        other = other if isinstance(other, Value) else Value(other)\n",
    "        out = Value(self.data + other.data, (self, other), \"+\")\n",
    "\n",
    "        def _backward():\n",
    "            self.grad += 1.0 * out.grad\n",
    "            other.grad += 1.0 * out.grad\n",
    "\n",
    "        out._backward = _backward\n",
    "\n",
    "        return out\n",
    "\n",
    "    def __mul__(self, other):\n",
    "        other = other if isinstance(other, Value) else Value(other)\n",
    "        out = Value(self.data * other.data, (self, other), \"*\")\n",
    "\n",
    "        def _backward():\n",
    "            self.grad += other.data * out.grad\n",
    "            other.grad += self.data * out.grad\n",
    "\n",
    "        out._backward = _backward\n",
    "\n",
    "        return out\n",
    "\n",
    "    def __pow__(self, other):\n",
    "        assert isinstance(\n",
    "            other, (int, float)\n",
    "        ), \"only supporting int/float powers for now\"\n",
    "        out = Value(self.data**other, (self,), f\"**{other}\")\n",
    "\n",
    "        def _backward():\n",
    "            self.grad += other * (self.data ** (other - 1)) * out.grad\n",
    "\n",
    "        out._backward = _backward\n",
    "\n",
    "        return out\n",
    "\n",
    "    def __rmul__(self, other):  # other * self\n",
    "        return self * other\n",
    "\n",
    "    def __truediv__(self, other):  # self / other\n",
    "        return self * other**-1\n",
    "\n",
    "    def __neg__(self):  # -self\n",
    "        return self * -1\n",
    "\n",
    "    def __sub__(self, other):  # self - other\n",
    "        return self + (-other)\n",
    "\n",
    "    def __rsub__(self, other):  # other - self\n",
    "        return -self + other\n",
    "\n",
    "    def __radd__(self, other):  # other + self\n",
    "        return self + other\n",
    "\n",
    "    def tanh(self):\n",
    "        x = self.data\n",
    "        t = (math.exp(2 * x) - 1) / (math.exp(2 * x) + 1)\n",
    "        out = Value(t, (self,), \"tanh\")\n",
    "\n",
    "        def _backward():\n",
    "            self.grad += (1 - t**2) * out.grad\n",
    "\n",
    "        out._backward = _backward\n",
    "\n",
    "        return out\n",
    "\n",
    "    def sigmoid(self):\n",
    "        x = self.data\n",
    "        t = 1 / (1 + math.exp(-x))\n",
    "        out = Value(t, (self,), \"sigmoid\")\n",
    "\n",
    "        def _backward():\n",
    "            self.grad += (t * (1-t)) * out.grad\n",
    "\n",
    "        out._backward = _backward\n",
    "\n",
    "        return out\n",
    "\n",
    "    def exp(self):\n",
    "        x = self.data\n",
    "        out = Value(math.exp(x), (self,), \"exp\")\n",
    "\n",
    "        def _backward():\n",
    "            self.grad += out.data * out.grad\n",
    "\n",
    "        out._backward = _backward\n",
    "\n",
    "        return out\n",
    "\n",
    "    def log(self, base=math.e):\n",
    "        x = self.data\n",
    "        out = Value(math.log(x), (self,), f\"log (base={base})\")\n",
    "\n",
    "        def _backward():\n",
    "            self.grad += 1/(x*math.log(base)) * out.grad\n",
    "\n",
    "        out._backward = _backward\n",
    "\n",
    "        return out\n",
    "\n",
    "    def backward(self):\n",
    "        topo = []\n",
    "        visited = set()\n",
    "\n",
    "        def build_topo(v):\n",
    "            if v not in visited:\n",
    "                visited.add(v)\n",
    "                for child in v._prev:\n",
    "                    build_topo(child)\n",
    "                topo.append(v)\n",
    "\n",
    "        build_topo(self)\n",
    "\n",
    "        self.grad = 1.0\n",
    "        for node in reversed(topo):\n",
    "            node._backward()"
   ]
  },
  {
   "cell_type": "code",
   "execution_count": null,
   "metadata": {
    "id": "cwpNSV14kTxI",
    "outputId": "31875a97-c327-4d44-cef4-1e594e2a5a59"
   },
   "outputs": [
    {
     "data": {
      "image/svg+xml": [
       "<?xml version=\"1.0\" encoding=\"UTF-8\" standalone=\"no\"?>\n",
       "<!DOCTYPE svg PUBLIC \"-//W3C//DTD SVG 1.1//EN\"\n",
       " \"http://www.w3.org/Graphics/SVG/1.1/DTD/svg11.dtd\">\n",
       "<!-- Generated by graphviz version 9.0.0 (20230911.1827)\n",
       " -->\n",
       "<!-- Pages: 1 -->\n",
       "<svg width=\"2945pt\" height=\"239pt\"\n",
       " viewBox=\"0.00 0.00 2945.00 239.00\" xmlns=\"http://www.w3.org/2000/svg\" xmlns:xlink=\"http://www.w3.org/1999/xlink\">\n",
       "<g id=\"graph0\" class=\"graph\" transform=\"scale(1 1) rotate(0) translate(4 235)\">\n",
       "<polygon fill=\"white\" stroke=\"none\" points=\"-4,4 -4,-235 2941,-235 2941,4 -4,4\"/>\n",
       "<!-- 2642693528592 -->\n",
       "<g id=\"node1\" class=\"node\">\n",
       "<title>2642693528592</title>\n",
       "<polygon fill=\"none\" stroke=\"black\" points=\"1691.25,-55.5 1691.25,-91.5 1873.5,-91.5 1873.5,-55.5 1691.25,-55.5\"/>\n",
       "<text text-anchor=\"middle\" x=\"1701.12\" y=\"-68.2\" font-family=\"Times New Roman,serif\" font-size=\"14.00\"> </text>\n",
       "<polyline fill=\"none\" stroke=\"black\" points=\"1711,-55.75 1711,-91.5\"/>\n",
       "<text text-anchor=\"middle\" x=\"1751.25\" y=\"-68.2\" font-family=\"Times New Roman,serif\" font-size=\"14.00\">data 5.8284</text>\n",
       "<polyline fill=\"none\" stroke=\"black\" points=\"1791.5,-55.75 1791.5,-91.5\"/>\n",
       "<text text-anchor=\"middle\" x=\"1832.5\" y=\"-68.2\" font-family=\"Times New Roman,serif\" font-size=\"14.00\">grad 0.0429</text>\n",
       "</g>\n",
       "<!-- 2642693531280+ -->\n",
       "<g id=\"node10\" class=\"node\">\n",
       "<title>2642693531280+</title>\n",
       "<ellipse fill=\"none\" stroke=\"black\" cx=\"1938.75\" cy=\"-45.5\" rx=\"27\" ry=\"18\"/>\n",
       "<text text-anchor=\"middle\" x=\"1938.75\" y=\"-40.08\" font-family=\"Times New Roman,serif\" font-size=\"14.00\">+</text>\n",
       "</g>\n",
       "<!-- 2642693528592&#45;&gt;2642693531280+ -->\n",
       "<g id=\"edge24\" class=\"edge\">\n",
       "<title>2642693528592&#45;&gt;2642693531280+</title>\n",
       "<path fill=\"none\" stroke=\"black\" d=\"M1873.62,-57.13C1883.22,-55.39 1892.54,-53.7 1900.96,-52.17\"/>\n",
       "<polygon fill=\"black\" stroke=\"black\" points=\"1901.51,-55.63 1910.73,-50.4 1900.26,-48.74 1901.51,-55.63\"/>\n",
       "</g>\n",
       "<!-- 2642693522192+ -->\n",
       "<g id=\"node19\" class=\"node\">\n",
       "<title>2642693522192+</title>\n",
       "<ellipse fill=\"none\" stroke=\"black\" cx=\"1938.75\" cy=\"-100.5\" rx=\"27\" ry=\"18\"/>\n",
       "<text text-anchor=\"middle\" x=\"1938.75\" y=\"-95.08\" font-family=\"Times New Roman,serif\" font-size=\"14.00\">+</text>\n",
       "</g>\n",
       "<!-- 2642693528592&#45;&gt;2642693522192+ -->\n",
       "<g id=\"edge14\" class=\"edge\">\n",
       "<title>2642693528592&#45;&gt;2642693522192+</title>\n",
       "<path fill=\"none\" stroke=\"black\" d=\"M1873.62,-89.28C1883.22,-90.96 1892.54,-92.59 1900.96,-94.07\"/>\n",
       "<polygon fill=\"black\" stroke=\"black\" points=\"1900.27,-97.5 1910.73,-95.77 1901.48,-90.6 1900.27,-97.5\"/>\n",
       "</g>\n",
       "<!-- 2642693528592exp -->\n",
       "<g id=\"node2\" class=\"node\">\n",
       "<title>2642693528592exp</title>\n",
       "<ellipse fill=\"none\" stroke=\"black\" cx=\"1626\" cy=\"-73.5\" rx=\"27\" ry=\"18\"/>\n",
       "<text text-anchor=\"middle\" x=\"1626\" y=\"-68.08\" font-family=\"Times New Roman,serif\" font-size=\"14.00\">exp</text>\n",
       "</g>\n",
       "<!-- 2642693528592exp&#45;&gt;2642693528592 -->\n",
       "<g id=\"edge1\" class=\"edge\">\n",
       "<title>2642693528592exp&#45;&gt;2642693528592</title>\n",
       "<path fill=\"none\" stroke=\"black\" d=\"M1653.19,-73.5C1660.92,-73.5 1669.88,-73.5 1679.41,-73.5\"/>\n",
       "<polygon fill=\"black\" stroke=\"black\" points=\"1679.3,-77 1689.3,-73.5 1679.3,-70 1679.3,-77\"/>\n",
       "</g>\n",
       "<!-- 2642693527056 -->\n",
       "<g id=\"node3\" class=\"node\">\n",
       "<title>2642693527056</title>\n",
       "<polygon fill=\"none\" stroke=\"black\" points=\"1069.5,-83.5 1069.5,-119.5 1254.75,-119.5 1254.75,-83.5 1069.5,-83.5\"/>\n",
       "<text text-anchor=\"middle\" x=\"1080.88\" y=\"-96.2\" font-family=\"Times New Roman,serif\" font-size=\"14.00\">n</text>\n",
       "<polyline fill=\"none\" stroke=\"black\" points=\"1092.25,-83.75 1092.25,-119.5\"/>\n",
       "<text text-anchor=\"middle\" x=\"1132.5\" y=\"-96.2\" font-family=\"Times New Roman,serif\" font-size=\"14.00\">data 0.8814</text>\n",
       "<polyline fill=\"none\" stroke=\"black\" points=\"1172.75,-83.75 1172.75,-119.5\"/>\n",
       "<text text-anchor=\"middle\" x=\"1213.75\" y=\"-96.2\" font-family=\"Times New Roman,serif\" font-size=\"14.00\">grad 0.5000</text>\n",
       "</g>\n",
       "<!-- 2642693536464* -->\n",
       "<g id=\"node15\" class=\"node\">\n",
       "<title>2642693536464*</title>\n",
       "<ellipse fill=\"none\" stroke=\"black\" cx=\"1317.75\" cy=\"-73.5\" rx=\"27\" ry=\"18\"/>\n",
       "<text text-anchor=\"middle\" x=\"1317.75\" y=\"-68.08\" font-family=\"Times New Roman,serif\" font-size=\"14.00\">*</text>\n",
       "</g>\n",
       "<!-- 2642693527056&#45;&gt;2642693536464* -->\n",
       "<g id=\"edge20\" class=\"edge\">\n",
       "<title>2642693527056&#45;&gt;2642693536464*</title>\n",
       "<path fill=\"none\" stroke=\"black\" d=\"M1255.15,-84.73C1263.89,-83.13 1272.36,-81.59 1280.08,-80.18\"/>\n",
       "<polygon fill=\"black\" stroke=\"black\" points=\"1280.45,-83.67 1289.66,-78.44 1279.19,-76.79 1280.45,-83.67\"/>\n",
       "</g>\n",
       "<!-- 2642693527056+ -->\n",
       "<g id=\"node4\" class=\"node\">\n",
       "<title>2642693527056+</title>\n",
       "<ellipse fill=\"none\" stroke=\"black\" cx=\"1006.5\" cy=\"-101.5\" rx=\"27\" ry=\"18\"/>\n",
       "<text text-anchor=\"middle\" x=\"1006.5\" y=\"-96.08\" font-family=\"Times New Roman,serif\" font-size=\"14.00\">+</text>\n",
       "</g>\n",
       "<!-- 2642693527056+&#45;&gt;2642693527056 -->\n",
       "<g id=\"edge2\" class=\"edge\">\n",
       "<title>2642693527056+&#45;&gt;2642693527056</title>\n",
       "<path fill=\"none\" stroke=\"black\" d=\"M1033.91,-101.5C1040.95,-101.5 1049,-101.5 1057.55,-101.5\"/>\n",
       "<polygon fill=\"black\" stroke=\"black\" points=\"1057.54,-105 1067.54,-101.5 1057.54,-98 1057.54,-105\"/>\n",
       "</g>\n",
       "<!-- 2642693533776 -->\n",
       "<g id=\"node5\" class=\"node\">\n",
       "<title>2642693533776</title>\n",
       "<polygon fill=\"none\" stroke=\"black\" points=\"327.75,-139.5 327.75,-175.5 543,-175.5 543,-139.5 327.75,-139.5\"/>\n",
       "<text text-anchor=\"middle\" x=\"354.12\" y=\"-152.2\" font-family=\"Times New Roman,serif\" font-size=\"14.00\">x2*w2</text>\n",
       "<polyline fill=\"none\" stroke=\"black\" points=\"380.5,-139.75 380.5,-175.5\"/>\n",
       "<text text-anchor=\"middle\" x=\"420.75\" y=\"-152.2\" font-family=\"Times New Roman,serif\" font-size=\"14.00\">data 0.0000</text>\n",
       "<polyline fill=\"none\" stroke=\"black\" points=\"461,-139.75 461,-175.5\"/>\n",
       "<text text-anchor=\"middle\" x=\"502\" y=\"-152.2\" font-family=\"Times New Roman,serif\" font-size=\"14.00\">grad 0.5000</text>\n",
       "</g>\n",
       "<!-- 2642693522064+ -->\n",
       "<g id=\"node8\" class=\"node\">\n",
       "<title>2642693522064+</title>\n",
       "<ellipse fill=\"none\" stroke=\"black\" cx=\"608.25\" cy=\"-129.5\" rx=\"27\" ry=\"18\"/>\n",
       "<text text-anchor=\"middle\" x=\"608.25\" y=\"-124.08\" font-family=\"Times New Roman,serif\" font-size=\"14.00\">+</text>\n",
       "</g>\n",
       "<!-- 2642693533776&#45;&gt;2642693522064+ -->\n",
       "<g id=\"edge18\" class=\"edge\">\n",
       "<title>2642693533776&#45;&gt;2642693522064+</title>\n",
       "<path fill=\"none\" stroke=\"black\" d=\"M543.14,-140.01C552.86,-138.41 562.18,-136.88 570.57,-135.51\"/>\n",
       "<polygon fill=\"black\" stroke=\"black\" points=\"570.94,-139 580.25,-133.92 569.81,-132.09 570.94,-139\"/>\n",
       "</g>\n",
       "<!-- 2642693533776* -->\n",
       "<g id=\"node6\" class=\"node\">\n",
       "<title>2642693533776*</title>\n",
       "<ellipse fill=\"none\" stroke=\"black\" cx=\"262.5\" cy=\"-157.5\" rx=\"27\" ry=\"18\"/>\n",
       "<text text-anchor=\"middle\" x=\"262.5\" y=\"-152.07\" font-family=\"Times New Roman,serif\" font-size=\"14.00\">*</text>\n",
       "</g>\n",
       "<!-- 2642693533776*&#45;&gt;2642693533776 -->\n",
       "<g id=\"edge3\" class=\"edge\">\n",
       "<title>2642693533776*&#45;&gt;2642693533776</title>\n",
       "<path fill=\"none\" stroke=\"black\" d=\"M289.82,-157.5C297.5,-157.5 306.41,-157.5 315.98,-157.5\"/>\n",
       "<polygon fill=\"black\" stroke=\"black\" points=\"315.97,-161 325.97,-157.5 315.97,-154 315.97,-161\"/>\n",
       "</g>\n",
       "<!-- 2642693522064 -->\n",
       "<g id=\"node7\" class=\"node\">\n",
       "<title>2642693522064</title>\n",
       "<polygon fill=\"none\" stroke=\"black\" points=\"671.25,-111.5 671.25,-147.5 943.5,-147.5 943.5,-111.5 671.25,-111.5\"/>\n",
       "<text text-anchor=\"middle\" x=\"723.88\" y=\"-124.2\" font-family=\"Times New Roman,serif\" font-size=\"14.00\">x1*w1 + x2*w2</text>\n",
       "<polyline fill=\"none\" stroke=\"black\" points=\"776.5,-111.75 776.5,-147.5\"/>\n",
       "<text text-anchor=\"middle\" x=\"819\" y=\"-124.2\" font-family=\"Times New Roman,serif\" font-size=\"14.00\">data &#45;6.0000</text>\n",
       "<polyline fill=\"none\" stroke=\"black\" points=\"861.5,-111.75 861.5,-147.5\"/>\n",
       "<text text-anchor=\"middle\" x=\"902.5\" y=\"-124.2\" font-family=\"Times New Roman,serif\" font-size=\"14.00\">grad 0.5000</text>\n",
       "</g>\n",
       "<!-- 2642693522064&#45;&gt;2642693527056+ -->\n",
       "<g id=\"edge17\" class=\"edge\">\n",
       "<title>2642693522064&#45;&gt;2642693527056+</title>\n",
       "<path fill=\"none\" stroke=\"black\" d=\"M938.49,-111.02C949.28,-109.49 959.5,-108.03 968.57,-106.75\"/>\n",
       "<polygon fill=\"black\" stroke=\"black\" points=\"968.86,-110.24 978.27,-105.37 967.87,-103.31 968.86,-110.24\"/>\n",
       "</g>\n",
       "<!-- 2642693522064+&#45;&gt;2642693522064 -->\n",
       "<g id=\"edge4\" class=\"edge\">\n",
       "<title>2642693522064+&#45;&gt;2642693522064</title>\n",
       "<path fill=\"none\" stroke=\"black\" d=\"M635.43,-129.5C642.57,-129.5 650.85,-129.5 659.84,-129.5\"/>\n",
       "<polygon fill=\"black\" stroke=\"black\" points=\"659.6,-133 669.6,-129.5 659.6,-126 659.6,-133\"/>\n",
       "</g>\n",
       "<!-- 2642693531280 -->\n",
       "<g id=\"node9\" class=\"node\">\n",
       "<title>2642693531280</title>\n",
       "<polygon fill=\"none\" stroke=\"black\" points=\"2001.75,-27.5 2001.75,-63.5 2188.5,-63.5 2188.5,-27.5 2001.75,-27.5\"/>\n",
       "<text text-anchor=\"middle\" x=\"2011.62\" y=\"-40.2\" font-family=\"Times New Roman,serif\" font-size=\"14.00\"> </text>\n",
       "<polyline fill=\"none\" stroke=\"black\" points=\"2021.5,-27.75 2021.5,-63.5\"/>\n",
       "<text text-anchor=\"middle\" x=\"2061.75\" y=\"-40.2\" font-family=\"Times New Roman,serif\" font-size=\"14.00\">data 6.8284</text>\n",
       "<polyline fill=\"none\" stroke=\"black\" points=\"2102,-27.75 2102,-63.5\"/>\n",
       "<text text-anchor=\"middle\" x=\"2145.25\" y=\"-40.2\" font-family=\"Times New Roman,serif\" font-size=\"14.00\">grad &#45;0.1036</text>\n",
       "</g>\n",
       "<!-- 2642693535696**&#45;1 -->\n",
       "<g id=\"node25\" class=\"node\">\n",
       "<title>2642693535696**&#45;1</title>\n",
       "<ellipse fill=\"none\" stroke=\"black\" cx=\"2315.62\" cy=\"-45.5\" rx=\"27.11\" ry=\"18\"/>\n",
       "<text text-anchor=\"middle\" x=\"2315.62\" y=\"-40.08\" font-family=\"Times New Roman,serif\" font-size=\"14.00\">**&#45;1</text>\n",
       "</g>\n",
       "<!-- 2642693531280&#45;&gt;2642693535696**&#45;1 -->\n",
       "<g id=\"edge22\" class=\"edge\">\n",
       "<title>2642693531280&#45;&gt;2642693535696**&#45;1</title>\n",
       "<path fill=\"none\" stroke=\"black\" d=\"M2188.79,-45.5C2219.78,-45.5 2252.58,-45.5 2276.93,-45.5\"/>\n",
       "<polygon fill=\"black\" stroke=\"black\" points=\"2276.64,-49 2286.64,-45.5 2276.64,-42 2276.64,-49\"/>\n",
       "</g>\n",
       "<!-- 2642693531280+&#45;&gt;2642693531280 -->\n",
       "<g id=\"edge5\" class=\"edge\">\n",
       "<title>2642693531280+&#45;&gt;2642693531280</title>\n",
       "<path fill=\"none\" stroke=\"black\" d=\"M1965.94,-45.5C1973.07,-45.5 1981.27,-45.5 1989.98,-45.5\"/>\n",
       "<polygon fill=\"black\" stroke=\"black\" points=\"1989.75,-49 1999.75,-45.5 1989.75,-42 1989.75,-49\"/>\n",
       "</g>\n",
       "<!-- 2642693535888 -->\n",
       "<g id=\"node11\" class=\"node\">\n",
       "<title>2642693535888</title>\n",
       "<polygon fill=\"none\" stroke=\"black\" points=\"1689,-0.5 1689,-36.5 1875.75,-36.5 1875.75,-0.5 1689,-0.5\"/>\n",
       "<text text-anchor=\"middle\" x=\"1698.88\" y=\"-13.2\" font-family=\"Times New Roman,serif\" font-size=\"14.00\"> </text>\n",
       "<polyline fill=\"none\" stroke=\"black\" points=\"1708.75,-0.75 1708.75,-36.5\"/>\n",
       "<text text-anchor=\"middle\" x=\"1749\" y=\"-13.2\" font-family=\"Times New Roman,serif\" font-size=\"14.00\">data 1.0000</text>\n",
       "<polyline fill=\"none\" stroke=\"black\" points=\"1789.25,-0.75 1789.25,-36.5\"/>\n",
       "<text text-anchor=\"middle\" x=\"1832.5\" y=\"-13.2\" font-family=\"Times New Roman,serif\" font-size=\"14.00\">grad &#45;0.1036</text>\n",
       "</g>\n",
       "<!-- 2642693535888&#45;&gt;2642693531280+ -->\n",
       "<g id=\"edge15\" class=\"edge\">\n",
       "<title>2642693535888&#45;&gt;2642693531280+</title>\n",
       "<path fill=\"none\" stroke=\"black\" d=\"M1875.85,-34.67C1884.72,-36.22 1893.31,-37.73 1901.12,-39.09\"/>\n",
       "<polygon fill=\"black\" stroke=\"black\" points=\"1900.38,-42.52 1910.83,-40.79 1901.58,-35.62 1900.38,-42.52\"/>\n",
       "</g>\n",
       "<!-- 2642693530832 -->\n",
       "<g id=\"node12\" class=\"node\">\n",
       "<title>2642693530832</title>\n",
       "<polygon fill=\"none\" stroke=\"black\" points=\"2751,-54.5 2751,-90.5 2937,-90.5 2937,-54.5 2751,-54.5\"/>\n",
       "<text text-anchor=\"middle\" x=\"2762.75\" y=\"-67.2\" font-family=\"Times New Roman,serif\" font-size=\"14.00\">o</text>\n",
       "<polyline fill=\"none\" stroke=\"black\" points=\"2774.5,-54.75 2774.5,-90.5\"/>\n",
       "<text text-anchor=\"middle\" x=\"2814.75\" y=\"-67.2\" font-family=\"Times New Roman,serif\" font-size=\"14.00\">data 0.7071</text>\n",
       "<polyline fill=\"none\" stroke=\"black\" points=\"2855,-54.75 2855,-90.5\"/>\n",
       "<text text-anchor=\"middle\" x=\"2896\" y=\"-67.2\" font-family=\"Times New Roman,serif\" font-size=\"14.00\">grad 1.0000</text>\n",
       "</g>\n",
       "<!-- 2642693530832* -->\n",
       "<g id=\"node13\" class=\"node\">\n",
       "<title>2642693530832*</title>\n",
       "<ellipse fill=\"none\" stroke=\"black\" cx=\"2688\" cy=\"-72.5\" rx=\"27\" ry=\"18\"/>\n",
       "<text text-anchor=\"middle\" x=\"2688\" y=\"-67.08\" font-family=\"Times New Roman,serif\" font-size=\"14.00\">*</text>\n",
       "</g>\n",
       "<!-- 2642693530832*&#45;&gt;2642693530832 -->\n",
       "<g id=\"edge6\" class=\"edge\">\n",
       "<title>2642693530832*&#45;&gt;2642693530832</title>\n",
       "<path fill=\"none\" stroke=\"black\" d=\"M2715.47,-72.5C2722.61,-72.5 2730.78,-72.5 2739.46,-72.5\"/>\n",
       "<polygon fill=\"black\" stroke=\"black\" points=\"2739.19,-76 2749.19,-72.5 2739.19,-69 2739.19,-76\"/>\n",
       "</g>\n",
       "<!-- 2642693536464 -->\n",
       "<g id=\"node14\" class=\"node\">\n",
       "<title>2642693536464</title>\n",
       "<polygon fill=\"none\" stroke=\"black\" points=\"1380.75,-55.5 1380.75,-91.5 1563,-91.5 1563,-55.5 1380.75,-55.5\"/>\n",
       "<text text-anchor=\"middle\" x=\"1390.62\" y=\"-68.2\" font-family=\"Times New Roman,serif\" font-size=\"14.00\"> </text>\n",
       "<polyline fill=\"none\" stroke=\"black\" points=\"1400.5,-55.75 1400.5,-91.5\"/>\n",
       "<text text-anchor=\"middle\" x=\"1440.75\" y=\"-68.2\" font-family=\"Times New Roman,serif\" font-size=\"14.00\">data 1.7627</text>\n",
       "<polyline fill=\"none\" stroke=\"black\" points=\"1481,-55.75 1481,-91.5\"/>\n",
       "<text text-anchor=\"middle\" x=\"1522\" y=\"-68.2\" font-family=\"Times New Roman,serif\" font-size=\"14.00\">grad 0.2500</text>\n",
       "</g>\n",
       "<!-- 2642693536464&#45;&gt;2642693528592exp -->\n",
       "<g id=\"edge27\" class=\"edge\">\n",
       "<title>2642693536464&#45;&gt;2642693528592exp</title>\n",
       "<path fill=\"none\" stroke=\"black\" d=\"M1563.12,-73.5C1571.51,-73.5 1579.65,-73.5 1587.12,-73.5\"/>\n",
       "<polygon fill=\"black\" stroke=\"black\" points=\"1587.12,-77 1597.12,-73.5 1587.12,-70 1587.12,-77\"/>\n",
       "</g>\n",
       "<!-- 2642693536464*&#45;&gt;2642693536464 -->\n",
       "<g id=\"edge7\" class=\"edge\">\n",
       "<title>2642693536464*&#45;&gt;2642693536464</title>\n",
       "<path fill=\"none\" stroke=\"black\" d=\"M1345.25,-73.5C1352.29,-73.5 1360.34,-73.5 1368.88,-73.5\"/>\n",
       "<polygon fill=\"black\" stroke=\"black\" points=\"1368.84,-77 1378.84,-73.5 1368.84,-70 1368.84,-77\"/>\n",
       "</g>\n",
       "<!-- 2642693704912 -->\n",
       "<g id=\"node16\" class=\"node\">\n",
       "<title>2642693704912</title>\n",
       "<polygon fill=\"none\" stroke=\"black\" points=\"2.25,-194.5 2.25,-230.5 197.25,-230.5 197.25,-194.5 2.25,-194.5\"/>\n",
       "<text text-anchor=\"middle\" x=\"18.5\" y=\"-207.2\" font-family=\"Times New Roman,serif\" font-size=\"14.00\">w2</text>\n",
       "<polyline fill=\"none\" stroke=\"black\" points=\"34.75,-194.75 34.75,-230.5\"/>\n",
       "<text text-anchor=\"middle\" x=\"75\" y=\"-207.2\" font-family=\"Times New Roman,serif\" font-size=\"14.00\">data 1.0000</text>\n",
       "<polyline fill=\"none\" stroke=\"black\" points=\"115.25,-194.75 115.25,-230.5\"/>\n",
       "<text text-anchor=\"middle\" x=\"156.25\" y=\"-207.2\" font-family=\"Times New Roman,serif\" font-size=\"14.00\">grad 0.0000</text>\n",
       "</g>\n",
       "<!-- 2642693704912&#45;&gt;2642693533776* -->\n",
       "<g id=\"edge12\" class=\"edge\">\n",
       "<title>2642693704912&#45;&gt;2642693533776*</title>\n",
       "<path fill=\"none\" stroke=\"black\" d=\"M173.43,-194.03C182.28,-191.37 191.14,-188.51 199.5,-185.5 209.59,-181.87 220.33,-177.29 229.98,-172.89\"/>\n",
       "<polygon fill=\"black\" stroke=\"black\" points=\"231.37,-176.1 238.95,-168.7 228.41,-169.76 231.37,-176.1\"/>\n",
       "</g>\n",
       "<!-- 2642666816720 -->\n",
       "<g id=\"node17\" class=\"node\">\n",
       "<title>2642666816720</title>\n",
       "<polygon fill=\"none\" stroke=\"black\" points=\"3.75,-139.5 3.75,-175.5 195.75,-175.5 195.75,-139.5 3.75,-139.5\"/>\n",
       "<text text-anchor=\"middle\" x=\"18.5\" y=\"-152.2\" font-family=\"Times New Roman,serif\" font-size=\"14.00\">x2</text>\n",
       "<polyline fill=\"none\" stroke=\"black\" points=\"33.25,-139.75 33.25,-175.5\"/>\n",
       "<text text-anchor=\"middle\" x=\"73.5\" y=\"-152.2\" font-family=\"Times New Roman,serif\" font-size=\"14.00\">data 0.0000</text>\n",
       "<polyline fill=\"none\" stroke=\"black\" points=\"113.75,-139.75 113.75,-175.5\"/>\n",
       "<text text-anchor=\"middle\" x=\"154.75\" y=\"-152.2\" font-family=\"Times New Roman,serif\" font-size=\"14.00\">grad 0.5000</text>\n",
       "</g>\n",
       "<!-- 2642666816720&#45;&gt;2642693533776* -->\n",
       "<g id=\"edge19\" class=\"edge\">\n",
       "<title>2642666816720&#45;&gt;2642693533776*</title>\n",
       "<path fill=\"none\" stroke=\"black\" d=\"M196.12,-157.5C205.86,-157.5 215.3,-157.5 223.83,-157.5\"/>\n",
       "<polygon fill=\"black\" stroke=\"black\" points=\"223.71,-161 233.71,-157.5 223.71,-154 223.71,-161\"/>\n",
       "</g>\n",
       "<!-- 2642693522192 -->\n",
       "<g id=\"node18\" class=\"node\">\n",
       "<title>2642693522192</title>\n",
       "<polygon fill=\"none\" stroke=\"black\" points=\"2224.5,-82.5 2224.5,-118.5 2406.75,-118.5 2406.75,-82.5 2224.5,-82.5\"/>\n",
       "<text text-anchor=\"middle\" x=\"2234.38\" y=\"-95.2\" font-family=\"Times New Roman,serif\" font-size=\"14.00\"> </text>\n",
       "<polyline fill=\"none\" stroke=\"black\" points=\"2244.25,-82.75 2244.25,-118.5\"/>\n",
       "<text text-anchor=\"middle\" x=\"2284.5\" y=\"-95.2\" font-family=\"Times New Roman,serif\" font-size=\"14.00\">data 4.8284</text>\n",
       "<polyline fill=\"none\" stroke=\"black\" points=\"2324.75,-82.75 2324.75,-118.5\"/>\n",
       "<text text-anchor=\"middle\" x=\"2365.75\" y=\"-95.2\" font-family=\"Times New Roman,serif\" font-size=\"14.00\">grad 0.1464</text>\n",
       "</g>\n",
       "<!-- 2642693522192&#45;&gt;2642693530832* -->\n",
       "<g id=\"edge16\" class=\"edge\">\n",
       "<title>2642693522192&#45;&gt;2642693530832*</title>\n",
       "<path fill=\"none\" stroke=\"black\" d=\"M2407.23,-93.65C2485,-87.77 2593.21,-79.59 2649.54,-75.33\"/>\n",
       "<polygon fill=\"black\" stroke=\"black\" points=\"2649.53,-78.84 2659.23,-74.6 2649,-71.86 2649.53,-78.84\"/>\n",
       "</g>\n",
       "<!-- 2642693522192+&#45;&gt;2642693522192 -->\n",
       "<g id=\"edge8\" class=\"edge\">\n",
       "<title>2642693522192+&#45;&gt;2642693522192</title>\n",
       "<path fill=\"none\" stroke=\"black\" d=\"M1966.11,-100.5C2016.54,-100.5 2129.09,-100.5 2212.72,-100.5\"/>\n",
       "<polygon fill=\"black\" stroke=\"black\" points=\"2212.55,-104 2222.55,-100.5 2212.55,-97 2212.55,-104\"/>\n",
       "</g>\n",
       "<!-- 2642693717200 -->\n",
       "<g id=\"node20\" class=\"node\">\n",
       "<title>2642693717200</title>\n",
       "<polygon fill=\"none\" stroke=\"black\" points=\"1.5,-84.5 1.5,-120.5 198,-120.5 198,-84.5 1.5,-84.5\"/>\n",
       "<text text-anchor=\"middle\" x=\"16.25\" y=\"-97.2\" font-family=\"Times New Roman,serif\" font-size=\"14.00\">x1</text>\n",
       "<polyline fill=\"none\" stroke=\"black\" points=\"31,-84.75 31,-120.5\"/>\n",
       "<text text-anchor=\"middle\" x=\"71.25\" y=\"-97.2\" font-family=\"Times New Roman,serif\" font-size=\"14.00\">data 2.0000</text>\n",
       "<polyline fill=\"none\" stroke=\"black\" points=\"111.5,-84.75 111.5,-120.5\"/>\n",
       "<text text-anchor=\"middle\" x=\"154.75\" y=\"-97.2\" font-family=\"Times New Roman,serif\" font-size=\"14.00\">grad &#45;1.5000</text>\n",
       "</g>\n",
       "<!-- 2642693533136* -->\n",
       "<g id=\"node28\" class=\"node\">\n",
       "<title>2642693533136*</title>\n",
       "<ellipse fill=\"none\" stroke=\"black\" cx=\"262.5\" cy=\"-102.5\" rx=\"27\" ry=\"18\"/>\n",
       "<text text-anchor=\"middle\" x=\"262.5\" y=\"-97.08\" font-family=\"Times New Roman,serif\" font-size=\"14.00\">*</text>\n",
       "</g>\n",
       "<!-- 2642693717200&#45;&gt;2642693533136* -->\n",
       "<g id=\"edge23\" class=\"edge\">\n",
       "<title>2642693717200&#45;&gt;2642693533136*</title>\n",
       "<path fill=\"none\" stroke=\"black\" d=\"M198.43,-102.5C207.33,-102.5 215.94,-102.5 223.79,-102.5\"/>\n",
       "<polygon fill=\"black\" stroke=\"black\" points=\"223.53,-106 233.53,-102.5 223.53,-99 223.53,-106\"/>\n",
       "</g>\n",
       "<!-- 2642693706512 -->\n",
       "<g id=\"node21\" class=\"node\">\n",
       "<title>2642693706512</title>\n",
       "<polygon fill=\"none\" stroke=\"black\" points=\"714.38,-56.5 714.38,-92.5 900.38,-92.5 900.38,-56.5 714.38,-56.5\"/>\n",
       "<text text-anchor=\"middle\" x=\"726.12\" y=\"-69.2\" font-family=\"Times New Roman,serif\" font-size=\"14.00\">b</text>\n",
       "<polyline fill=\"none\" stroke=\"black\" points=\"737.88,-56.75 737.88,-92.5\"/>\n",
       "<text text-anchor=\"middle\" x=\"778.12\" y=\"-69.2\" font-family=\"Times New Roman,serif\" font-size=\"14.00\">data 6.8814</text>\n",
       "<polyline fill=\"none\" stroke=\"black\" points=\"818.38,-56.75 818.38,-92.5\"/>\n",
       "<text text-anchor=\"middle\" x=\"859.38\" y=\"-69.2\" font-family=\"Times New Roman,serif\" font-size=\"14.00\">grad 0.5000</text>\n",
       "</g>\n",
       "<!-- 2642693706512&#45;&gt;2642693527056+ -->\n",
       "<g id=\"edge11\" class=\"edge\">\n",
       "<title>2642693706512&#45;&gt;2642693527056+</title>\n",
       "<path fill=\"none\" stroke=\"black\" d=\"M900.59,-87.13C924.65,-90.43 949.22,-93.79 968.53,-96.44\"/>\n",
       "<polygon fill=\"black\" stroke=\"black\" points=\"967.94,-99.89 978.32,-97.78 968.89,-92.95 967.94,-99.89\"/>\n",
       "</g>\n",
       "<!-- 2642693530000 -->\n",
       "<g id=\"node22\" class=\"node\">\n",
       "<title>2642693530000</title>\n",
       "<polygon fill=\"none\" stroke=\"black\" points=\"1071,-28.5 1071,-64.5 1253.25,-64.5 1253.25,-28.5 1071,-28.5\"/>\n",
       "<text text-anchor=\"middle\" x=\"1080.88\" y=\"-41.2\" font-family=\"Times New Roman,serif\" font-size=\"14.00\"> </text>\n",
       "<polyline fill=\"none\" stroke=\"black\" points=\"1090.75,-28.75 1090.75,-64.5\"/>\n",
       "<text text-anchor=\"middle\" x=\"1131\" y=\"-41.2\" font-family=\"Times New Roman,serif\" font-size=\"14.00\">data 2.0000</text>\n",
       "<polyline fill=\"none\" stroke=\"black\" points=\"1171.25,-28.75 1171.25,-64.5\"/>\n",
       "<text text-anchor=\"middle\" x=\"1212.25\" y=\"-41.2\" font-family=\"Times New Roman,serif\" font-size=\"14.00\">grad 0.2203</text>\n",
       "</g>\n",
       "<!-- 2642693530000&#45;&gt;2642693536464* -->\n",
       "<g id=\"edge25\" class=\"edge\">\n",
       "<title>2642693530000&#45;&gt;2642693536464*</title>\n",
       "<path fill=\"none\" stroke=\"black\" d=\"M1253.38,-62.36C1262.68,-64 1271.71,-65.58 1279.9,-67.02\"/>\n",
       "<polygon fill=\"black\" stroke=\"black\" points=\"1279.29,-70.47 1289.75,-68.75 1280.5,-63.58 1279.29,-70.47\"/>\n",
       "</g>\n",
       "<!-- 2642693713232 -->\n",
       "<g id=\"node23\" class=\"node\">\n",
       "<title>2642693713232</title>\n",
       "<polygon fill=\"none\" stroke=\"black\" points=\"0,-29.5 0,-65.5 199.5,-65.5 199.5,-29.5 0,-29.5\"/>\n",
       "<text text-anchor=\"middle\" x=\"16.25\" y=\"-42.2\" font-family=\"Times New Roman,serif\" font-size=\"14.00\">w1</text>\n",
       "<polyline fill=\"none\" stroke=\"black\" points=\"32.5,-29.75 32.5,-65.5\"/>\n",
       "<text text-anchor=\"middle\" x=\"75\" y=\"-42.2\" font-family=\"Times New Roman,serif\" font-size=\"14.00\">data &#45;3.0000</text>\n",
       "<polyline fill=\"none\" stroke=\"black\" points=\"117.5,-29.75 117.5,-65.5\"/>\n",
       "<text text-anchor=\"middle\" x=\"158.5\" y=\"-42.2\" font-family=\"Times New Roman,serif\" font-size=\"14.00\">grad 1.0000</text>\n",
       "</g>\n",
       "<!-- 2642693713232&#45;&gt;2642693533136* -->\n",
       "<g id=\"edge21\" class=\"edge\">\n",
       "<title>2642693713232&#45;&gt;2642693533136*</title>\n",
       "<path fill=\"none\" stroke=\"black\" d=\"M173.43,-65.97C182.28,-68.63 191.14,-71.49 199.5,-74.5 209.59,-78.13 220.33,-82.71 229.98,-87.11\"/>\n",
       "<polygon fill=\"black\" stroke=\"black\" points=\"228.41,-90.24 238.95,-91.3 231.37,-83.9 228.41,-90.24\"/>\n",
       "</g>\n",
       "<!-- 2642693535696 -->\n",
       "<g id=\"node24\" class=\"node\">\n",
       "<title>2642693535696</title>\n",
       "<polygon fill=\"none\" stroke=\"black\" points=\"2442.75,-31.5 2442.75,-67.5 2625,-67.5 2625,-31.5 2442.75,-31.5\"/>\n",
       "<text text-anchor=\"middle\" x=\"2452.62\" y=\"-44.2\" font-family=\"Times New Roman,serif\" font-size=\"14.00\"> </text>\n",
       "<polyline fill=\"none\" stroke=\"black\" points=\"2462.5,-31.75 2462.5,-67.5\"/>\n",
       "<text text-anchor=\"middle\" x=\"2502.75\" y=\"-44.2\" font-family=\"Times New Roman,serif\" font-size=\"14.00\">data 0.1464</text>\n",
       "<polyline fill=\"none\" stroke=\"black\" points=\"2543,-31.75 2543,-67.5\"/>\n",
       "<text text-anchor=\"middle\" x=\"2584\" y=\"-44.2\" font-family=\"Times New Roman,serif\" font-size=\"14.00\">grad 4.8284</text>\n",
       "</g>\n",
       "<!-- 2642693535696&#45;&gt;2642693530832* -->\n",
       "<g id=\"edge28\" class=\"edge\">\n",
       "<title>2642693535696&#45;&gt;2642693530832*</title>\n",
       "<path fill=\"none\" stroke=\"black\" d=\"M2625.12,-63.15C2633.88,-64.47 2642.37,-65.75 2650.12,-66.92\"/>\n",
       "<polygon fill=\"black\" stroke=\"black\" points=\"2649.33,-70.34 2659.74,-68.38 2650.38,-63.42 2649.33,-70.34\"/>\n",
       "</g>\n",
       "<!-- 2642693535696**&#45;1&#45;&gt;2642693535696 -->\n",
       "<g id=\"edge9\" class=\"edge\">\n",
       "<title>2642693535696**&#45;1&#45;&gt;2642693535696</title>\n",
       "<path fill=\"none\" stroke=\"black\" d=\"M2343.14,-45.99C2365.34,-46.4 2398.5,-47.01 2430.92,-47.61\"/>\n",
       "<polygon fill=\"black\" stroke=\"black\" points=\"2430.76,-51.11 2440.83,-47.8 2430.89,-44.11 2430.76,-51.11\"/>\n",
       "</g>\n",
       "<!-- 2642693531024 -->\n",
       "<g id=\"node26\" class=\"node\">\n",
       "<title>2642693531024</title>\n",
       "<polygon fill=\"none\" stroke=\"black\" points=\"1689,-110.5 1689,-146.5 1875.75,-146.5 1875.75,-110.5 1689,-110.5\"/>\n",
       "<text text-anchor=\"middle\" x=\"1698.88\" y=\"-123.2\" font-family=\"Times New Roman,serif\" font-size=\"14.00\"> </text>\n",
       "<polyline fill=\"none\" stroke=\"black\" points=\"1708.75,-110.75 1708.75,-146.5\"/>\n",
       "<text text-anchor=\"middle\" x=\"1751.25\" y=\"-123.2\" font-family=\"Times New Roman,serif\" font-size=\"14.00\">data &#45;1.0000</text>\n",
       "<polyline fill=\"none\" stroke=\"black\" points=\"1793.75,-110.75 1793.75,-146.5\"/>\n",
       "<text text-anchor=\"middle\" x=\"1834.75\" y=\"-123.2\" font-family=\"Times New Roman,serif\" font-size=\"14.00\">grad 0.1464</text>\n",
       "</g>\n",
       "<!-- 2642693531024&#45;&gt;2642693522192+ -->\n",
       "<g id=\"edge13\" class=\"edge\">\n",
       "<title>2642693531024&#45;&gt;2642693522192+</title>\n",
       "<path fill=\"none\" stroke=\"black\" d=\"M1875.85,-111.73C1884.72,-110.12 1893.31,-108.56 1901.12,-107.14\"/>\n",
       "<polygon fill=\"black\" stroke=\"black\" points=\"1901.62,-110.61 1910.83,-105.38 1900.37,-103.72 1901.62,-110.61\"/>\n",
       "</g>\n",
       "<!-- 2642693533136 -->\n",
       "<g id=\"node27\" class=\"node\">\n",
       "<title>2642693533136</title>\n",
       "<polygon fill=\"none\" stroke=\"black\" points=\"325.5,-84.5 325.5,-120.5 545.25,-120.5 545.25,-84.5 325.5,-84.5\"/>\n",
       "<text text-anchor=\"middle\" x=\"351.88\" y=\"-97.2\" font-family=\"Times New Roman,serif\" font-size=\"14.00\">x1*w1</text>\n",
       "<polyline fill=\"none\" stroke=\"black\" points=\"378.25,-84.75 378.25,-120.5\"/>\n",
       "<text text-anchor=\"middle\" x=\"420.75\" y=\"-97.2\" font-family=\"Times New Roman,serif\" font-size=\"14.00\">data &#45;6.0000</text>\n",
       "<polyline fill=\"none\" stroke=\"black\" points=\"463.25,-84.75 463.25,-120.5\"/>\n",
       "<text text-anchor=\"middle\" x=\"504.25\" y=\"-97.2\" font-family=\"Times New Roman,serif\" font-size=\"14.00\">grad 0.5000</text>\n",
       "</g>\n",
       "<!-- 2642693533136&#45;&gt;2642693522064+ -->\n",
       "<g id=\"edge26\" class=\"edge\">\n",
       "<title>2642693533136&#45;&gt;2642693522064+</title>\n",
       "<path fill=\"none\" stroke=\"black\" d=\"M545.56,-119.75C554.32,-121.14 562.71,-122.46 570.34,-123.67\"/>\n",
       "<polygon fill=\"black\" stroke=\"black\" points=\"569.7,-127.11 580.13,-125.21 570.8,-120.2 569.7,-127.11\"/>\n",
       "</g>\n",
       "<!-- 2642693533136*&#45;&gt;2642693533136 -->\n",
       "<g id=\"edge10\" class=\"edge\">\n",
       "<title>2642693533136*&#45;&gt;2642693533136</title>\n",
       "<path fill=\"none\" stroke=\"black\" d=\"M289.82,-102.5C296.93,-102.5 305.11,-102.5 313.89,-102.5\"/>\n",
       "<polygon fill=\"black\" stroke=\"black\" points=\"313.78,-106 323.78,-102.5 313.78,-99 313.78,-106\"/>\n",
       "</g>\n",
       "</g>\n",
       "</svg>\n"
      ],
      "text/plain": [
       "<graphviz.graphs.Digraph at 0x2674ccf05d0>"
      ]
     },
     "execution_count": 25,
     "metadata": {},
     "output_type": "execute_result"
    }
   ],
   "source": [
    "# inputs x1,x2\n",
    "x1 = Value(2.0, label=\"x1\")\n",
    "x2 = Value(0.0, label=\"x2\")\n",
    "# weights w1,w2\n",
    "w1 = Value(-3.0, label=\"w1\")\n",
    "w2 = Value(1.0, label=\"w2\")\n",
    "# bias of the neuron\n",
    "b = Value(6.8813735870195432, label=\"b\")\n",
    "# x1*w1 + x2*w2 + b\n",
    "x1w1 = x1 * w1\n",
    "x1w1.label = \"x1*w1\"\n",
    "x2w2 = x2 * w2\n",
    "x2w2.label = \"x2*w2\"\n",
    "x1w1x2w2 = x1w1 + x2w2\n",
    "x1w1x2w2.label = \"x1*w1 + x2*w2\"\n",
    "n = x1w1x2w2 + b\n",
    "n.label = \"n\"\n",
    "# ----\n",
    "e = (2 * n).exp()\n",
    "o = (e - 1) / (e + 1)\n",
    "# ----\n",
    "o.label = \"o\"\n",
    "o.backward()\n",
    "draw_dot(o)"
   ]
  },
  {
   "cell_type": "code",
   "execution_count": null,
   "metadata": {
    "id": "MdTSQAS_kTxI",
    "outputId": "68347056-99a6-44ad-e23b-f3707865f819"
   },
   "outputs": [
    {
     "name": "stdout",
     "output_type": "stream",
     "text": [
      "1 4\n",
      "2 5\n",
      "3 6\n"
     ]
    }
   ],
   "source": [
    "for x,y in zip([1, 2, 3], [4, 5, 6]):\n",
    "    print(x, y)"
   ]
  },
  {
   "cell_type": "code",
   "execution_count": null,
   "metadata": {
    "id": "0o8nXAVNkTxI",
    "outputId": "655ed62e-8f2e-4307-8ea5-b9fbab8c3d23"
   },
   "outputs": [
    {
     "data": {
      "text/plain": [
       "[1, 2, 3, 4]"
      ]
     },
     "execution_count": 27,
     "metadata": {},
     "output_type": "execute_result"
    }
   ],
   "source": [
    "[1, 2, 3 ] + [4]"
   ]
  },
  {
   "cell_type": "code",
   "execution_count": null,
   "metadata": {
    "id": "8elQHMFMkTxI",
    "outputId": "79796690-f792-47b8-8605-c37bf1239c53"
   },
   "outputs": [
    {
     "data": {
      "text/plain": [
       "10"
      ]
     },
     "execution_count": 29,
     "metadata": {},
     "output_type": "execute_result"
    }
   ],
   "source": [
    "sum([1, 2, 3], 4)"
   ]
  },
  {
   "cell_type": "code",
   "execution_count": null,
   "metadata": {
    "id": "8vmegcOVkTxI"
   },
   "outputs": [],
   "source": [
    "class Neuron:\n",
    "    def __init__(self, n_in):\n",
    "        self.w = [Value(random.uniform(-1, 1)) for _ in range(n_in)] # [value(w1), value(w2), value(w3)]\n",
    "        self.b = Value(random.uniform(-1, 1)) # value(b)\n",
    "\n",
    "    def __call__(self, x):\n",
    "        # w * x + b\n",
    "        act = sum((wi * xi for wi, xi in zip(self.w, x)), self.b)\n",
    "        out = act.sigmoid()\n",
    "        return out\n",
    "\n",
    "    def parameters(self):\n",
    "        return self.w + [self.b]\n",
    "\n",
    "\n",
    "class Layer:\n",
    "    def __init__(self, n_in, n_out):\n",
    "        self.neurons = [Neuron(n_in) for _ in range(n_out)]\n",
    "\n",
    "    def __call__(self, x):\n",
    "        outs = [n(x) for n in self.neurons]\n",
    "        return outs[0] if len(outs) == 1 else outs\n",
    "\n",
    "    def parameters(self):\n",
    "        return [p for neuron in self.neurons\n",
    "                    for p in neuron.parameters()]\n",
    "\n",
    "\n",
    "class MLP:\n",
    "    def __init__(self, layer_sizes: list[int]):\n",
    "        self.layers = [\n",
    "            Layer(layer_sizes[i], layer_sizes[i + 1])\n",
    "            for i in range(len(layer_sizes) - 1)\n",
    "        ]\n",
    "\n",
    "    def __call__(self, x):\n",
    "        for layer in self.layers:\n",
    "            x = layer(x)\n",
    "        return x\n",
    "\n",
    "    def parameters(self):\n",
    "        return [p for layer in self.layers\n",
    "                    for p in layer.parameters()]"
   ]
  },
  {
   "cell_type": "code",
   "execution_count": null,
   "metadata": {
    "id": "eXT_3d0zkTxI",
    "outputId": "87a6510b-6e20-436a-a84b-67eaab3fc0ac"
   },
   "outputs": [
    {
     "data": {
      "text/plain": [
       "Value(data=0.5703180137916017)"
      ]
     },
     "execution_count": 31,
     "metadata": {},
     "output_type": "execute_result"
    }
   ],
   "source": [
    "x = [2.0, 3.0, -1.0]\n",
    "model = MLP([2, 2, 1])\n",
    "model(x)"
   ]
  },
  {
   "cell_type": "code",
   "execution_count": null,
   "metadata": {
    "id": "EhRijIq8kTxI"
   },
   "outputs": [],
   "source": [
    "X = [\n",
    "    [0., 0.],\n",
    "    [1., 0.],\n",
    "    [0., 1.],\n",
    "    [1., 1.],\n",
    "]\n",
    "y = [0., 1., 1., 0.]  # desired targets"
   ]
  },
  {
   "cell_type": "code",
   "execution_count": null,
   "metadata": {
    "id": "XpjBjnzNkTxI"
   },
   "outputs": [],
   "source": [
    "def tainNN(model, X, y, learning_rate=0.5, epochs=20, print_loss=True):\n",
    "    for k in range(epochs):\n",
    "        # forward pass\n",
    "        y_pred = [model(x) for x in X]\n",
    "        loss = sum((y_out - y_true) ** 2 for y_true, y_out in zip(y, y_pred)) / len(X)\n",
    "\n",
    "        # backward pass\n",
    "        for p in model.parameters():\n",
    "            p.grad = 0.0\n",
    "        loss.backward()\n",
    "\n",
    "        # update\n",
    "        for p in model.parameters():\n",
    "            p.data -= learning_rate * p.grad\n",
    "        if print_loss:\n",
    "            print(k, loss.data)"
   ]
  },
  {
   "cell_type": "code",
   "execution_count": null,
   "metadata": {
    "id": "uTWeuLJskTxI",
    "outputId": "39bfc7e3-4f51-42b2-8bcd-3f4d844d2e29"
   },
   "outputs": [
    {
     "name": "stdout",
     "output_type": "stream",
     "text": [
      "0 0.2617679638660853\n",
      "1 0.2594920435444164\n",
      "2 0.25760546409275104\n",
      "3 0.25605250100520655\n",
      "4 0.2547815841047564\n",
      "5 0.25374647009000384\n",
      "6 0.25290669348590183\n",
      "7 0.25222751713323677\n",
      "8 0.2516795697903264\n",
      "9 0.2512383144077802\n",
      "10 0.25088344816399405\n",
      "11 0.2505982999912515\n",
      "12 0.25036926456370445\n",
      "13 0.2501852928944277\n",
      "14 0.2500374472808804\n",
      "15 0.24991852069989462\n",
      "16 0.2498227164442371\n",
      "17 0.24974538168509958\n",
      "18 0.24968278791673398\n",
      "19 0.24963195132317498\n"
     ]
    }
   ],
   "source": [
    "tainNN(model, X, y, epochs=20)"
   ]
  },
  {
   "cell_type": "code",
   "execution_count": null,
   "metadata": {
    "id": "_k56yjtSkTxI",
    "outputId": "6fda69be-936c-40ee-cffb-4bcc6a7b75a4"
   },
   "outputs": [
    {
     "data": {
      "text/plain": [
       "[Value(data=0.5210741149194338),\n",
       " Value(data=0.5426449342187509),\n",
       " Value(data=0.481147780561001),\n",
       " Value(data=0.49846006004422805)]"
      ]
     },
     "execution_count": 36,
     "metadata": {},
     "output_type": "execute_result"
    }
   ],
   "source": [
    "y_pred = [model(x) for x in X]\n",
    "y_pred"
   ]
  },
  {
   "cell_type": "code",
   "execution_count": null,
   "metadata": {
    "id": "JyEjJe0GkTxJ",
    "outputId": "7bbfad17-859c-452f-d436-38a51857bd9e"
   },
   "outputs": [
    {
     "name": "stdout",
     "output_type": "stream",
     "text": [
      "0 0.24959048662772815\n",
      "1 0.2495564887066137\n",
      "2 0.2495284370259976\n",
      "3 0.2495051187157535\n",
      "4 0.24948556678220207\n",
      "5 0.24946901056836365\n",
      "6 0.24945483609058708\n",
      "7 0.249442554319097\n",
      "8 0.24943177583507703\n",
      "9 0.24942219059779014\n",
      "10 0.24941355180140434\n",
      "11 0.24940566300144368\n",
      "12 0.2493983678529758\n",
      "13 0.24939154193355703\n",
      "14 0.24938508622932617\n",
      "15 0.24937892194727285\n",
      "16 0.24937298638456362\n",
      "17 0.2493672296401453\n",
      "18 0.24936161199729587\n",
      "19 0.24935610184052318\n"
     ]
    }
   ],
   "source": [
    "tainNN(model, X, y, epochs=20)"
   ]
  },
  {
   "cell_type": "code",
   "execution_count": null,
   "metadata": {
    "id": "1NUBoDVakTxJ",
    "outputId": "39d752c1-586f-4179-9c45-2487e8450674"
   },
   "outputs": [
    {
     "data": {
      "text/plain": [
       "[Value(data=0.5105227432964075),\n",
       " Value(data=0.5328782866926743),\n",
       " Value(data=0.46956530540834424),\n",
       " Value(data=0.48703753890138857)]"
      ]
     },
     "execution_count": 38,
     "metadata": {},
     "output_type": "execute_result"
    }
   ],
   "source": [
    "y_pred = [model(x) for x in X]\n",
    "y_pred"
   ]
  },
  {
   "cell_type": "code",
   "execution_count": null,
   "metadata": {
    "id": "r25ClOXokTxJ"
   },
   "outputs": [],
   "source": [
    "tainNN(model, X, y, epochs=20000, print_loss=False)"
   ]
  },
  {
   "cell_type": "code",
   "execution_count": null,
   "metadata": {
    "id": "JQSXq4ankTxJ",
    "outputId": "d03e6648-c6e1-422d-fdce-d3cc90c10e3b"
   },
   "outputs": [
    {
     "data": {
      "text/plain": [
       "[Value(data=0.016782634174409297),\n",
       " Value(data=0.9809036279185234),\n",
       " Value(data=0.9841164514780381),\n",
       " Value(data=0.014948346665948128)]"
      ]
     },
     "execution_count": 40,
     "metadata": {},
     "output_type": "execute_result"
    }
   ],
   "source": [
    "y_pred = [model(x) for x in X]\n",
    "y_pred"
   ]
  },
  {
   "cell_type": "code",
   "execution_count": null,
   "metadata": {
    "id": "jjeWfBH3kTxJ"
   },
   "outputs": [],
   "source": [
    "def visualize_mlp(mlp: MLP, input_dim: int):\n",
    "    dot = Digraph(format=\"svg\", graph_attr={\"rankdir\": \"LR\"})\n",
    "\n",
    "    for i in range(input_dim):\n",
    "        dot.node(f\"x{i}\", f\"Input {i+1}\", shape=\"circle\", style=\"filled\", color=\"lightblue\")\n",
    "\n",
    "    previous_layer = [f\"x{i}\" for i in range(input_dim)]\n",
    "    for layer_idx, layer in enumerate(mlp.layers):\n",
    "        current_layer = []\n",
    "        for neuron_idx, neuron in enumerate(layer.neurons):\n",
    "            neuron_label = f\"Layer {layer_idx + 1}, N{neuron_idx + 1}\\n(bias={neuron.b.data:.2f})\"\n",
    "            neuron_name = f\"n{layer_idx}_{neuron_idx}\"\n",
    "            dot.node(neuron_name, neuron_label, shape=\"circle\", style=\"filled\", color=\"lightgrey\")\n",
    "            current_layer.append(neuron_name)\n",
    "\n",
    "            for prev_idx, prev in enumerate(previous_layer):\n",
    "                weight = neuron.w[prev_idx]\n",
    "                dot.edge(prev, neuron_name, label=f\"{weight.data:.2f}\")\n",
    "\n",
    "        previous_layer = current_layer  # Update for next layer\n",
    "\n",
    "    return dot"
   ]
  },
  {
   "cell_type": "code",
   "execution_count": null,
   "metadata": {
    "id": "l3gdRg10kTxJ",
    "outputId": "471387dd-39d9-4012-da68-910a0afc0600"
   },
   "outputs": [
    {
     "data": {
      "image/svg+xml": [
       "<?xml version=\"1.0\" encoding=\"UTF-8\" standalone=\"no\"?>\n",
       "<!DOCTYPE svg PUBLIC \"-//W3C//DTD SVG 1.1//EN\"\n",
       " \"http://www.w3.org/Graphics/SVG/1.1/DTD/svg11.dtd\">\n",
       "<!-- Generated by graphviz version 9.0.0 (20230911.1827)\n",
       " -->\n",
       "<!-- Pages: 1 -->\n",
       "<svg width=\"446pt\" height=\"262pt\"\n",
       " viewBox=\"0.00 0.00 446.30 261.56\" xmlns=\"http://www.w3.org/2000/svg\" xmlns:xlink=\"http://www.w3.org/1999/xlink\">\n",
       "<g id=\"graph0\" class=\"graph\" transform=\"scale(1 1) rotate(0) translate(4 257.56)\">\n",
       "<polygon fill=\"white\" stroke=\"none\" points=\"-4,4 -4,-257.56 442.3,-257.56 442.3,4 -4,4\"/>\n",
       "<!-- x0 -->\n",
       "<g id=\"node1\" class=\"node\">\n",
       "<title>x0</title>\n",
       "<ellipse fill=\"lightblue\" stroke=\"lightblue\" cx=\"37.09\" cy=\"-176.98\" rx=\"37.09\" ry=\"37.09\"/>\n",
       "<text text-anchor=\"middle\" x=\"37.09\" y=\"-171.56\" font-family=\"Times New Roman,serif\" font-size=\"14.00\">Input 1</text>\n",
       "</g>\n",
       "<!-- n0_0 -->\n",
       "<g id=\"node3\" class=\"node\">\n",
       "<title>n0_0</title>\n",
       "<ellipse fill=\"lightgrey\" stroke=\"lightgrey\" cx=\"198.26\" cy=\"-193.98\" rx=\"59.57\" ry=\"59.57\"/>\n",
       "<text text-anchor=\"middle\" x=\"198.26\" y=\"-196.43\" font-family=\"Times New Roman,serif\" font-size=\"14.00\">Layer 1, N1</text>\n",
       "<text text-anchor=\"middle\" x=\"198.26\" y=\"-180.68\" font-family=\"Times New Roman,serif\" font-size=\"14.00\">(bias=&#45;3.00)</text>\n",
       "</g>\n",
       "<!-- x0&#45;&gt;n0_0 -->\n",
       "<g id=\"edge1\" class=\"edge\">\n",
       "<title>x0&#45;&gt;n0_0</title>\n",
       "<path fill=\"none\" stroke=\"black\" d=\"M74.21,-180.84C90.01,-182.53 109.1,-184.57 127.49,-186.53\"/>\n",
       "<polygon fill=\"black\" stroke=\"black\" points=\"126.99,-190 137.3,-187.58 127.73,-183.04 126.99,-190\"/>\n",
       "<text text-anchor=\"middle\" x=\"106.43\" y=\"-187.43\" font-family=\"Times New Roman,serif\" font-size=\"14.00\">&#45;5.77</text>\n",
       "</g>\n",
       "<!-- n0_1 -->\n",
       "<g id=\"node4\" class=\"node\">\n",
       "<title>n0_1</title>\n",
       "<ellipse fill=\"lightgrey\" stroke=\"lightgrey\" cx=\"198.26\" cy=\"-57.98\" rx=\"57.98\" ry=\"57.98\"/>\n",
       "<text text-anchor=\"middle\" x=\"198.26\" y=\"-60.43\" font-family=\"Times New Roman,serif\" font-size=\"14.00\">Layer 1, N2</text>\n",
       "<text text-anchor=\"middle\" x=\"198.26\" y=\"-44.68\" font-family=\"Times New Roman,serif\" font-size=\"14.00\">(bias=3.17)</text>\n",
       "</g>\n",
       "<!-- x0&#45;&gt;n0_1 -->\n",
       "<g id=\"edge3\" class=\"edge\">\n",
       "<title>x0&#45;&gt;n0_1</title>\n",
       "<path fill=\"none\" stroke=\"black\" d=\"M70.56,-160.81C86.25,-152.44 105.02,-141.55 120.68,-129.98 130.14,-123 139.69,-114.97 148.68,-106.87\"/>\n",
       "<polygon fill=\"black\" stroke=\"black\" points=\"151.01,-109.48 155.99,-100.13 146.27,-104.33 151.01,-109.48\"/>\n",
       "<text text-anchor=\"middle\" x=\"106.43\" y=\"-150.43\" font-family=\"Times New Roman,serif\" font-size=\"14.00\">&#45;6.24</text>\n",
       "</g>\n",
       "<!-- x1 -->\n",
       "<g id=\"node2\" class=\"node\">\n",
       "<title>x1</title>\n",
       "<ellipse fill=\"lightblue\" stroke=\"lightblue\" cx=\"37.09\" cy=\"-78.98\" rx=\"37.09\" ry=\"37.09\"/>\n",
       "<text text-anchor=\"middle\" x=\"37.09\" y=\"-73.56\" font-family=\"Times New Roman,serif\" font-size=\"14.00\">Input 2</text>\n",
       "</g>\n",
       "<!-- x1&#45;&gt;n0_0 -->\n",
       "<g id=\"edge2\" class=\"edge\">\n",
       "<title>x1&#45;&gt;n0_0</title>\n",
       "<path fill=\"none\" stroke=\"black\" d=\"M72.64,-90.16C88.08,-96.04 106.06,-104.13 120.68,-114.23 131.54,-121.73 142.09,-130.96 151.71,-140.44\"/>\n",
       "<polygon fill=\"black\" stroke=\"black\" points=\"149,-142.67 158.5,-147.35 153.99,-137.76 149,-142.67\"/>\n",
       "<text text-anchor=\"middle\" x=\"106.43\" y=\"-116.43\" font-family=\"Times New Roman,serif\" font-size=\"14.00\">5.56</text>\n",
       "</g>\n",
       "<!-- x1&#45;&gt;n0_1 -->\n",
       "<g id=\"edge4\" class=\"edge\">\n",
       "<title>x1&#45;&gt;n0_1</title>\n",
       "<path fill=\"none\" stroke=\"black\" d=\"M74.21,-74.22C90.46,-72.07 110.21,-69.47 129.08,-66.98\"/>\n",
       "<polygon fill=\"black\" stroke=\"black\" points=\"129.41,-70.46 138.87,-65.69 128.49,-63.53 129.41,-70.46\"/>\n",
       "<text text-anchor=\"middle\" x=\"106.43\" y=\"-73.43\" font-family=\"Times New Roman,serif\" font-size=\"14.00\">6.34</text>\n",
       "</g>\n",
       "<!-- n1_0 -->\n",
       "<g id=\"node5\" class=\"node\">\n",
       "<title>n1_0</title>\n",
       "<ellipse fill=\"lightgrey\" stroke=\"lightgrey\" cx=\"380.31\" cy=\"-124.98\" rx=\"57.98\" ry=\"57.98\"/>\n",
       "<text text-anchor=\"middle\" x=\"380.31\" y=\"-127.43\" font-family=\"Times New Roman,serif\" font-size=\"14.00\">Layer 2, N1</text>\n",
       "<text text-anchor=\"middle\" x=\"380.31\" y=\"-111.68\" font-family=\"Times New Roman,serif\" font-size=\"14.00\">(bias=4.35)</text>\n",
       "</g>\n",
       "<!-- n0_0&#45;&gt;n1_0 -->\n",
       "<g id=\"edge5\" class=\"edge\">\n",
       "<title>n0_0&#45;&gt;n1_0</title>\n",
       "<path fill=\"none\" stroke=\"black\" d=\"M254.26,-172.91C273.46,-165.55 295.17,-157.23 315.06,-149.61\"/>\n",
       "<polygon fill=\"black\" stroke=\"black\" points=\"316.08,-152.96 324.16,-146.12 313.57,-146.43 316.08,-152.96\"/>\n",
       "<text text-anchor=\"middle\" x=\"290.08\" y=\"-165.43\" font-family=\"Times New Roman,serif\" font-size=\"14.00\">9.73</text>\n",
       "</g>\n",
       "<!-- n0_1&#45;&gt;n1_0 -->\n",
       "<g id=\"edge6\" class=\"edge\">\n",
       "<title>n0_1&#45;&gt;n1_0</title>\n",
       "<path fill=\"none\" stroke=\"black\" d=\"M252.79,-77.9C272.3,-85.16 294.56,-93.45 314.91,-101.02\"/>\n",
       "<polygon fill=\"black\" stroke=\"black\" points=\"313.66,-104.29 324.26,-104.5 316.1,-97.73 313.66,-104.29\"/>\n",
       "<text text-anchor=\"middle\" x=\"290.08\" y=\"-97.43\" font-family=\"Times New Roman,serif\" font-size=\"14.00\">&#45;9.25</text>\n",
       "</g>\n",
       "</g>\n",
       "</svg>\n"
      ],
      "text/plain": [
       "<graphviz.graphs.Digraph at 0x2674cc9c990>"
      ]
     },
     "execution_count": 42,
     "metadata": {},
     "output_type": "execute_result"
    }
   ],
   "source": [
    "visualize_mlp(model, 2)"
   ]
  },
  {
   "cell_type": "code",
   "execution_count": null,
   "metadata": {
    "id": "vlJngAwNkTxJ",
    "outputId": "653b2daa-4c68-4921-a0a7-16f4819c9cc7"
   },
   "outputs": [
    {
     "name": "stdout",
     "output_type": "stream",
     "text": [
      "Value(data=-5.767242148549658)\n",
      "Value(data=5.558838664524252)\n",
      "Value(data=-2.9989876289885626)\n"
     ]
    }
   ],
   "source": [
    "print(model.layers[0].neurons[0].w[0])\n",
    "print(model.layers[0].neurons[0].w[1])\n",
    "print(model.layers[0].neurons[0].b)"
   ]
  },
  {
   "cell_type": "code",
   "execution_count": null,
   "metadata": {
    "id": "s7sGr5A0kTxJ",
    "outputId": "b78b8f75-eeb4-4ab9-f502-273c9f3cec43"
   },
   "outputs": [
    {
     "name": "stdout",
     "output_type": "stream",
     "text": [
      "Value(data=-6.242712993850768)\n",
      "Value(data=6.342422727318408)\n",
      "Value(data=3.169926882655286)\n"
     ]
    }
   ],
   "source": [
    "print(model.layers[0].neurons[1].w[0])\n",
    "print(model.layers[0].neurons[1].w[1])\n",
    "print(model.layers[0].neurons[1].b)"
   ]
  },
  {
   "cell_type": "code",
   "execution_count": null,
   "metadata": {
    "id": "TLlsRRuWkTxJ",
    "outputId": "68f2b3ec-274e-460a-bdfe-d7233b364274"
   },
   "outputs": [
    {
     "name": "stdout",
     "output_type": "stream",
     "text": [
      "Value(data=9.72936693435386)\n",
      "Value(data=-9.252148542694455)\n",
      "Value(data=4.346809966993904)\n"
     ]
    }
   ],
   "source": [
    "print(model.layers[1].neurons[0].w[0])\n",
    "print(model.layers[1].neurons[0].w[1])\n",
    "print(model.layers[1].neurons[0].b)"
   ]
  },
  {
   "cell_type": "markdown",
   "metadata": {
    "id": "fx5qudnqkTxJ"
   },
   "source": [
    "# It's time to see a cool demo:\n",
    "\n",
    "http://playground.tensorflow.org/"
   ]
  }
 ],
 "metadata": {
  "colab": {
   "provenance": []
  },
  "kernelspec": {
   "display_name": "pytorch",
   "language": "python",
   "name": "python3"
  },
  "language_info": {
   "codemirror_mode": {
    "name": "ipython",
    "version": 3
   },
   "file_extension": ".py",
   "mimetype": "text/x-python",
   "name": "python",
   "nbconvert_exporter": "python",
   "pygments_lexer": "ipython3",
   "version": "3.11.0"
  }
 },
 "nbformat": 4,
 "nbformat_minor": 0
}
