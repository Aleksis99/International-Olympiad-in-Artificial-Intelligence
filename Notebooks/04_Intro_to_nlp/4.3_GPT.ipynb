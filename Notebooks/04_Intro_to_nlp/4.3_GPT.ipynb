{
  "cells": [
    {
      "cell_type": "markdown",
      "metadata": {
        "id": "LKomzAfUnzz7"
      },
      "source": [
        "EX 8 GPT LLM"
      ]
    },
    {
      "cell_type": "code",
      "execution_count": 1,
      "metadata": {
        "id": "Qrmy6eRTY5xM"
      },
      "outputs": [],
      "source": [
        "import math\n",
        "\n",
        "import torch\n",
        "import torch.nn as nn\n",
        "import torch.nn.functional as F\n",
        "from torch.utils.data import dataset\n",
        "import json\n",
        "from transformers import AutoTokenizer, PreTrainedTokenizerFast\n",
        "import numpy as np\n",
        "import pandas as pd\n",
        "import matplotlib.pyplot as plt\n",
        "from tqdm.auto import tqdm\n",
        "from sklearn.utils import shuffle\n",
        "from sklearn.model_selection import train_test_split\n",
        "from timeit import default_timer as timer\n",
        "from tokenizers import Tokenizer\n",
        "from tokenizers.processors import TemplateProcessing"
      ]
    },
    {
      "cell_type": "code",
      "source": [
        "torch.set_float32_matmul_precision(\"high\")"
      ],
      "metadata": {
        "id": "xwG4Di2xkONm"
      },
      "execution_count": 2,
      "outputs": []
    },
    {
      "cell_type": "code",
      "execution_count": 3,
      "metadata": {
        "colab": {
          "base_uri": "https://localhost:8080/"
        },
        "id": "I7oa5clqWvlP",
        "outputId": "c756dbe9-ddbf-4a85-911a-fbf4ced44982"
      },
      "outputs": [
        {
          "output_type": "stream",
          "name": "stdout",
          "text": [
            "cuda\n"
          ]
        }
      ],
      "source": [
        "device = torch.device('cuda' if torch.cuda.is_available() else 'cpu')\n",
        "print(device)"
      ]
    },
    {
      "cell_type": "code",
      "execution_count": 4,
      "metadata": {
        "colab": {
          "base_uri": "https://localhost:8080/"
        },
        "id": "Bunkm5N-cveR",
        "outputId": "3d93138b-301c-44bf-c358-bdf0b396fe26"
      },
      "outputs": [
        {
          "output_type": "stream",
          "name": "stdout",
          "text": [
            "Requirement already satisfied: datasets in /usr/local/lib/python3.11/dist-packages (3.6.0)\n",
            "Requirement already satisfied: torchinfo in /usr/local/lib/python3.11/dist-packages (1.8.0)\n",
            "Requirement already satisfied: huggingface_hub in /usr/local/lib/python3.11/dist-packages (0.33.1)\n",
            "Requirement already satisfied: fsspec in /usr/local/lib/python3.11/dist-packages (2025.3.0)\n",
            "Collecting fsspec\n",
            "  Using cached fsspec-2025.5.1-py3-none-any.whl.metadata (11 kB)\n",
            "Requirement already satisfied: filelock in /usr/local/lib/python3.11/dist-packages (from datasets) (3.18.0)\n",
            "Requirement already satisfied: numpy>=1.17 in /usr/local/lib/python3.11/dist-packages (from datasets) (2.0.2)\n",
            "Requirement already satisfied: pyarrow>=15.0.0 in /usr/local/lib/python3.11/dist-packages (from datasets) (18.1.0)\n",
            "Requirement already satisfied: dill<0.3.9,>=0.3.0 in /usr/local/lib/python3.11/dist-packages (from datasets) (0.3.7)\n",
            "Requirement already satisfied: pandas in /usr/local/lib/python3.11/dist-packages (from datasets) (2.2.2)\n",
            "Requirement already satisfied: requests>=2.32.2 in /usr/local/lib/python3.11/dist-packages (from datasets) (2.32.3)\n",
            "Requirement already satisfied: tqdm>=4.66.3 in /usr/local/lib/python3.11/dist-packages (from datasets) (4.67.1)\n",
            "Requirement already satisfied: xxhash in /usr/local/lib/python3.11/dist-packages (from datasets) (3.5.0)\n",
            "Requirement already satisfied: multiprocess<0.70.17 in /usr/local/lib/python3.11/dist-packages (from datasets) (0.70.15)\n",
            "Requirement already satisfied: packaging in /usr/local/lib/python3.11/dist-packages (from datasets) (24.2)\n",
            "Requirement already satisfied: pyyaml>=5.1 in /usr/local/lib/python3.11/dist-packages (from datasets) (6.0.2)\n",
            "Requirement already satisfied: typing-extensions>=3.7.4.3 in /usr/local/lib/python3.11/dist-packages (from huggingface_hub) (4.14.0)\n",
            "Requirement already satisfied: hf-xet<2.0.0,>=1.1.2 in /usr/local/lib/python3.11/dist-packages (from huggingface_hub) (1.1.4)\n",
            "Requirement already satisfied: aiohttp!=4.0.0a0,!=4.0.0a1 in /usr/local/lib/python3.11/dist-packages (from fsspec[http]<=2025.3.0,>=2023.1.0->datasets) (3.11.15)\n",
            "Requirement already satisfied: charset-normalizer<4,>=2 in /usr/local/lib/python3.11/dist-packages (from requests>=2.32.2->datasets) (3.4.2)\n",
            "Requirement already satisfied: idna<4,>=2.5 in /usr/local/lib/python3.11/dist-packages (from requests>=2.32.2->datasets) (3.10)\n",
            "Requirement already satisfied: urllib3<3,>=1.21.1 in /usr/local/lib/python3.11/dist-packages (from requests>=2.32.2->datasets) (2.4.0)\n",
            "Requirement already satisfied: certifi>=2017.4.17 in /usr/local/lib/python3.11/dist-packages (from requests>=2.32.2->datasets) (2025.6.15)\n",
            "Requirement already satisfied: python-dateutil>=2.8.2 in /usr/local/lib/python3.11/dist-packages (from pandas->datasets) (2.9.0.post0)\n",
            "Requirement already satisfied: pytz>=2020.1 in /usr/local/lib/python3.11/dist-packages (from pandas->datasets) (2025.2)\n",
            "Requirement already satisfied: tzdata>=2022.7 in /usr/local/lib/python3.11/dist-packages (from pandas->datasets) (2025.2)\n",
            "Requirement already satisfied: aiohappyeyeballs>=2.3.0 in /usr/local/lib/python3.11/dist-packages (from aiohttp!=4.0.0a0,!=4.0.0a1->fsspec[http]<=2025.3.0,>=2023.1.0->datasets) (2.6.1)\n",
            "Requirement already satisfied: aiosignal>=1.1.2 in /usr/local/lib/python3.11/dist-packages (from aiohttp!=4.0.0a0,!=4.0.0a1->fsspec[http]<=2025.3.0,>=2023.1.0->datasets) (1.3.2)\n",
            "Requirement already satisfied: attrs>=17.3.0 in /usr/local/lib/python3.11/dist-packages (from aiohttp!=4.0.0a0,!=4.0.0a1->fsspec[http]<=2025.3.0,>=2023.1.0->datasets) (25.3.0)\n",
            "Requirement already satisfied: frozenlist>=1.1.1 in /usr/local/lib/python3.11/dist-packages (from aiohttp!=4.0.0a0,!=4.0.0a1->fsspec[http]<=2025.3.0,>=2023.1.0->datasets) (1.7.0)\n",
            "Requirement already satisfied: multidict<7.0,>=4.5 in /usr/local/lib/python3.11/dist-packages (from aiohttp!=4.0.0a0,!=4.0.0a1->fsspec[http]<=2025.3.0,>=2023.1.0->datasets) (6.4.4)\n",
            "Requirement already satisfied: propcache>=0.2.0 in /usr/local/lib/python3.11/dist-packages (from aiohttp!=4.0.0a0,!=4.0.0a1->fsspec[http]<=2025.3.0,>=2023.1.0->datasets) (0.3.2)\n",
            "Requirement already satisfied: yarl<2.0,>=1.17.0 in /usr/local/lib/python3.11/dist-packages (from aiohttp!=4.0.0a0,!=4.0.0a1->fsspec[http]<=2025.3.0,>=2023.1.0->datasets) (1.20.1)\n",
            "Requirement already satisfied: six>=1.5 in /usr/local/lib/python3.11/dist-packages (from python-dateutil>=2.8.2->pandas->datasets) (1.17.0)\n"
          ]
        }
      ],
      "source": [
        "pip install -U datasets torchinfo huggingface_hub fsspec"
      ]
    },
    {
      "cell_type": "code",
      "execution_count": 5,
      "metadata": {
        "id": "MxKutCY4zEJT",
        "colab": {
          "base_uri": "https://localhost:8080/"
        },
        "outputId": "1f090a9e-b144-4cf9-bbbc-762b3e68fe26"
      },
      "outputs": [
        {
          "output_type": "stream",
          "name": "stderr",
          "text": [
            "/usr/local/lib/python3.11/dist-packages/huggingface_hub/utils/_auth.py:94: UserWarning: \n",
            "The secret `HF_TOKEN` does not exist in your Colab secrets.\n",
            "To authenticate with the Hugging Face Hub, create a token in your settings tab (https://huggingface.co/settings/tokens), set it as secret in your Google Colab and restart your session.\n",
            "You will be able to reuse this secret in all of your notebooks.\n",
            "Please note that authentication is recommended but still optional to access public models or datasets.\n",
            "  warnings.warn(\n"
          ]
        }
      ],
      "source": [
        "from datasets import load_dataset\n",
        "ds = load_dataset(\"stanfordnlp/imdb\")"
      ]
    },
    {
      "cell_type": "code",
      "execution_count": 6,
      "metadata": {
        "colab": {
          "base_uri": "https://localhost:8080/"
        },
        "id": "_q8KB5PUEdEq",
        "outputId": "18308d3f-517c-490a-b114-d140b3bf00d9"
      },
      "outputs": [
        {
          "output_type": "execute_result",
          "data": {
            "text/plain": [
              "DatasetDict({\n",
              "    train: Dataset({\n",
              "        features: ['text', 'label'],\n",
              "        num_rows: 25000\n",
              "    })\n",
              "    test: Dataset({\n",
              "        features: ['text', 'label'],\n",
              "        num_rows: 25000\n",
              "    })\n",
              "    unsupervised: Dataset({\n",
              "        features: ['text', 'label'],\n",
              "        num_rows: 50000\n",
              "    })\n",
              "})"
            ]
          },
          "metadata": {},
          "execution_count": 6
        }
      ],
      "source": [
        "ds"
      ]
    },
    {
      "cell_type": "code",
      "execution_count": 7,
      "metadata": {
        "id": "ikd8xRNsSWmj"
      },
      "outputs": [],
      "source": [
        "train = pd.DataFrame(ds['train'])\n",
        "test = pd.DataFrame(ds['test'])"
      ]
    },
    {
      "cell_type": "code",
      "source": [
        "unsupervised = pd.DataFrame(ds['unsupervised'])"
      ],
      "metadata": {
        "id": "Yms0jhhtgNWh"
      },
      "execution_count": 8,
      "outputs": []
    },
    {
      "cell_type": "code",
      "execution_count": 9,
      "metadata": {
        "id": "YWm8iMD4EsWL"
      },
      "outputs": [],
      "source": [
        "X_train, X_test =  train['text'], test['text']"
      ]
    },
    {
      "cell_type": "code",
      "execution_count": 10,
      "metadata": {
        "id": "YPWl0UuhSMDm"
      },
      "outputs": [],
      "source": [
        "X_train, X_val =  train_test_split(\n",
        "    X_train, test_size=0.1, random_state=42)"
      ]
    },
    {
      "cell_type": "code",
      "execution_count": 11,
      "metadata": {
        "id": "l74hqTv1FFkK",
        "colab": {
          "base_uri": "https://localhost:8080/"
        },
        "outputId": "69fac136-5f03-4ee1-8f91-ac6db9b66d3c"
      },
      "outputs": [
        {
          "output_type": "stream",
          "name": "stdout",
          "text": [
            "22500 2500 25000\n"
          ]
        }
      ],
      "source": [
        "print(len(X_train), len(X_val), len(X_test))"
      ]
    },
    {
      "cell_type": "code",
      "execution_count": 12,
      "metadata": {
        "id": "ZYTdRb2ET4BW"
      },
      "outputs": [],
      "source": [
        "checkpoint = 'HuggingFaceTB/SmolLM-135M-Instruct'\n",
        "pretrained_tokenizer = AutoTokenizer.from_pretrained(checkpoint)"
      ]
    },
    {
      "cell_type": "code",
      "source": [
        "pretrained_tokenizer(\"Attention Is All You Need\")"
      ],
      "metadata": {
        "id": "VRApAnqrZpFb",
        "colab": {
          "base_uri": "https://localhost:8080/"
        },
        "outputId": "5261e2fe-1df6-4d4b-a4c5-0183b7586b41"
      },
      "execution_count": 13,
      "outputs": [
        {
          "output_type": "execute_result",
          "data": {
            "text/plain": [
              "{'input_ids': [41319, 1431, 2018, 1206, 11448], 'attention_mask': [1, 1, 1, 1, 1]}"
            ]
          },
          "metadata": {},
          "execution_count": 13
        }
      ]
    },
    {
      "cell_type": "code",
      "source": [
        "pretrained_tokenizer.tokenize(\"Attention Is All You Needasdasd\")"
      ],
      "metadata": {
        "id": "QMfXS2W8ZprP",
        "colab": {
          "base_uri": "https://localhost:8080/"
        },
        "outputId": "066ad418-411d-4c0c-e727-08f5d7284b82"
      },
      "execution_count": 14,
      "outputs": [
        {
          "output_type": "execute_result",
          "data": {
            "text/plain": [
              "['Attention', 'ĠIs', 'ĠAll', 'ĠYou', 'ĠNeed', 'as', 'das', 'd']"
            ]
          },
          "metadata": {},
          "execution_count": 14
        }
      ]
    },
    {
      "cell_type": "code",
      "source": [
        "pretrained_tokenizer.special_tokens_map"
      ],
      "metadata": {
        "id": "nKKBou6JZUSd",
        "colab": {
          "base_uri": "https://localhost:8080/"
        },
        "outputId": "f3c0d2df-f5e0-4e5a-8ed7-6843f37d9bc6"
      },
      "execution_count": 15,
      "outputs": [
        {
          "output_type": "execute_result",
          "data": {
            "text/plain": [
              "{'bos_token': '<|im_start|>',\n",
              " 'eos_token': '<|im_end|>',\n",
              " 'unk_token': '<|endoftext|>',\n",
              " 'pad_token': '<|im_end|>',\n",
              " 'additional_special_tokens': ['<|im_start|>', '<|im_end|>']}"
            ]
          },
          "metadata": {},
          "execution_count": 15
        }
      ]
    },
    {
      "cell_type": "code",
      "source": [
        "tokenizer = Tokenizer.from_pretrained(checkpoint)"
      ],
      "metadata": {
        "id": "u604VbEDZLaB"
      },
      "execution_count": 16,
      "outputs": []
    },
    {
      "cell_type": "code",
      "source": [
        "tokenizer.post_processor = TemplateProcessing(\n",
        "        single=\"<|im_start|> $A <|im_end|>\",\n",
        "        special_tokens=[\n",
        "            (\"<|im_end|>\", pretrained_tokenizer.eos_token_id),\n",
        "            (\"<|im_start|>\", pretrained_tokenizer.bos_token_id),\n",
        "        ],\n",
        "    )\n",
        "tokenizer = PreTrainedTokenizerFast(\n",
        "        tokenizer_object=tokenizer,\n",
        "        unk_token=\"<|endoftext|>\",\n",
        "        bos_token=\"<|im_start|>\",\n",
        "        pad_token=\"<|im_end|>\",\n",
        "        eos_token=\"<|im_end|>\",\n",
        "    )"
      ],
      "metadata": {
        "id": "e3GTUxCsZNGB"
      },
      "execution_count": 17,
      "outputs": []
    },
    {
      "cell_type": "code",
      "source": [
        "tokenizer(\"Attention Is All You Need\")"
      ],
      "metadata": {
        "colab": {
          "base_uri": "https://localhost:8080/"
        },
        "id": "3WdNaDh_heQ_",
        "outputId": "7b9dc047-6419-414f-8258-f5d64d1310c9"
      },
      "execution_count": 18,
      "outputs": [
        {
          "output_type": "execute_result",
          "data": {
            "text/plain": [
              "{'input_ids': [1, 41319, 1431, 2018, 1206, 11448, 2], 'token_type_ids': [0, 0, 0, 0, 0, 0, 0], 'attention_mask': [1, 1, 1, 1, 1, 1, 1]}"
            ]
          },
          "metadata": {},
          "execution_count": 18
        }
      ]
    },
    {
      "cell_type": "code",
      "source": [
        "tokenizer(\"Attention Is All You Need\", \"Attention Is All You Need\")"
      ],
      "metadata": {
        "id": "8iHs8dJ7Zr0L",
        "colab": {
          "base_uri": "https://localhost:8080/"
        },
        "outputId": "8bc33fa3-6832-4e5a-b783-f224f3183f81"
      },
      "execution_count": 19,
      "outputs": [
        {
          "output_type": "execute_result",
          "data": {
            "text/plain": [
              "{'input_ids': [41319, 1431, 2018, 1206, 11448, 41319, 1431, 2018, 1206, 11448], 'token_type_ids': [0, 0, 0, 0, 0, 1, 1, 1, 1, 1], 'attention_mask': [1, 1, 1, 1, 1, 1, 1, 1, 1, 1]}"
            ]
          },
          "metadata": {},
          "execution_count": 19
        }
      ]
    },
    {
      "cell_type": "code",
      "source": [
        "tokenizer.tokenize(\"Attention Is All You Need\")"
      ],
      "metadata": {
        "id": "sWCnoJRBZsiD",
        "colab": {
          "base_uri": "https://localhost:8080/"
        },
        "outputId": "8f1a8fc4-7df8-483a-aee0-cce7ed86f242"
      },
      "execution_count": 20,
      "outputs": [
        {
          "output_type": "execute_result",
          "data": {
            "text/plain": [
              "['Attention', 'ĠIs', 'ĠAll', 'ĠYou', 'ĠNeed']"
            ]
          },
          "metadata": {},
          "execution_count": 20
        }
      ]
    },
    {
      "cell_type": "code",
      "execution_count": 21,
      "metadata": {
        "id": "7lzii5P0Txdl",
        "colab": {
          "base_uri": "https://localhost:8080/"
        },
        "outputId": "ab464ff4-0c2a-4b8e-d18f-2571ba02052f"
      },
      "outputs": [
        {
          "output_type": "execute_result",
          "data": {
            "text/plain": [
              "49152"
            ]
          },
          "metadata": {},
          "execution_count": 21
        }
      ],
      "source": [
        "tokenizer.vocab_size"
      ]
    },
    {
      "cell_type": "code",
      "execution_count": 22,
      "metadata": {
        "id": "_L9fz9_DT39i",
        "colab": {
          "base_uri": "https://localhost:8080/"
        },
        "outputId": "3eea4d3d-72ac-457c-bf38-4f95380fb11a"
      },
      "outputs": [
        {
          "output_type": "execute_result",
          "data": {
            "text/plain": [
              "['Ġhandheld',\n",
              " 'ĠMO',\n",
              " 'Ġcolleagues',\n",
              " 'plication',\n",
              " 'ę',\n",
              " 'Ġmisfortune',\n",
              " 'Fried',\n",
              " 'vote',\n",
              " 'iates',\n",
              " 'ĠDeutsch']"
            ]
          },
          "metadata": {},
          "execution_count": 22
        }
      ],
      "source": [
        "list(tokenizer.vocab)[:10]"
      ]
    },
    {
      "cell_type": "code",
      "execution_count": 23,
      "metadata": {
        "id": "TFzcTcvsUo0w"
      },
      "outputs": [],
      "source": [
        "X_train   = tokenizer(X_train.to_list())\n",
        "X_val     = tokenizer(X_val.to_list())\n",
        "X_test    = tokenizer(X_test.to_list())"
      ]
    },
    {
      "cell_type": "code",
      "execution_count": 24,
      "metadata": {
        "id": "b1UdYjXESxDb",
        "colab": {
          "base_uri": "https://localhost:8080/"
        },
        "outputId": "98342713-33c3-4668-ec4d-14957af9dad6"
      },
      "outputs": [
        {
          "output_type": "execute_result",
          "data": {
            "text/plain": [
              "{'input_ids': [1, 41319, 1431, 2018, 1206, 11448, 2], 'token_type_ids': [0, 0, 0, 0, 0, 0, 0], 'attention_mask': [1, 1, 1, 1, 1, 1, 1]}"
            ]
          },
          "metadata": {},
          "execution_count": 24
        }
      ],
      "source": [
        "tokenizer(\"Attention Is All You Need\")"
      ]
    },
    {
      "cell_type": "code",
      "source": [
        "tokenizer.decode([1, 41319, 1431, 2018, 1206, 11448, 2])"
      ],
      "metadata": {
        "id": "UPKO2HzqfKYR",
        "colab": {
          "base_uri": "https://localhost:8080/",
          "height": 35
        },
        "outputId": "96083b69-1d8e-4840-9dbe-1619cc6a520a"
      },
      "execution_count": 25,
      "outputs": [
        {
          "output_type": "execute_result",
          "data": {
            "text/plain": [
              "'<|im_start|>Attention Is All You Need<|im_end|>'"
            ],
            "application/vnd.google.colaboratory.intrinsic+json": {
              "type": "string"
            }
          },
          "metadata": {},
          "execution_count": 25
        }
      ]
    },
    {
      "cell_type": "code",
      "execution_count": 26,
      "metadata": {
        "id": "eWKu82-8SxT0",
        "colab": {
          "base_uri": "https://localhost:8080/"
        },
        "outputId": "386c675b-5989-4de6-bc04-e19cbb167895"
      },
      "outputs": [
        {
          "output_type": "execute_result",
          "data": {
            "text/plain": [
              "['Attention', 'ĠIs', 'ĠAll', 'ĠYou', 'ĠNeed']"
            ]
          },
          "metadata": {},
          "execution_count": 26
        }
      ],
      "source": [
        "tokenizer.tokenize(\"Attention Is All You Need\")"
      ]
    },
    {
      "cell_type": "code",
      "execution_count": 27,
      "metadata": {
        "id": "zkbK6Qv380a9",
        "colab": {
          "base_uri": "https://localhost:8080/"
        },
        "outputId": "5a27bfe6-fc84-4f0e-d665-c54b7d9785db"
      },
      "outputs": [
        {
          "output_type": "execute_result",
          "data": {
            "text/plain": [
              "[None, 0, 1, 2, 3, 4, None]"
            ]
          },
          "metadata": {},
          "execution_count": 27
        }
      ],
      "source": [
        "tokenizer(\"Attention Is All You Need\").word_ids()"
      ]
    },
    {
      "cell_type": "code",
      "execution_count": 28,
      "metadata": {
        "id": "2q46XxACe2Ml",
        "colab": {
          "base_uri": "https://localhost:8080/"
        },
        "outputId": "9a846794-81ed-47c2-b325-73aa41e023cc"
      },
      "outputs": [
        {
          "output_type": "execute_result",
          "data": {
            "text/plain": [
              "{'input_ids': [1, 39844, 1526, 2], 'token_type_ids': [0, 0, 0, 0], 'attention_mask': [1, 1, 1, 1]}"
            ]
          },
          "metadata": {},
          "execution_count": 28
        }
      ],
      "source": [
        "tokenizer(\"Gradients\")"
      ]
    },
    {
      "cell_type": "code",
      "execution_count": 29,
      "metadata": {
        "id": "i-UmMhNLe2Q4",
        "colab": {
          "base_uri": "https://localhost:8080/"
        },
        "outputId": "b04f7a31-bb87-40eb-d2c5-698e23474c7d"
      },
      "outputs": [
        {
          "output_type": "execute_result",
          "data": {
            "text/plain": [
              "['Grad', 'ients']"
            ]
          },
          "metadata": {},
          "execution_count": 29
        }
      ],
      "source": [
        "tokenizer.tokenize(\"Gradients\")"
      ]
    },
    {
      "cell_type": "code",
      "execution_count": 30,
      "metadata": {
        "id": "8JzPddFrU3Fg",
        "colab": {
          "base_uri": "https://localhost:8080/"
        },
        "outputId": "4c27d4da-6f36-493d-8ef8-699d10f1ce0d"
      },
      "outputs": [
        {
          "output_type": "execute_result",
          "data": {
            "text/plain": [
              "2"
            ]
          },
          "metadata": {},
          "execution_count": 30
        }
      ],
      "source": [
        "tokenizer.pad_token_id"
      ]
    },
    {
      "cell_type": "code",
      "execution_count": 31,
      "metadata": {
        "id": "uzPLCfuCUezL"
      },
      "outputs": [],
      "source": [
        "def data_generator(X, max_len=512, batch_size=32, shuffle_data=True, pad_token_id=tokenizer.pad_token_id):\n",
        "\n",
        "    input_ids = X['input_ids']\n",
        "\n",
        "    if shuffle_data:\n",
        "        input_ids = shuffle(input_ids)\n",
        "\n",
        "    n_batches = int(np.ceil(len(input_ids) / batch_size))\n",
        "\n",
        "    for batch in range(n_batches):\n",
        "        end = min((batch + 1) * batch_size, len(input_ids))\n",
        "\n",
        "        input_ids_batch = input_ids[batch * batch_size:end]\n",
        "\n",
        "        batch_max_len = np.max([len(x) for x in input_ids_batch])\n",
        "        batch_max_len = min(batch_max_len, max_len)\n",
        "\n",
        "        for sample in range(len(input_ids_batch)):\n",
        "            x = input_ids_batch[sample]\n",
        "            if len(x) > batch_max_len:\n",
        "                x = x[-batch_max_len:]\n",
        "            pad = [pad_token_id] * (batch_max_len - len(x))\n",
        "            input_ids_batch[sample] = x + pad\n",
        "\n",
        "        input_ids_batch = torch.from_numpy(np.array(input_ids_batch)).long()\n",
        "\n",
        "        yield input_ids_batch"
      ]
    },
    {
      "cell_type": "code",
      "execution_count": 32,
      "metadata": {
        "id": "p0u4ypfLf6Xp",
        "colab": {
          "base_uri": "https://localhost:8080/"
        },
        "outputId": "bd7dbbb0-74c1-45ee-d011-d9ee4461a327"
      },
      "outputs": [
        {
          "output_type": "execute_result",
          "data": {
            "text/plain": [
              "tensor([2, 3, 4, 1])"
            ]
          },
          "metadata": {},
          "execution_count": 32
        }
      ],
      "source": [
        "torch.roll(torch.tensor([1, 2, 3, 4]), shifts=-1, dims=0)"
      ]
    },
    {
      "cell_type": "code",
      "source": [
        "[1, 2, 3]\n",
        "[2, 3, 4]"
      ],
      "metadata": {
        "colab": {
          "base_uri": "https://localhost:8080/"
        },
        "id": "utDjtFY0GQjW",
        "outputId": "bfbd6ced-bb87-49ac-bd7b-0f7509d0d0d1"
      },
      "execution_count": 33,
      "outputs": [
        {
          "output_type": "execute_result",
          "data": {
            "text/plain": [
              "[2, 3, 4]"
            ]
          },
          "metadata": {},
          "execution_count": 33
        }
      ]
    },
    {
      "cell_type": "code",
      "execution_count": 34,
      "metadata": {
        "id": "TMSAfB5SEFtL"
      },
      "outputs": [],
      "source": [
        "def train_step(model,\n",
        "               data_loader,\n",
        "               loss_fn,\n",
        "               optimizer,\n",
        "               device):\n",
        "\n",
        "    model.train()\n",
        "\n",
        "    train_loss = []\n",
        "\n",
        "    for input_ids in data_loader():\n",
        "        input_ids = input_ids.to(device)\n",
        "        optimizer.zero_grad()\n",
        "\n",
        "        # shift targets backwards\n",
        "        targets = input_ids.clone().detach()\n",
        "        targets = torch.roll(targets, shifts=-1, dims=1)\n",
        "        targets[:, -1] = tokenizer.pad_token_id\n",
        "        # targets.shape: [n_samples, max_seq_len]\n",
        "\n",
        "        y_pred = model(input_ids)\n",
        "        # y_pred.shape: [n_samples, max_seq_len, vocab_size]\n",
        "        # but PyTorch expects [n_samples, vocab_size, max_seq_len]\n",
        "        # loss = loss_fn(y_pred.transpose(2, 1), targets)\n",
        "        # the fast way to do it\n",
        "        # y_pred.shape: [n_samples * max_seq_len, vocab_size]\n",
        "        loss = loss_fn(\n",
        "                y_pred.reshape((-1, y_pred.size(-1))),\n",
        "                targets.reshape(-1),\n",
        "            )\n",
        "        train_loss.append(loss.item())\n",
        "\n",
        "        loss.backward()\n",
        "        optimizer.step()\n",
        "\n",
        "    return np.mean(train_loss)\n",
        "\n",
        "def test_step(model,\n",
        "              data_loader,\n",
        "              loss_fn,\n",
        "              device):\n",
        "    model.eval()\n",
        "\n",
        "    test_loss = []\n",
        "\n",
        "    with torch.inference_mode():\n",
        "        for input_ids in data_loader():\n",
        "            input_ids = input_ids.to(device)\n",
        "\n",
        "            targets = input_ids.clone().detach()\n",
        "            targets = torch.roll(targets, shifts=-1, dims=1)\n",
        "            targets[:, -1] = tokenizer.pad_token_id\n",
        "            # targets.shape: [n_samples, max_seq_len]\n",
        "            y_pred = model(input_ids)\n",
        "            # y_pred.shape: [n_samples, max_seq_len, vocab_size]\n",
        "            # but PyTorch expects [n_samples, vocab_size, max_seq_len]\n",
        "            # loss = loss_fn(y_pred.transpose(2, 1), targets)\n",
        "            # the fast way to do it\n",
        "            loss = loss_fn(\n",
        "                    y_pred.reshape((-1, y_pred.size(-1))),\n",
        "                    targets.reshape(-1),\n",
        "                )\n",
        "\n",
        "            test_loss.append(loss.item())\n",
        "\n",
        "    return np.mean(test_loss)\n",
        "\n",
        "def train(model,\n",
        "          train_data_loader,\n",
        "          test_data_loader,\n",
        "          optimizer,\n",
        "          loss_fn,\n",
        "          epochs,\n",
        "          device):\n",
        "\n",
        "    results = {\n",
        "        \"train_loss\": [],\n",
        "        \"test_loss\": [],\n",
        "        }\n",
        "\n",
        "    model.to(device)\n",
        "\n",
        "    for epoch in tqdm(range(epochs)):\n",
        "\n",
        "        start_time = timer()\n",
        "        train_loss = train_step(model=model,\n",
        "                                data_loader=train_data_loader,\n",
        "                                loss_fn=loss_fn,\n",
        "                                optimizer=optimizer,\n",
        "                                device=device)\n",
        "        end_time = timer()\n",
        "        test_loss = test_step(model=model,\n",
        "          data_loader=test_data_loader,\n",
        "          loss_fn=loss_fn,\n",
        "          device=device)\n",
        "\n",
        "        results[\"train_loss\"].append(train_loss)\n",
        "        results[\"test_loss\"].append(test_loss)\n",
        "\n",
        "        print(\n",
        "          f\"Epoch: {epoch+1} | \"\n",
        "          f\"train_loss: {train_loss:.4f} | \"\n",
        "          f\"test_loss: {test_loss:.4f} | \"\n",
        "          f\"time: {(end_time-start_time):.4f}\"\n",
        "        )\n",
        "\n",
        "    return results"
      ]
    },
    {
      "cell_type": "code",
      "execution_count": 35,
      "metadata": {
        "id": "m7hgFJxEM6Ey"
      },
      "outputs": [],
      "source": [
        "def plot_loss_curves(results):\n",
        "\n",
        "    loss = results[\"train_loss\"]\n",
        "    test_loss = results[\"test_loss\"]\n",
        "\n",
        "    epochs = range(len(results[\"train_loss\"]))\n",
        "\n",
        "    plt.figure(figsize=(15, 7))\n",
        "\n",
        "    # Plot loss\n",
        "    plt.subplot(1, 2, 1)\n",
        "    plt.plot(epochs, loss, label=\"train_loss\")\n",
        "    plt.plot(epochs, test_loss, label=\"test_loss\")\n",
        "    plt.title(\"Loss\")\n",
        "    plt.xlabel(\"Epochs\")\n",
        "    plt.legend()\n"
      ]
    },
    {
      "cell_type": "code",
      "source": [
        "torch.tril(torch.ones(5, 5))"
      ],
      "metadata": {
        "colab": {
          "base_uri": "https://localhost:8080/"
        },
        "id": "NqzvlXNRjTSr",
        "outputId": "04b42dd6-c756-433f-afef-03d51a473e1a"
      },
      "execution_count": 36,
      "outputs": [
        {
          "output_type": "execute_result",
          "data": {
            "text/plain": [
              "tensor([[1., 0., 0., 0., 0.],\n",
              "        [1., 1., 0., 0., 0.],\n",
              "        [1., 1., 1., 0., 0.],\n",
              "        [1., 1., 1., 1., 0.],\n",
              "        [1., 1., 1., 1., 1.]])"
            ]
          },
          "metadata": {},
          "execution_count": 36
        }
      ]
    },
    {
      "cell_type": "code",
      "execution_count": 37,
      "metadata": {
        "id": "P6_BXdNYEurC",
        "colab": {
          "base_uri": "https://localhost:8080/"
        },
        "outputId": "f7844333-559b-4c5c-8966-0ac3a9071a9e"
      },
      "outputs": [
        {
          "output_type": "execute_result",
          "data": {
            "text/plain": [
              "tensor([[[[1., 0., 0., 0., 0.],\n",
              "          [1., 1., 0., 0., 0.],\n",
              "          [1., 1., 1., 0., 0.],\n",
              "          [1., 1., 1., 1., 0.],\n",
              "          [1., 1., 1., 1., 1.]]]])"
            ]
          },
          "metadata": {},
          "execution_count": 37
        }
      ],
      "source": [
        "cm = torch.tril(torch.ones(5, 5)).view(1, 1, 5, 5)\n",
        "cm"
      ]
    },
    {
      "cell_type": "code",
      "execution_count": 38,
      "metadata": {
        "id": "ItZ7dCL6FA4X",
        "colab": {
          "base_uri": "https://localhost:8080/"
        },
        "outputId": "dbee4ea4-a241-47b7-bbcf-deb91048dc9a"
      },
      "outputs": [
        {
          "output_type": "execute_result",
          "data": {
            "text/plain": [
              "tensor([[[[1., -inf, -inf, -inf, -inf],\n",
              "          [1., 1., -inf, -inf, -inf],\n",
              "          [1., 1., 1., -inf, -inf],\n",
              "          [1., 1., 1., 1., -inf],\n",
              "          [1., 1., 1., 1., 1.]]]])"
            ]
          },
          "metadata": {},
          "execution_count": 38
        }
      ],
      "source": [
        "cm.masked_fill(cm[:, :, :5, :5] == 0, float('-inf'))"
      ]
    },
    {
      "cell_type": "code",
      "execution_count": 39,
      "metadata": {
        "id": "7xmgcOr9-Arc",
        "colab": {
          "base_uri": "https://localhost:8080/"
        },
        "outputId": "c4b0a7cf-be96-4c14-b91a-8d1659addf2a"
      },
      "outputs": [
        {
          "output_type": "execute_result",
          "data": {
            "text/plain": [
              "tensor([[1., 1., 1., 1.]])"
            ]
          },
          "metadata": {},
          "execution_count": 39
        }
      ],
      "source": [
        "torch.ones([1, 4])"
      ]
    },
    {
      "cell_type": "code",
      "source": [
        "torch.ones([1, 4]).view(1, 1, 1, 4)"
      ],
      "metadata": {
        "colab": {
          "base_uri": "https://localhost:8080/"
        },
        "id": "1wSh6AA3j0BM",
        "outputId": "721de598-057e-41e6-d4ec-3d81a7e8a17b"
      },
      "execution_count": 40,
      "outputs": [
        {
          "output_type": "execute_result",
          "data": {
            "text/plain": [
              "tensor([[[[1., 1., 1., 1.]]]])"
            ]
          },
          "metadata": {},
          "execution_count": 40
        }
      ]
    },
    {
      "cell_type": "code",
      "execution_count": 41,
      "metadata": {
        "id": "QaTIPa6HFq8l",
        "colab": {
          "base_uri": "https://localhost:8080/"
        },
        "outputId": "3e53a156-67d0-4136-9922-fcf6cb397655"
      },
      "outputs": [
        {
          "output_type": "execute_result",
          "data": {
            "text/plain": [
              "tensor([[[[1., 1., 1., 1.]]]])"
            ]
          },
          "metadata": {},
          "execution_count": 41
        }
      ],
      "source": [
        "tensor = torch.ones([1, 4])\n",
        "tensor[:, None, None, :]"
      ]
    },
    {
      "cell_type": "code",
      "execution_count": 42,
      "metadata": {
        "id": "D2Uk1Mi5f6Xq"
      },
      "outputs": [],
      "source": [
        "# Causal Self Attention from scrach\n",
        "class CausalSelfAttention(nn.Module):\n",
        "    def __init__(self, d_model, n_heads, max_len):\n",
        "        # D: d_model i.e. model size\n",
        "        # d_v: value head size\n",
        "        # d_k: key head size\n",
        "        # h: n_heads\n",
        "        # Assume d_v = d_k\n",
        "        super().__init__()\n",
        "        assert d_model % n_heads == 0\n",
        "        d_k = d_model // n_heads\n",
        "        self.d_k = d_k\n",
        "        self.n_heads = n_heads\n",
        "\n",
        "        self.key = nn.Linear(d_model, d_k * n_heads)\n",
        "        self.query = nn.Linear(d_model, d_k * n_heads)\n",
        "        self.value = nn.Linear(d_model, d_k * n_heads)\n",
        "\n",
        "        self.fc = nn.Linear(d_k * n_heads, d_model)\n",
        "\n",
        "        # causal mask\n",
        "        cm = torch.tril(torch.ones(max_len, max_len))\n",
        "        self.register_buffer(\n",
        "            \"causal_mask\",\n",
        "            cm.view(1, 1, max_len, max_len)\n",
        "        )\n",
        "\n",
        "    def forward(self, q, k, v, pad_mask=None):\n",
        "        # D: d_model i.e. model size\n",
        "        # N: n_samples\n",
        "        # d_v: value head size\n",
        "        # d_k: key head size\n",
        "        # h: n_heads\n",
        "        # T: seq_len i.e. time steps\n",
        "        # Assume d_v = d_k\n",
        "        # q.shape == k.shape == v.shape == N x T x D == N x T x (h * d_k)\n",
        "        q = self.query(q) # N x T x (h * d_k)\n",
        "        k = self.key(k)   # N x T x (h * d_k)\n",
        "        v = self.value(v) # N x T x (h * d_v)\n",
        "\n",
        "        N = q.shape[0]\n",
        "        T = q.shape[1]\n",
        "\n",
        "        # change the shape to:\n",
        "        # (N, T, h, d_k) -> (N, h, T, d_k)\n",
        "        q = q.view(N, T, self.n_heads, self.d_k).transpose(1, 2)\n",
        "        k = k.view(N, T, self.n_heads, self.d_k).transpose(1, 2)\n",
        "        v = v.view(N, T, self.n_heads, self.d_k).transpose(1, 2)\n",
        "\n",
        "        # compute attention weights\n",
        "        # (N, h, T, d_k) x (N, h, d_k, T) --> (N, h, T, T)\n",
        "        # N, M, T, d_k @ N, M, d_k, T -> N, M, T, T\n",
        "        # for i in [1..T]:\n",
        "        #     for j in [1..d_k]:\n",
        "        #         T, d_k @ d_k, T -> T, T\n",
        "\n",
        "        attn_scores = q @ k.transpose(-2, -1) / math.sqrt(self.d_k)\n",
        "        if pad_mask is not None:\n",
        "            attn_scores = attn_scores.masked_fill(\n",
        "                pad_mask[:, None, None, :] == 0, float(-10000))\n",
        "\n",
        "        attn_scores = attn_scores.masked_fill(\n",
        "              self.causal_mask[:, :, :T, :T] == 0, float(-10000))\n",
        "        attn_weights = F.softmax(attn_scores, dim=-1)\n",
        "\n",
        "        # compute attention-weighted values\n",
        "        # (N, h, T, T) x (N, h, T, d_k) --> (N, h, T, d_k)\n",
        "        A = attn_weights @ v\n",
        "\n",
        "        # reshape it back before final linear layer\n",
        "        A = A.transpose(1, 2) # (N, T, h, d_k)\n",
        "        # self.d_k * self.n_heads = D\n",
        "        A = A.contiguous().view(N, T, self.d_k * self.n_heads) # (N, T, h * d_k)\n",
        "\n",
        "        return self.fc(A) # shape: N x T x D\n",
        "        # for i in [1..N]:\n",
        "        #     for j in [1..T]:\n",
        "        #         D @ D x D -> D"
      ]
    },
    {
      "cell_type": "code",
      "source": [
        "# Causal Self Attention using F.scaled_dot_product_attention\n",
        "class CausalSelfAttention(nn.Module):\n",
        "    def __init__(self, d_model, n_heads, max_len):\n",
        "        super().__init__()\n",
        "        assert d_model % n_heads == 0\n",
        "        # Assume d_v = d_k\n",
        "        d_k = d_model // n_heads\n",
        "        self.d_k = d_k\n",
        "        self.n_heads = n_heads\n",
        "        # d_model == d_k * n_heads == D\n",
        "        self.query = nn.Linear(d_model, d_k * n_heads)\n",
        "        self.key = nn.Linear(d_model, d_k * n_heads)\n",
        "        self.value = nn.Linear(d_model, d_k * n_heads)\n",
        "        # final linear layer\n",
        "        self.fc = nn.Linear(d_k * n_heads, d_model)\n",
        "\n",
        "    def forward(self, q, k, v):\n",
        "        q = self.query(q)  # N x T x (h*d_k)\n",
        "        k = self.key(k)  # N x T x (h*d_k)\n",
        "        v = self.value(v)  # N x T x (h*d_v)\n",
        "\n",
        "        batch_size = q.shape[0]\n",
        "        seq_len = q.shape[1]\n",
        "\n",
        "        # change the shape to:\n",
        "        # (N, T, h, d_k) -> (N, h, T, d_k)\n",
        "        # in order for matrix multiply to work properly\n",
        "        q = q.view(batch_size, seq_len, self.n_heads, self.d_k).transpose(1, 2)\n",
        "        k = k.view(batch_size, seq_len, self.n_heads, self.d_k).transpose(1, 2)\n",
        "        v = v.view(batch_size, seq_len, self.n_heads, self.d_k).transpose(1, 2)\n",
        "        attn_score = F.scaled_dot_product_attention(q, k, v, is_causal=True) # flash attention\n",
        "        # attn_score.shape: (N, T, h, d_k)\n",
        "        attn_score = attn_score.transpose(1, 2).contiguous().view(batch_size, seq_len, self.d_k * self.n_heads)\n",
        "        # attn_score.shape: (N, T, D)\n",
        "        return self.fc(attn_score)"
      ],
      "metadata": {
        "id": "TZ5qWieHyOqt"
      },
      "execution_count": null,
      "outputs": []
    },
    {
      "cell_type": "code",
      "source": [
        "# transformer block using CausalSelfAttention\n",
        "# i.e. attention implemented from scrach\n",
        "# or using F.scaled_dot_product_attention\n",
        "class TransformerBlock(nn.Module):\n",
        "    def __init__(self, d_model, n_heads, max_len, dropout_prob=0.1):\n",
        "        super().__init__()\n",
        "\n",
        "        self.ln1 = nn.LayerNorm(d_model)\n",
        "        self.ln2 = nn.LayerNorm(d_model)\n",
        "        self.mha = CausalSelfAttention(d_model, n_heads, max_len)\n",
        "        self.ann = nn.Sequential(\n",
        "            nn.Linear(d_model, d_model * 4),\n",
        "            nn.GELU(),\n",
        "            nn.Linear(d_model * 4, d_model),\n",
        "            nn.Dropout(dropout_prob),\n",
        "        )\n",
        "        self.dropout = nn.Dropout(p=dropout_prob)\n",
        "\n",
        "    def forward(self, x, pad_mask=None):\n",
        "        x = self.ln1(x + self.mha(x, x, x))\n",
        "        x = self.ln2(x + self.ann(x))\n",
        "        x = self.dropout(x)\n",
        "        return x"
      ],
      "metadata": {
        "id": "vvjkg0wSZx3r"
      },
      "execution_count": 45,
      "outputs": []
    },
    {
      "cell_type": "code",
      "source": [
        "# transformer block using nn.MultiheadAttention\n",
        "class TransformerBlock(nn.Module):\n",
        "    def __init__(self, d_model, n_heads, max_len, dropout_prob=0.1):\n",
        "        super().__init__()\n",
        "\n",
        "        self.ln1 = nn.LayerNorm(d_model)\n",
        "        self.ln2 = nn.LayerNorm(d_model)\n",
        "        self.mha = nn.MultiheadAttention(d_model, n_heads, dropout=dropout_prob, batch_first=True)\n",
        "        self.ann = nn.Sequential(\n",
        "            nn.Linear(d_model, d_model * 4),\n",
        "            nn.GELU(),\n",
        "            nn.Linear(d_model * 4, d_model),\n",
        "            nn.Dropout(dropout_prob),\n",
        "        )\n",
        "        self.dropout = nn.Dropout(p=dropout_prob)\n",
        "\n",
        "        # causal mask\n",
        "        cm = torch.tril(torch.ones(max_len, max_len))\n",
        "        self.register_buffer(\n",
        "            \"causal_mask\",\n",
        "            cm\n",
        "        )\n",
        "\n",
        "    def forward(self, x, pad_mask=None):\n",
        "        x = self.ln1(x +\n",
        "                     self.mha(x, x, x,\n",
        "                              need_weights=False,\n",
        "                              is_causal=True,\n",
        "                              attn_mask=self.causal_mask)[0]\n",
        "                     )\n",
        "        x = self.ln2(x + self.ann(x))\n",
        "        x = self.dropout(x)\n",
        "        return x"
      ],
      "metadata": {
        "id": "fjlNQtbfN8X-"
      },
      "execution_count": 46,
      "outputs": []
    },
    {
      "cell_type": "code",
      "execution_count": 47,
      "metadata": {
        "id": "-Gtl1GnrHvPp",
        "colab": {
          "base_uri": "https://localhost:8080/"
        },
        "outputId": "befb8463-7c3b-4522-edfb-9a4a79d6348d"
      },
      "outputs": [
        {
          "output_type": "execute_result",
          "data": {
            "text/plain": [
              "tensor([[0],\n",
              "        [1],\n",
              "        [2],\n",
              "        [3],\n",
              "        [4]])"
            ]
          },
          "metadata": {},
          "execution_count": 47
        }
      ],
      "source": [
        "torch.arange(5).unsqueeze(1)"
      ]
    },
    {
      "cell_type": "code",
      "execution_count": 48,
      "metadata": {
        "id": "bIBk8JEnFsGR",
        "colab": {
          "base_uri": "https://localhost:8080/"
        },
        "outputId": "19ae482e-2a6e-40ec-f689-4f56d05c6d29"
      },
      "outputs": [
        {
          "output_type": "execute_result",
          "data": {
            "text/plain": [
              "tensor([0, 1, 2, 3, 4])"
            ]
          },
          "metadata": {},
          "execution_count": 48
        }
      ],
      "source": [
        "torch.arange(5)"
      ]
    },
    {
      "cell_type": "code",
      "execution_count": 49,
      "metadata": {
        "id": "uOZrOM0Cf6Xq"
      },
      "outputs": [],
      "source": [
        "class PositionalEncoding(nn.Module):\n",
        "    def __init__(self, d_model, max_len=512, dropout_prob=0.1):\n",
        "        # N: n_samples\n",
        "        # T: seq_len i.e. time steps\n",
        "        # D: d_model i.e. model size\n",
        "        super().__init__()\n",
        "        self.dropout = nn.Dropout(p=dropout_prob)\n",
        "\n",
        "        position = torch.arange(max_len).unsqueeze(1)\n",
        "        # possition.shape: 1 x T\n",
        "        exp_term = torch.arange(0, d_model, 2)\n",
        "        div_term = torch.exp(exp_term * (-math.log(10000.0) / d_model))\n",
        "        pe = torch.zeros(1, max_len, d_model)\n",
        "        pe[0, :, 0::2] = torch.sin(position * div_term)\n",
        "        pe[0, :, 1::2] = torch.cos(position * div_term)\n",
        "        # pe.shape: 1 x T x D\n",
        "        self.register_buffer('pe', pe)\n",
        "\n",
        "    def forward(self, x):\n",
        "        # x.shape: N x T x D\n",
        "        x = x + self.pe[:, :x.size(1), :]\n",
        "        return self.dropout(x)"
      ]
    },
    {
      "cell_type": "code",
      "execution_count": 50,
      "metadata": {
        "id": "qZDVW6uDLtCb",
        "colab": {
          "base_uri": "https://localhost:8080/"
        },
        "outputId": "3a185a6f-f88f-45f4-b1d9-468c915666d6"
      },
      "outputs": [
        {
          "output_type": "execute_result",
          "data": {
            "text/plain": [
              "tensor([[[ 0.0000e+00,  1.0000e+00,  0.0000e+00,  1.0000e+00,  0.0000e+00,\n",
              "           1.0000e+00,  0.0000e+00,  1.0000e+00],\n",
              "         [ 8.4147e-01,  5.4030e-01,  9.9833e-02,  9.9500e-01,  9.9998e-03,\n",
              "           9.9995e-01,  1.0000e-03,  1.0000e+00],\n",
              "         [ 9.0930e-01, -4.1615e-01,  1.9867e-01,  9.8007e-01,  1.9999e-02,\n",
              "           9.9980e-01,  2.0000e-03,  1.0000e+00],\n",
              "         [ 1.4112e-01, -9.8999e-01,  2.9552e-01,  9.5534e-01,  2.9995e-02,\n",
              "           9.9955e-01,  3.0000e-03,  1.0000e+00]]])"
            ]
          },
          "metadata": {},
          "execution_count": 50
        }
      ],
      "source": [
        "pe = PositionalEncoding(8)\n",
        "pe.eval()\n",
        "pe(torch.zeros([1, 4, 8]))"
      ]
    },
    {
      "cell_type": "code",
      "source": [
        "pe = PositionalEncoding(4)\n",
        "pe.train()\n",
        "pe(torch.zeros([1, 4, 4]))"
      ],
      "metadata": {
        "colab": {
          "base_uri": "https://localhost:8080/"
        },
        "id": "lPDFvdKlrj2U",
        "outputId": "2abe908b-0d77-431c-f1ea-447dacc5927a"
      },
      "execution_count": 51,
      "outputs": [
        {
          "output_type": "execute_result",
          "data": {
            "text/plain": [
              "tensor([[[ 0.0000,  1.1111,  0.0000,  1.1111],\n",
              "         [ 0.9350,  0.6003,  0.0111,  1.1111],\n",
              "         [ 1.0103, -0.4624,  0.0222,  1.1109],\n",
              "         [ 0.0000, -1.1000,  0.0333,  1.1106]]])"
            ]
          },
          "metadata": {},
          "execution_count": 51
        }
      ]
    },
    {
      "cell_type": "code",
      "execution_count": 52,
      "metadata": {
        "id": "77XDd8X8pn9_",
        "colab": {
          "base_uri": "https://localhost:8080/",
          "height": 368
        },
        "outputId": "f7fa9245-3e7d-4730-b619-d816383ac5e5"
      },
      "outputs": [
        {
          "output_type": "execute_result",
          "data": {
            "text/html": [
              "\n",
              "<style>\n",
              "  #altair-viz-ce3a73f26d024e548d0bea317b8357a6.vega-embed {\n",
              "    width: 100%;\n",
              "    display: flex;\n",
              "  }\n",
              "\n",
              "  #altair-viz-ce3a73f26d024e548d0bea317b8357a6.vega-embed details,\n",
              "  #altair-viz-ce3a73f26d024e548d0bea317b8357a6.vega-embed details summary {\n",
              "    position: relative;\n",
              "  }\n",
              "</style>\n",
              "<div id=\"altair-viz-ce3a73f26d024e548d0bea317b8357a6\"></div>\n",
              "<script type=\"text/javascript\">\n",
              "  var VEGA_DEBUG = (typeof VEGA_DEBUG == \"undefined\") ? {} : VEGA_DEBUG;\n",
              "  (function(spec, embedOpt){\n",
              "    let outputDiv = document.currentScript.previousElementSibling;\n",
              "    if (outputDiv.id !== \"altair-viz-ce3a73f26d024e548d0bea317b8357a6\") {\n",
              "      outputDiv = document.getElementById(\"altair-viz-ce3a73f26d024e548d0bea317b8357a6\");\n",
              "    }\n",
              "\n",
              "    const paths = {\n",
              "      \"vega\": \"https://cdn.jsdelivr.net/npm/vega@5?noext\",\n",
              "      \"vega-lib\": \"https://cdn.jsdelivr.net/npm/vega-lib?noext\",\n",
              "      \"vega-lite\": \"https://cdn.jsdelivr.net/npm/vega-lite@5.20.1?noext\",\n",
              "      \"vega-embed\": \"https://cdn.jsdelivr.net/npm/vega-embed@6?noext\",\n",
              "    };\n",
              "\n",
              "    function maybeLoadScript(lib, version) {\n",
              "      var key = `${lib.replace(\"-\", \"\")}_version`;\n",
              "      return (VEGA_DEBUG[key] == version) ?\n",
              "        Promise.resolve(paths[lib]) :\n",
              "        new Promise(function(resolve, reject) {\n",
              "          var s = document.createElement('script');\n",
              "          document.getElementsByTagName(\"head\")[0].appendChild(s);\n",
              "          s.async = true;\n",
              "          s.onload = () => {\n",
              "            VEGA_DEBUG[key] = version;\n",
              "            return resolve(paths[lib]);\n",
              "          };\n",
              "          s.onerror = () => reject(`Error loading script: ${paths[lib]}`);\n",
              "          s.src = paths[lib];\n",
              "        });\n",
              "    }\n",
              "\n",
              "    function showError(err) {\n",
              "      outputDiv.innerHTML = `<div class=\"error\" style=\"color:red;\">${err}</div>`;\n",
              "      throw err;\n",
              "    }\n",
              "\n",
              "    function displayChart(vegaEmbed) {\n",
              "      vegaEmbed(outputDiv, spec, embedOpt)\n",
              "        .catch(err => showError(`Javascript Error: ${err.message}<br>This usually means there's a typo in your chart specification. See the javascript console for the full traceback.`));\n",
              "    }\n",
              "\n",
              "    if(typeof define === \"function\" && define.amd) {\n",
              "      requirejs.config({paths});\n",
              "      let deps = [\"vega-embed\"];\n",
              "      require(deps, displayChart, err => showError(`Error loading script: ${err.message}`));\n",
              "    } else {\n",
              "      maybeLoadScript(\"vega\", \"5\")\n",
              "        .then(() => maybeLoadScript(\"vega-lite\", \"5.20.1\"))\n",
              "        .then(() => maybeLoadScript(\"vega-embed\", \"6\"))\n",
              "        .catch(showError)\n",
              "        .then(() => displayChart(vegaEmbed));\n",
              "    }\n",
              "  })({\"config\": {\"view\": {\"continuousWidth\": 300, \"continuousHeight\": 300}}, \"data\": {\"name\": \"data-74197a450f4fae82b525a303f60629a7\"}, \"mark\": {\"type\": \"line\"}, \"encoding\": {\"color\": {\"field\": \"dimension\", \"type\": \"nominal\"}, \"x\": {\"field\": \"position\", \"type\": \"quantitative\"}, \"y\": {\"field\": \"embedding\", \"type\": \"quantitative\"}}, \"params\": [{\"name\": \"param_1\", \"select\": {\"type\": \"interval\", \"encodings\": [\"x\", \"y\"]}, \"bind\": \"scales\"}], \"width\": 800, \"$schema\": \"https://vega.github.io/schema/vega-lite/v5.20.1.json\", \"datasets\": {\"data-74197a450f4fae82b525a303f60629a7\": [{\"embedding\": 0.0, \"dimension\": 4, \"position\": 0}, {\"embedding\": 0.15782663226127625, \"dimension\": 4, \"position\": 1}, {\"embedding\": 0.3116971552371979, \"dimension\": 4, \"position\": 2}, {\"embedding\": 0.45775455236434937, \"dimension\": 4, \"position\": 3}, {\"embedding\": 0.5923377275466919, \"dimension\": 4, \"position\": 4}, {\"embedding\": 0.7120732069015503, \"dimension\": 4, \"position\": 5}, {\"embedding\": 0.813959538936615, \"dimension\": 4, \"position\": 6}, {\"embedding\": 0.8954429626464844, \"dimension\": 4, \"position\": 7}, {\"embedding\": 0.9544808864593506, \"dimension\": 4, \"position\": 8}, {\"embedding\": 0.989593505859375, \"dimension\": 4, \"position\": 9}, {\"embedding\": 0.9999006390571594, \"dimension\": 4, \"position\": 10}, {\"embedding\": 0.9851439595222473, \"dimension\": 4, \"position\": 11}, {\"embedding\": 0.94569331407547, \"dimension\": 4, \"position\": 12}, {\"embedding\": 0.8825376033782959, \"dimension\": 4, \"position\": 13}, {\"embedding\": 0.7972599267959595, \"dimension\": 4, \"position\": 14}, {\"embedding\": 0.6919978260993958, \"dimension\": 4, \"position\": 15}, {\"embedding\": 0.5693899393081665, \"dimension\": 4, \"position\": 16}, {\"embedding\": 0.4325096309185028, \"dimension\": 4, \"position\": 17}, {\"embedding\": 0.284787654876709, \"dimension\": 4, \"position\": 18}, {\"embedding\": 0.12992730736732483, \"dimension\": 4, \"position\": 19}, {\"embedding\": -0.028190065175294876, \"dimension\": 4, \"position\": 20}, {\"embedding\": -0.18560057878494263, \"dimension\": 4, \"position\": 21}, {\"embedding\": -0.3383587896823883, \"dimension\": 4, \"position\": 22}, {\"embedding\": -0.4826357960700989, \"dimension\": 4, \"position\": 23}, {\"embedding\": -0.6148146390914917, \"dimension\": 4, \"position\": 24}, {\"embedding\": -0.7315824031829834, \"dimension\": 4, \"position\": 25}, {\"embedding\": -0.8300122618675232, \"dimension\": 4, \"position\": 26}, {\"embedding\": -0.9076365828514099, \"dimension\": 4, \"position\": 27}, {\"embedding\": -0.96250981092453, \"dimension\": 4, \"position\": 28}, {\"embedding\": -0.9932565093040466, \"dimension\": 4, \"position\": 29}, {\"embedding\": -0.9991058707237244, \"dimension\": 4, \"position\": 30}, {\"embedding\": -0.9799113273620605, \"dimension\": 4, \"position\": 31}, {\"embedding\": -0.9361540079116821, \"dimension\": 4, \"position\": 32}, {\"embedding\": -0.8689308166503906, \"dimension\": 4, \"position\": 33}, {\"embedding\": -0.7799267172813416, \"dimension\": 4, \"position\": 34}, {\"embedding\": -0.6713724136352539, \"dimension\": 4, \"position\": 35}, {\"embedding\": -0.5459895133972168, \"dimension\": 4, \"position\": 36}, {\"embedding\": -0.40692076086997986, \"dimension\": 4, \"position\": 37}, {\"embedding\": -0.2576519548892975, \"dimension\": 4, \"position\": 38}, {\"embedding\": -0.10192479938268661, \"dimension\": 4, \"position\": 39}, {\"embedding\": 0.056357722729444504, \"dimension\": 4, \"position\": 40}, {\"embedding\": 0.21322709321975708, \"dimension\": 4, \"position\": 41}, {\"embedding\": 0.3647516369819641, \"dimension\": 4, \"position\": 42}, {\"embedding\": 0.5071332454681396, \"dimension\": 4, \"position\": 43}, {\"embedding\": 0.6368028521537781, \"dimension\": 4, \"position\": 44}, {\"embedding\": 0.7505101561546326, \"dimension\": 4, \"position\": 45}, {\"embedding\": 0.8454052805900574, \"dimension\": 4, \"position\": 46}, {\"embedding\": 0.9191088080406189, \"dimension\": 4, \"position\": 47}, {\"embedding\": 0.9697737693786621, \"dimension\": 4, \"position\": 48}, {\"embedding\": 0.9961300492286682, \"dimension\": 4, \"position\": 49}, {\"embedding\": 0.9975170493125916, \"dimension\": 4, \"position\": 50}, {\"embedding\": 0.9738998413085938, \"dimension\": 4, \"position\": 51}, {\"embedding\": 0.9258706569671631, \"dimension\": 4, \"position\": 52}, {\"embedding\": 0.8546332716941833, \"dimension\": 4, \"position\": 53}, {\"embedding\": 0.7619734406471252, \"dimension\": 4, \"position\": 54}, {\"embedding\": 0.6502137184143066, \"dimension\": 4, \"position\": 55}, {\"embedding\": 0.5221555233001709, \"dimension\": 4, \"position\": 56}, {\"embedding\": 0.38100889325141907, \"dimension\": 4, \"position\": 57}, {\"embedding\": 0.23031172156333923, \"dimension\": 4, \"position\": 58}, {\"embedding\": 0.07384055852890015, \"dimension\": 4, \"position\": 59}, {\"embedding\": -0.08448058366775513, \"dimension\": 4, \"position\": 60}, {\"embedding\": -0.2406841218471527, \"dimension\": 4, \"position\": 61}, {\"embedding\": -0.3908545970916748, \"dimension\": 4, \"position\": 62}, {\"embedding\": -0.5312277674674988, \"dimension\": 4, \"position\": 63}, {\"embedding\": -0.6582850813865662, \"dimension\": 4, \"position\": 64}, {\"embedding\": -0.768841564655304, \"dimension\": 4, \"position\": 65}, {\"embedding\": -0.8601260781288147, \"dimension\": 4, \"position\": 66}, {\"embedding\": -0.9298503994941711, \"dimension\": 4, \"position\": 67}, {\"embedding\": -0.9762668013572693, \"dimension\": 4, \"position\": 68}, {\"embedding\": -0.9982118010520935, \"dimension\": 4, \"position\": 69}, {\"embedding\": -0.9951352477073669, \"dimension\": 4, \"position\": 70}, {\"embedding\": -0.967114269733429, \"dimension\": 4, \"position\": 71}, {\"embedding\": -0.9148513078689575, \"dimension\": 4, \"position\": 72}, {\"embedding\": -0.839656412601471, \"dimension\": 4, \"position\": 73}, {\"embedding\": -0.7434144616127014, \"dimension\": 4, \"position\": 74}, {\"embedding\": -0.6285378336906433, \"dimension\": 4, \"position\": 75}, {\"embedding\": -0.4979061186313629, \"dimension\": 4, \"position\": 76}, {\"embedding\": -0.3547937273979187, \"dimension\": 4, \"position\": 77}, {\"embedding\": -0.20278796553611755, \"dimension\": 4, \"position\": 78}, {\"embedding\": -0.04569905996322632, \"dimension\": 4, \"position\": 79}, {\"embedding\": 0.11253630369901657, \"dimension\": 4, \"position\": 80}, {\"embedding\": 0.2679498493671417, \"dimension\": 4, \"position\": 81}, {\"embedding\": 0.4166468679904938, \"dimension\": 4, \"position\": 82}, {\"embedding\": 0.5549001097679138, \"dimension\": 4, \"position\": 83}, {\"embedding\": 0.6792440414428711, \"dimension\": 4, \"position\": 84}, {\"embedding\": 0.7865618467330933, \"dimension\": 4, \"position\": 85}, {\"embedding\": 0.8741634488105774, \"dimension\": 4, \"position\": 86}, {\"embedding\": 0.9398530125617981, \"dimension\": 4, \"position\": 87}, {\"embedding\": 0.9819839596748352, \"dimension\": 4, \"position\": 88}, {\"embedding\": 0.9995002150535583, \"dimension\": 4, \"position\": 89}, {\"embedding\": 0.9919626712799072, \"dimension\": 4, \"position\": 90}, {\"embedding\": 0.959559977054596, \"dimension\": 4, \"position\": 91}, {\"embedding\": 0.903104841709137, \"dimension\": 4, \"position\": 92}, {\"embedding\": 0.8240122199058533, \"dimension\": 4, \"position\": 93}, {\"embedding\": 0.7242646217346191, \"dimension\": 4, \"position\": 94}, {\"embedding\": 0.6063624024391174, \"dimension\": 4, \"position\": 95}, {\"embedding\": 0.4732609689235687, \"dimension\": 4, \"position\": 96}, {\"embedding\": 0.32829657196998596, \"dimension\": 4, \"position\": 97}, {\"embedding\": 0.17510302364826202, \"dimension\": 4, \"position\": 98}, {\"embedding\": 0.01752028614282608, \"dimension\": 4, \"position\": 99}, {\"embedding\": 1.0, \"dimension\": 5, \"position\": 0}, {\"embedding\": 0.9874668121337891, \"dimension\": 5, \"position\": 1}, {\"embedding\": 0.9501814842224121, \"dimension\": 5, \"position\": 2}, {\"embedding\": 0.8890786170959473, \"dimension\": 5, \"position\": 3}, {\"embedding\": 0.8056897521018982, \"dimension\": 5, \"position\": 4}, {\"embedding\": 0.7021052241325378, \"dimension\": 5, \"position\": 5}, {\"embedding\": 0.5809215903282166, \"dimension\": 5, \"position\": 6}, {\"embedding\": 0.44517630338668823, \"dimension\": 5, \"position\": 7}, {\"embedding\": 0.2982720732688904, \"dimension\": 5, \"position\": 8}, {\"embedding\": 0.14389123022556305, \"dimension\": 5, \"position\": 9}, {\"embedding\": -0.01409643329679966, \"dimension\": 5, \"position\": 10}, {\"embedding\": -0.1717306226491928, \"dimension\": 5, \"position\": 11}, {\"embedding\": -0.32506027817726135, \"dimension\": 5, \"position\": 12}, {\"embedding\": -0.47024187445640564, \"dimension\": 5, \"position\": 13}, {\"embedding\": -0.6036361455917358, \"dimension\": 5, \"position\": 14}, {\"embedding\": -0.7218996286392212, \"dimension\": 5, \"position\": 15}, {\"embedding\": -0.8220675587654114, \"dimension\": 5, \"position\": 16}, {\"embedding\": -0.9016293287277222, \"dimension\": 5, \"position\": 17}, {\"embedding\": -0.9585906267166138, \"dimension\": 5, \"position\": 18}, {\"embedding\": -0.9915235042572021, \"dimension\": 5, \"position\": 19}, {\"embedding\": -0.9996025562286377, \"dimension\": 5, \"position\": 20}, {\"embedding\": -0.9826252460479736, \"dimension\": 5, \"position\": 21}, {\"embedding\": -0.941017210483551, \"dimension\": 5, \"position\": 22}, {\"embedding\": -0.8758211731910706, \"dimension\": 5, \"position\": 23}, {\"embedding\": -0.788671612739563, \"dimension\": 5, \"position\": 24}, {\"embedding\": -0.6817529797554016, \"dimension\": 5, \"position\": 25}, {\"embedding\": -0.5577451586723328, \"dimension\": 5, \"position\": 26}, {\"embedding\": -0.4197568893432617, \"dimension\": 5, \"position\": 27}, {\"embedding\": -0.27124688029289246, \"dimension\": 5, \"position\": 28}, {\"embedding\": -0.11593768745660782, \"dimension\": 5, \"position\": 29}, {\"embedding\": 0.042278096079826355, \"dimension\": 5, \"position\": 30}, {\"embedding\": 0.19943365454673767, \"dimension\": 5, \"position\": 31}, {\"embedding\": 0.3515901565551758, \"dimension\": 5, \"position\": 32}, {\"embedding\": 0.4949335753917694, \"dimension\": 5, \"position\": 33}, {\"embedding\": 0.6258708238601685, \"dimension\": 5, \"position\": 34}, {\"embedding\": 0.7411201596260071, \"dimension\": 5, \"position\": 35}, {\"embedding\": 0.8377919793128967, \"dimension\": 5, \"position\": 36}, {\"embedding\": 0.9134634733200073, \"dimension\": 5, \"position\": 37}, {\"embedding\": 0.9662377834320068, \"dimension\": 5, \"position\": 38}, {\"embedding\": 0.994792103767395, \"dimension\": 5, \"position\": 39}, {\"embedding\": 0.9984106421470642, \"dimension\": 5, \"position\": 40}, {\"embedding\": 0.9770026803016663, \"dimension\": 5, \"position\": 41}, {\"embedding\": 0.931104838848114, \"dimension\": 5, \"position\": 42}, {\"embedding\": 0.8618676662445068, \"dimension\": 5, \"position\": 43}, {\"embedding\": 0.7710266709327698, \"dimension\": 5, \"position\": 44}, {\"embedding\": 0.6608588695526123, \"dimension\": 5, \"position\": 45}, {\"embedding\": 0.5341253876686096, \"dimension\": 5, \"position\": 46}, {\"embedding\": 0.3940037488937378, \"dimension\": 5, \"position\": 47}, {\"embedding\": 0.24400585889816284, \"dimension\": 5, \"position\": 48}, {\"embedding\": 0.08789165318012238, \"dimension\": 5, \"position\": 49}, {\"embedding\": -0.07042567431926727, \"dimension\": 5, \"position\": 50}, {\"embedding\": -0.2269781529903412, \"dimension\": 5, \"position\": 51}, {\"embedding\": -0.37784066796302795, \"dimension\": 5, \"position\": 52}, {\"embedding\": -0.5192320942878723, \"dimension\": 5, \"position\": 53}, {\"embedding\": -0.6476082801818848, \"dimension\": 5, \"position\": 54}, {\"embedding\": -0.7597513794898987, \"dimension\": 5, \"position\": 55}, {\"embedding\": -0.8528502583503723, \"dimension\": 5, \"position\": 56}, {\"embedding\": -0.9245713949203491, \"dimension\": 5, \"position\": 57}, {\"embedding\": -0.973116934299469, \"dimension\": 5, \"position\": 58}, {\"embedding\": -0.9972700476646423, \"dimension\": 5, \"position\": 59}, {\"embedding\": -0.9964250922203064, \"dimension\": 5, \"position\": 60}, {\"embedding\": -0.9706035256385803, \"dimension\": 5, \"position\": 61}, {\"embedding\": -0.9204524159431458, \"dimension\": 5, \"position\": 62}, {\"embedding\": -0.8472290635108948, \"dimension\": 5, \"position\": 63}, {\"embedding\": -0.7527687549591064, \"dimension\": 5, \"position\": 64}, {\"embedding\": -0.6394393444061279, \"dimension\": 5, \"position\": 65}, {\"embedding\": -0.5100815296173096, \"dimension\": 5, \"position\": 66}, {\"embedding\": -0.3679378628730774, \"dimension\": 5, \"position\": 67}, {\"embedding\": -0.2165713608264923, \"dimension\": 5, \"position\": 68}, {\"embedding\": -0.05977622792124748, \"dimension\": 5, \"position\": 69}, {\"embedding\": 0.09851823002099991, \"dimension\": 5, \"position\": 70}, {\"embedding\": 0.254342257976532, \"dimension\": 5, \"position\": 71}, {\"embedding\": 0.4037908613681793, \"dimension\": 5, \"position\": 72}, {\"embedding\": 0.543117880821228, \"dimension\": 5, \"position\": 73}, {\"embedding\": 0.6688309907913208, \"dimension\": 5, \"position\": 74}, {\"embedding\": 0.7777789831161499, \"dimension\": 5, \"position\": 75}, {\"embedding\": 0.8672309517860413, \"dimension\": 5, \"position\": 76}, {\"embedding\": 0.9349446296691895, \"dimension\": 5, \"position\": 77}, {\"embedding\": 0.9792226552963257, \"dimension\": 5, \"position\": 78}, {\"embedding\": 0.998955249786377, \"dimension\": 5, \"position\": 79}, {\"embedding\": 0.9936476349830627, \"dimension\": 5, \"position\": 80}, {\"embedding\": 0.9634328484535217, \"dimension\": 5, \"position\": 81}, {\"embedding\": 0.9090684056282043, \"dimension\": 5, \"position\": 82}, {\"embedding\": 0.8319169878959656, \"dimension\": 5, \"position\": 83}, {\"embedding\": 0.733912467956543, \"dimension\": 5, \"position\": 84}, {\"embedding\": 0.617511510848999, \"dimension\": 5, \"position\": 85}, {\"embedding\": 0.4856317937374115, \"dimension\": 5, \"position\": 86}, {\"embedding\": 0.3415791094303131, \"dimension\": 5, \"position\": 87}, {\"embedding\": 0.18896427750587463, \"dimension\": 5, \"position\": 88}, {\"embedding\": 0.0316128134727478, \"dimension\": 5, \"position\": 89}, {\"embedding\": -0.12653106451034546, \"dimension\": 5, \"position\": 90}, {\"embedding\": -0.28150418400764465, \"dimension\": 5, \"position\": 91}, {\"embedding\": -0.4294200837612152, \"dimension\": 5, \"position\": 92}, {\"embedding\": -0.5665720105171204, \"dimension\": 5, \"position\": 93}, {\"embedding\": -0.6895220875740051, \"dimension\": 5, \"position\": 94}, {\"embedding\": -0.7951884269714355, \"dimension\": 5, \"position\": 95}, {\"embedding\": -0.880922257900238, \"dimension\": 5, \"position\": 96}, {\"embedding\": -0.9445747137069702, \"dimension\": 5, \"position\": 97}, {\"embedding\": -0.9845501184463501, \"dimension\": 5, \"position\": 98}, {\"embedding\": -0.9998465180397034, \"dimension\": 5, \"position\": 99}, {\"embedding\": 0.0, \"dimension\": 6, \"position\": 0}, {\"embedding\": 0.06305388361215591, \"dimension\": 6, \"position\": 1}, {\"embedding\": 0.12585683166980743, \"dimension\": 6, \"position\": 2}, {\"embedding\": 0.18815888464450836, \"dimension\": 6, \"position\": 3}, {\"embedding\": 0.24971213936805725, \"dimension\": 6, \"position\": 4}, {\"embedding\": 0.31027159094810486, \"dimension\": 6, \"position\": 5}, {\"embedding\": 0.3695962131023407, \"dimension\": 6, \"position\": 6}, {\"embedding\": 0.4274499714374542, \"dimension\": 6, \"position\": 7}, {\"embedding\": 0.4836025834083557, \"dimension\": 6, \"position\": 8}, {\"embedding\": 0.5378305912017822, \"dimension\": 6, \"position\": 9}, {\"embedding\": 0.5899181365966797, \"dimension\": 6, \"position\": 10}, {\"embedding\": 0.6396579146385193, \"dimension\": 6, \"position\": 11}, {\"embedding\": 0.6868520379066467, \"dimension\": 6, \"position\": 12}, {\"embedding\": 0.7313126921653748, \"dimension\": 6, \"position\": 13}, {\"embedding\": 0.7728629112243652, \"dimension\": 6, \"position\": 14}, {\"embedding\": 0.8113372921943665, \"dimension\": 6, \"position\": 15}, {\"embedding\": 0.8465827703475952, \"dimension\": 6, \"position\": 16}, {\"embedding\": 0.8784590363502502, \"dimension\": 6, \"position\": 17}, {\"embedding\": 0.9068393111228943, \"dimension\": 6, \"position\": 18}, {\"embedding\": 0.9316105246543884, \"dimension\": 6, \"position\": 19}, {\"embedding\": 0.9526742100715637, \"dimension\": 6, \"position\": 20}, {\"embedding\": 0.9699464440345764, \"dimension\": 6, \"position\": 21}, {\"embedding\": 0.9833585619926453, \"dimension\": 6, \"position\": 22}, {\"embedding\": 0.9928570985794067, \"dimension\": 6, \"position\": 23}, {\"embedding\": 0.9984043836593628, \"dimension\": 6, \"position\": 24}, {\"embedding\": 0.999978244304657, \"dimension\": 6, \"position\": 25}, {\"embedding\": 0.9975724220275879, \"dimension\": 6, \"position\": 26}, {\"embedding\": 0.9911965131759644, \"dimension\": 6, \"position\": 27}, {\"embedding\": 0.9808759093284607, \"dimension\": 6, \"position\": 28}, {\"embedding\": 0.9666516780853271, \"dimension\": 6, \"position\": 29}, {\"embedding\": 0.9485803842544556, \"dimension\": 6, \"position\": 30}, {\"embedding\": 0.9267339110374451, \"dimension\": 6, \"position\": 31}, {\"embedding\": 0.9011994004249573, \"dimension\": 6, \"position\": 32}, {\"embedding\": 0.8720782399177551, \"dimension\": 6, \"position\": 33}, {\"embedding\": 0.8394865393638611, \"dimension\": 6, \"position\": 34}, {\"embedding\": 0.8035537600517273, \"dimension\": 6, \"position\": 35}, {\"embedding\": 0.7644230127334595, \"dimension\": 6, \"position\": 36}, {\"embedding\": 0.7222501039505005, \"dimension\": 6, \"position\": 37}, {\"embedding\": 0.6772029399871826, \"dimension\": 6, \"position\": 38}, {\"embedding\": 0.6294605135917664, \"dimension\": 6, \"position\": 39}, {\"embedding\": 0.57921302318573, \"dimension\": 6, \"position\": 40}, {\"embedding\": 0.5266605615615845, \"dimension\": 6, \"position\": 41}, {\"embedding\": 0.4720119535923004, \"dimension\": 6, \"position\": 42}, {\"embedding\": 0.41548484563827515, \"dimension\": 6, \"position\": 43}, {\"embedding\": 0.3573042154312134, \"dimension\": 6, \"position\": 44}, {\"embedding\": 0.29770180583000183, \"dimension\": 6, \"position\": 45}, {\"embedding\": 0.23691439628601074, \"dimension\": 6, \"position\": 46}, {\"embedding\": 0.17518411576747894, \"dimension\": 6, \"position\": 47}, {\"embedding\": 0.1127568930387497, \"dimension\": 6, \"position\": 48}, {\"embedding\": 0.04988069087266922, \"dimension\": 6, \"position\": 49}, {\"embedding\": -0.013194027356803417, \"dimension\": 6, \"position\": 50}, {\"embedding\": -0.07621623575687408, \"dimension\": 6, \"position\": 51}, {\"embedding\": -0.1389348804950714, \"dimension\": 6, \"position\": 52}, {\"embedding\": -0.20110084116458893, \"dimension\": 6, \"position\": 53}, {\"embedding\": -0.2624664604663849, \"dimension\": 6, \"position\": 54}, {\"embedding\": -0.3227875530719757, \"dimension\": 6, \"position\": 55}, {\"embedding\": -0.3818237781524658, \"dimension\": 6, \"position\": 56}, {\"embedding\": -0.4393406808376312, \"dimension\": 6, \"position\": 57}, {\"embedding\": -0.49510911107063293, \"dimension\": 6, \"position\": 58}, {\"embedding\": -0.5489069223403931, \"dimension\": 6, \"position\": 59}, {\"embedding\": -0.6005204319953918, \"dimension\": 6, \"position\": 60}, {\"embedding\": -0.6497439742088318, \"dimension\": 6, \"position\": 61}, {\"embedding\": -0.6963817477226257, \"dimension\": 6, \"position\": 62}, {\"embedding\": -0.7402478456497192, \"dimension\": 6, \"position\": 63}, {\"embedding\": -0.7811681628227234, \"dimension\": 6, \"position\": 64}, {\"embedding\": -0.8189795017242432, \"dimension\": 6, \"position\": 65}, {\"embedding\": -0.8535317182540894, \"dimension\": 6, \"position\": 66}, {\"embedding\": -0.8846868872642517, \"dimension\": 6, \"position\": 67}, {\"embedding\": -0.9123212099075317, \"dimension\": 6, \"position\": 68}, {\"embedding\": -0.936324954032898, \"dimension\": 6, \"position\": 69}, {\"embedding\": -0.956602156162262, \"dimension\": 6, \"position\": 70}, {\"embedding\": -0.9730724096298218, \"dimension\": 6, \"position\": 71}, {\"embedding\": -0.9856699705123901, \"dimension\": 6, \"position\": 72}, {\"embedding\": -0.9943448305130005, \"dimension\": 6, \"position\": 73}, {\"embedding\": -0.9990625381469727, \"dimension\": 6, \"position\": 74}, {\"embedding\": -0.9998041391372681, \"dimension\": 6, \"position\": 75}, {\"embedding\": -0.9965668320655823, \"dimension\": 6, \"position\": 76}, {\"embedding\": -0.9893633723258972, \"dimension\": 6, \"position\": 77}, {\"embedding\": -0.9782225489616394, \"dimension\": 6, \"position\": 78}, {\"embedding\": -0.963188648223877, \"dimension\": 6, \"position\": 79}, {\"embedding\": -0.9443213939666748, \"dimension\": 6, \"position\": 80}, {\"embedding\": -0.9216960668563843, \"dimension\": 6, \"position\": 81}, {\"embedding\": -0.8954026699066162, \"dimension\": 6, \"position\": 82}, {\"embedding\": -0.8655455708503723, \"dimension\": 6, \"position\": 83}, {\"embedding\": -0.8322440981864929, \"dimension\": 6, \"position\": 84}, {\"embedding\": -0.795630156993866, \"dimension\": 6, \"position\": 85}, {\"embedding\": -0.7558501362800598, \"dimension\": 6, \"position\": 86}, {\"embedding\": -0.7130619883537292, \"dimension\": 6, \"position\": 87}, {\"embedding\": -0.6674357056617737, \"dimension\": 6, \"position\": 88}, {\"embedding\": -0.6191535592079163, \"dimension\": 6, \"position\": 89}, {\"embedding\": -0.5684073567390442, \"dimension\": 6, \"position\": 90}, {\"embedding\": -0.5153986215591431, \"dimension\": 6, \"position\": 91}, {\"embedding\": -0.46033912897109985, \"dimension\": 6, \"position\": 92}, {\"embedding\": -0.40344759821891785, \"dimension\": 6, \"position\": 93}, {\"embedding\": -0.3449500501155853, \"dimension\": 6, \"position\": 94}, {\"embedding\": -0.28508007526397705, \"dimension\": 6, \"position\": 95}, {\"embedding\": -0.22407560050487518, \"dimension\": 6, \"position\": 96}, {\"embedding\": -0.1621788740158081, \"dimension\": 6, \"position\": 97}, {\"embedding\": -0.09963719546794891, \"dimension\": 6, \"position\": 98}, {\"embedding\": -0.03669850528240204, \"dimension\": 6, \"position\": 99}, {\"embedding\": 1.0, \"dimension\": 7, \"position\": 0}, {\"embedding\": 0.9980100989341736, \"dimension\": 7, \"position\": 1}, {\"embedding\": 0.9920483827590942, \"dimension\": 7, \"position\": 2}, {\"embedding\": 0.9821385741233826, \"dimension\": 7, \"position\": 3}, {\"embedding\": 0.9683201313018799, \"dimension\": 7, \"position\": 4}, {\"embedding\": 0.9506479501724243, \"dimension\": 7, \"position\": 5}, {\"embedding\": 0.9291924834251404, \"dimension\": 7, \"position\": 6}, {\"embedding\": 0.9040390253067017, \"dimension\": 7, \"position\": 7}, {\"embedding\": 0.8752877116203308, \"dimension\": 7, \"position\": 8}, {\"embedding\": 0.8430529236793518, \"dimension\": 7, \"position\": 9}, {\"embedding\": 0.8074630498886108, \"dimension\": 7, \"position\": 10}, {\"embedding\": 0.7686597108840942, \"dimension\": 7, \"position\": 11}, {\"embedding\": 0.7267972826957703, \"dimension\": 7, \"position\": 12}, {\"embedding\": 0.6820423603057861, \"dimension\": 7, \"position\": 13}, {\"embedding\": 0.6345730423927307, \"dimension\": 7, \"position\": 14}, {\"embedding\": 0.5845783352851868, \"dimension\": 7, \"position\": 15}, {\"embedding\": 0.532257080078125, \"dimension\": 7, \"position\": 16}, {\"embedding\": 0.47781768441200256, \"dimension\": 7, \"position\": 17}, {\"embedding\": 0.4214765727519989, \"dimension\": 7, \"position\": 18}, {\"embedding\": 0.36345821619033813, \"dimension\": 7, \"position\": 19}, {\"embedding\": 0.30399325489997864, \"dimension\": 7, \"position\": 20}, {\"embedding\": 0.243318572640419, \"dimension\": 7, \"position\": 21}, {\"embedding\": 0.18167544901371002, \"dimension\": 7, \"position\": 22}, {\"embedding\": 0.11930941045284271, \"dimension\": 7, \"position\": 23}, {\"embedding\": 0.056468550115823746, \"dimension\": 7, \"position\": 24}, {\"embedding\": -0.006597157102078199, \"dimension\": 7, \"position\": 25}, {\"embedding\": -0.06963648647069931, \"dimension\": 7, \"position\": 26}, {\"embedding\": -0.1323987990617752, \"dimension\": 7, \"position\": 27}, {\"embedding\": -0.1946340948343277, \"dimension\": 7, \"position\": 28}, {\"embedding\": -0.25609490275382996, \"dimension\": 7, \"position\": 29}, {\"embedding\": -0.31653639674186707, \"dimension\": 7, \"position\": 30}, {\"embedding\": -0.37571826577186584, \"dimension\": 7, \"position\": 31}, {\"embedding\": -0.43340474367141724, \"dimension\": 7, \"position\": 32}, {\"embedding\": -0.4893665015697479, \"dimension\": 7, \"position\": 33}, {\"embedding\": -0.5433804988861084, \"dimension\": 7, \"position\": 34}, {\"embedding\": -0.5952321887016296, \"dimension\": 7, \"position\": 35}, {\"embedding\": -0.6447150111198425, \"dimension\": 7, \"position\": 36}, {\"embedding\": -0.6916319727897644, \"dimension\": 7, \"position\": 37}, {\"embedding\": -0.7357962727546692, \"dimension\": 7, \"position\": 38}, {\"embedding\": -0.7770324349403381, \"dimension\": 7, \"position\": 39}, {\"embedding\": -0.8151761889457703, \"dimension\": 7, \"position\": 40}, {\"embedding\": -0.8500756621360779, \"dimension\": 7, \"position\": 41}, {\"embedding\": -0.8815921545028687, \"dimension\": 7, \"position\": 42}, {\"embedding\": -0.9096000790596008, \"dimension\": 7, \"position\": 43}, {\"embedding\": -0.933988094329834, \"dimension\": 7, \"position\": 44}, {\"embedding\": -0.9546589255332947, \"dimension\": 7, \"position\": 45}, {\"embedding\": -0.971530556678772, \"dimension\": 7, \"position\": 46}, {\"embedding\": -0.9845356941223145, \"dimension\": 7, \"position\": 47}, {\"embedding\": -0.9936226010322571, \"dimension\": 7, \"position\": 48}, {\"embedding\": -0.998755156993866, \"dimension\": 7, \"position\": 49}, {\"embedding\": -0.9999129772186279, \"dimension\": 7, \"position\": 50}, {\"embedding\": -0.9970912933349609, \"dimension\": 7, \"position\": 51}, {\"embedding\": -0.9903014898300171, \"dimension\": 7, \"position\": 52}, {\"embedding\": -0.9795705676078796, \"dimension\": 7, \"position\": 53}, {\"embedding\": -0.964941143989563, \"dimension\": 7, \"position\": 54}, {\"embedding\": -0.9464714527130127, \"dimension\": 7, \"position\": 55}, {\"embedding\": -0.9242351651191711, \"dimension\": 7, \"position\": 56}, {\"embedding\": -0.8983205556869507, \"dimension\": 7, \"position\": 57}, {\"embedding\": -0.8688308000564575, \"dimension\": 7, \"position\": 58}, {\"embedding\": -0.8358834981918335, \"dimension\": 7, \"position\": 59}, {\"embedding\": -0.7996094226837158, \"dimension\": 7, \"position\": 60}, {\"embedding\": -0.7601531147956848, \"dimension\": 7, \"position\": 61}, {\"embedding\": -0.7176715731620789, \"dimension\": 7, \"position\": 62}, {\"embedding\": -0.6723340749740601, \"dimension\": 7, \"position\": 63}, {\"embedding\": -0.6243206262588501, \"dimension\": 7, \"position\": 64}, {\"embedding\": -0.5738227963447571, \"dimension\": 7, \"position\": 65}, {\"embedding\": -0.5210408568382263, \"dimension\": 7, \"position\": 66}, {\"embedding\": -0.46618568897247314, \"dimension\": 7, \"position\": 67}, {\"embedding\": -0.4094752371311188, \"dimension\": 7, \"position\": 68}, {\"embedding\": -0.3511347472667694, \"dimension\": 7, \"position\": 69}, {\"embedding\": -0.2913972735404968, \"dimension\": 7, \"position\": 70}, {\"embedding\": -0.23049965500831604, \"dimension\": 7, \"position\": 71}, {\"embedding\": -0.1686851680278778, \"dimension\": 7, \"position\": 72}, {\"embedding\": -0.10619935393333435, \"dimension\": 7, \"position\": 73}, {\"embedding\": -0.04329042136669159, \"dimension\": 7, \"position\": 74}, {\"embedding\": 0.019790323451161385, \"dimension\": 7, \"position\": 75}, {\"embedding\": 0.08279230445623398, \"dimension\": 7, \"position\": 76}, {\"embedding\": 0.14546526968479156, \"dimension\": 7, \"position\": 77}, {\"embedding\": 0.20755885541439056, \"dimension\": 7, \"position\": 78}, {\"embedding\": 0.2688263952732086, \"dimension\": 7, \"position\": 79}, {\"embedding\": 0.3290245532989502, \"dimension\": 7, \"position\": 80}, {\"embedding\": 0.3879128098487854, \"dimension\": 7, \"position\": 81}, {\"embedding\": 0.4452572762966156, \"dimension\": 7, \"position\": 82}, {\"embedding\": 0.5008301138877869, \"dimension\": 7, \"position\": 83}, {\"embedding\": 0.5544094443321228, \"dimension\": 7, \"position\": 84}, {\"embedding\": 0.605782687664032, \"dimension\": 7, \"position\": 85}, {\"embedding\": 0.6547446846961975, \"dimension\": 7, \"position\": 86}, {\"embedding\": 0.7011010050773621, \"dimension\": 7, \"position\": 87}, {\"embedding\": 0.7446674108505249, \"dimension\": 7, \"position\": 88}, {\"embedding\": 0.7852699160575867, \"dimension\": 7, \"position\": 89}, {\"embedding\": 0.8227472901344299, \"dimension\": 7, \"position\": 90}, {\"embedding\": 0.856950581073761, \"dimension\": 7, \"position\": 91}, {\"embedding\": 0.8877431154251099, \"dimension\": 7, \"position\": 92}, {\"embedding\": 0.9150027632713318, \"dimension\": 7, \"position\": 93}, {\"embedding\": 0.9386210441589355, \"dimension\": 7, \"position\": 94}, {\"embedding\": 0.9585037231445312, \"dimension\": 7, \"position\": 95}, {\"embedding\": 0.9745717644691467, \"dimension\": 7, \"position\": 96}, {\"embedding\": 0.9867613911628723, \"dimension\": 7, \"position\": 97}, {\"embedding\": 0.9950238466262817, \"dimension\": 7, \"position\": 98}, {\"embedding\": 0.9993264079093933, \"dimension\": 7, \"position\": 99}]}}, {\"mode\": \"vega-lite\"});\n",
              "</script>"
            ],
            "text/plain": [
              "alt.Chart(...)"
            ]
          },
          "metadata": {},
          "execution_count": 52
        }
      ],
      "source": [
        "def example_positional():\n",
        "    import altair as alt\n",
        "\n",
        "    pe = PositionalEncoding(20, max_len=100, dropout_prob=0)\n",
        "    y = pe.forward(torch.zeros(1, 100, 20))\n",
        "\n",
        "    data = pd.concat(\n",
        "        [\n",
        "            pd.DataFrame(\n",
        "                {\n",
        "                    \"embedding\": y[0, :, dim],\n",
        "                    \"dimension\": dim,\n",
        "                    \"position\": list(range(100)),\n",
        "                }\n",
        "            )\n",
        "            for dim in [4, 5, 6, 7]\n",
        "        ]\n",
        "    )\n",
        "\n",
        "    return (\n",
        "        alt.Chart(data)\n",
        "        .mark_line()\n",
        "        .properties(width=800)\n",
        "        .encode(x=\"position\", y=\"embedding\", color=\"dimension:N\")\n",
        "        .interactive()\n",
        "    )\n",
        "\n",
        "example_positional()"
      ]
    },
    {
      "cell_type": "code",
      "execution_count": 53,
      "metadata": {
        "id": "px0ErNf2ZD8T"
      },
      "outputs": [],
      "source": [
        "class Decoder(nn.Module):\n",
        "    def __init__(self,\n",
        "                 vocab_size,\n",
        "                 max_len,\n",
        "                 d_model,\n",
        "                 n_heads,\n",
        "                 n_layers,\n",
        "                 dropout_prob):\n",
        "        super().__init__()\n",
        "\n",
        "        self.embedding = nn.Embedding(vocab_size, d_model)\n",
        "        self.pos_encoding = PositionalEncoding(d_model, max_len, dropout_prob)\n",
        "        transformer_blocks = [\n",
        "            TransformerBlock(\n",
        "                d_model,\n",
        "                n_heads,\n",
        "                max_len,\n",
        "                dropout_prob) for _ in range(n_layers)]\n",
        "        self.transformer_blocks = nn.Sequential(*transformer_blocks)\n",
        "        self.ln = nn.LayerNorm(d_model)\n",
        "        self.fc = nn.Linear(d_model, vocab_size)\n",
        "\n",
        "    def forward(self, x):\n",
        "        # x.shape: [n_samples, seq_len]\n",
        "        x = self.embedding(x)\n",
        "        # x.shape: [n_samples, seq_len, d_model]\n",
        "        x = self.pos_encoding(x)\n",
        "        for block in self.transformer_blocks:\n",
        "            x = block(x)\n",
        "        x = self.ln(x)\n",
        "        # x.shape: [n_samples, seq_len, d_model]\n",
        "        x = self.fc(x)\n",
        "        # x.shape: [n_samples, seq_len, vocab_size]\n",
        "        return x"
      ]
    },
    {
      "cell_type": "code",
      "execution_count": 54,
      "metadata": {
        "id": "AMuFaYtLZd4j",
        "colab": {
          "base_uri": "https://localhost:8080/"
        },
        "outputId": "5797c352-70d6-467b-c5a5-b71595f50ab3"
      },
      "outputs": [
        {
          "output_type": "execute_result",
          "data": {
            "text/plain": [
              "2"
            ]
          },
          "metadata": {},
          "execution_count": 54
        }
      ],
      "source": [
        "tokenizer.pad_token_id"
      ]
    },
    {
      "cell_type": "code",
      "execution_count": 55,
      "metadata": {
        "id": "yQl560C9JPGo"
      },
      "outputs": [],
      "source": [
        "train_gen   = lambda : data_generator(X_train, max_len=256, batch_size=32)\n",
        "val_gen     = lambda : data_generator(X_val, max_len=256, shuffle_data=False)\n",
        "test_gen    = lambda : data_generator(X_test, max_len=256, shuffle_data=False)"
      ]
    },
    {
      "cell_type": "code",
      "execution_count": 56,
      "metadata": {
        "id": "9q50zKGDDQVv",
        "colab": {
          "base_uri": "https://localhost:8080/"
        },
        "outputId": "13102dd6-7e18-403d-9e50-a76182f7de73"
      },
      "outputs": [
        {
          "output_type": "execute_result",
          "data": {
            "text/plain": [
              "Decoder(\n",
              "  (embedding): Embedding(49152, 512)\n",
              "  (pos_encoding): PositionalEncoding(\n",
              "    (dropout): Dropout(p=0.1, inplace=False)\n",
              "  )\n",
              "  (transformer_blocks): Sequential(\n",
              "    (0): TransformerBlock(\n",
              "      (ln1): LayerNorm((512,), eps=1e-05, elementwise_affine=True)\n",
              "      (ln2): LayerNorm((512,), eps=1e-05, elementwise_affine=True)\n",
              "      (mha): CausalSelfAttention(\n",
              "        (query): Linear(in_features=512, out_features=512, bias=True)\n",
              "        (key): Linear(in_features=512, out_features=512, bias=True)\n",
              "        (value): Linear(in_features=512, out_features=512, bias=True)\n",
              "        (fc): Linear(in_features=512, out_features=512, bias=True)\n",
              "      )\n",
              "      (ann): Sequential(\n",
              "        (0): Linear(in_features=512, out_features=2048, bias=True)\n",
              "        (1): GELU(approximate='none')\n",
              "        (2): Linear(in_features=2048, out_features=512, bias=True)\n",
              "        (3): Dropout(p=0.1, inplace=False)\n",
              "      )\n",
              "      (dropout): Dropout(p=0.1, inplace=False)\n",
              "    )\n",
              "    (1): TransformerBlock(\n",
              "      (ln1): LayerNorm((512,), eps=1e-05, elementwise_affine=True)\n",
              "      (ln2): LayerNorm((512,), eps=1e-05, elementwise_affine=True)\n",
              "      (mha): CausalSelfAttention(\n",
              "        (query): Linear(in_features=512, out_features=512, bias=True)\n",
              "        (key): Linear(in_features=512, out_features=512, bias=True)\n",
              "        (value): Linear(in_features=512, out_features=512, bias=True)\n",
              "        (fc): Linear(in_features=512, out_features=512, bias=True)\n",
              "      )\n",
              "      (ann): Sequential(\n",
              "        (0): Linear(in_features=512, out_features=2048, bias=True)\n",
              "        (1): GELU(approximate='none')\n",
              "        (2): Linear(in_features=2048, out_features=512, bias=True)\n",
              "        (3): Dropout(p=0.1, inplace=False)\n",
              "      )\n",
              "      (dropout): Dropout(p=0.1, inplace=False)\n",
              "    )\n",
              "    (2): TransformerBlock(\n",
              "      (ln1): LayerNorm((512,), eps=1e-05, elementwise_affine=True)\n",
              "      (ln2): LayerNorm((512,), eps=1e-05, elementwise_affine=True)\n",
              "      (mha): CausalSelfAttention(\n",
              "        (query): Linear(in_features=512, out_features=512, bias=True)\n",
              "        (key): Linear(in_features=512, out_features=512, bias=True)\n",
              "        (value): Linear(in_features=512, out_features=512, bias=True)\n",
              "        (fc): Linear(in_features=512, out_features=512, bias=True)\n",
              "      )\n",
              "      (ann): Sequential(\n",
              "        (0): Linear(in_features=512, out_features=2048, bias=True)\n",
              "        (1): GELU(approximate='none')\n",
              "        (2): Linear(in_features=2048, out_features=512, bias=True)\n",
              "        (3): Dropout(p=0.1, inplace=False)\n",
              "      )\n",
              "      (dropout): Dropout(p=0.1, inplace=False)\n",
              "    )\n",
              "    (3): TransformerBlock(\n",
              "      (ln1): LayerNorm((512,), eps=1e-05, elementwise_affine=True)\n",
              "      (ln2): LayerNorm((512,), eps=1e-05, elementwise_affine=True)\n",
              "      (mha): CausalSelfAttention(\n",
              "        (query): Linear(in_features=512, out_features=512, bias=True)\n",
              "        (key): Linear(in_features=512, out_features=512, bias=True)\n",
              "        (value): Linear(in_features=512, out_features=512, bias=True)\n",
              "        (fc): Linear(in_features=512, out_features=512, bias=True)\n",
              "      )\n",
              "      (ann): Sequential(\n",
              "        (0): Linear(in_features=512, out_features=2048, bias=True)\n",
              "        (1): GELU(approximate='none')\n",
              "        (2): Linear(in_features=2048, out_features=512, bias=True)\n",
              "        (3): Dropout(p=0.1, inplace=False)\n",
              "      )\n",
              "      (dropout): Dropout(p=0.1, inplace=False)\n",
              "    )\n",
              "    (4): TransformerBlock(\n",
              "      (ln1): LayerNorm((512,), eps=1e-05, elementwise_affine=True)\n",
              "      (ln2): LayerNorm((512,), eps=1e-05, elementwise_affine=True)\n",
              "      (mha): CausalSelfAttention(\n",
              "        (query): Linear(in_features=512, out_features=512, bias=True)\n",
              "        (key): Linear(in_features=512, out_features=512, bias=True)\n",
              "        (value): Linear(in_features=512, out_features=512, bias=True)\n",
              "        (fc): Linear(in_features=512, out_features=512, bias=True)\n",
              "      )\n",
              "      (ann): Sequential(\n",
              "        (0): Linear(in_features=512, out_features=2048, bias=True)\n",
              "        (1): GELU(approximate='none')\n",
              "        (2): Linear(in_features=2048, out_features=512, bias=True)\n",
              "        (3): Dropout(p=0.1, inplace=False)\n",
              "      )\n",
              "      (dropout): Dropout(p=0.1, inplace=False)\n",
              "    )\n",
              "    (5): TransformerBlock(\n",
              "      (ln1): LayerNorm((512,), eps=1e-05, elementwise_affine=True)\n",
              "      (ln2): LayerNorm((512,), eps=1e-05, elementwise_affine=True)\n",
              "      (mha): CausalSelfAttention(\n",
              "        (query): Linear(in_features=512, out_features=512, bias=True)\n",
              "        (key): Linear(in_features=512, out_features=512, bias=True)\n",
              "        (value): Linear(in_features=512, out_features=512, bias=True)\n",
              "        (fc): Linear(in_features=512, out_features=512, bias=True)\n",
              "      )\n",
              "      (ann): Sequential(\n",
              "        (0): Linear(in_features=512, out_features=2048, bias=True)\n",
              "        (1): GELU(approximate='none')\n",
              "        (2): Linear(in_features=2048, out_features=512, bias=True)\n",
              "        (3): Dropout(p=0.1, inplace=False)\n",
              "      )\n",
              "      (dropout): Dropout(p=0.1, inplace=False)\n",
              "    )\n",
              "  )\n",
              "  (ln): LayerNorm((512,), eps=1e-05, elementwise_affine=True)\n",
              "  (fc): Linear(in_features=512, out_features=49152, bias=True)\n",
              ")"
            ]
          },
          "metadata": {},
          "execution_count": 56
        }
      ],
      "source": [
        "model = Decoder(\n",
        "    vocab_size=tokenizer.vocab_size,\n",
        "    max_len=256,\n",
        "    d_model=512,\n",
        "    n_heads=8,\n",
        "    n_layers=6,\n",
        "    dropout_prob=0.1\n",
        ")\n",
        "model.to(device)"
      ]
    },
    {
      "cell_type": "code",
      "source": [
        "sum(p.numel() for p in model.parameters() if p.requires_grad)/ 10e5"
      ],
      "metadata": {
        "id": "rruUrbJjtoEj",
        "colab": {
          "base_uri": "https://localhost:8080/"
        },
        "outputId": "e56bbb42-f589-44ed-fbe0-339c845f764c"
      },
      "execution_count": 57,
      "outputs": [
        {
          "output_type": "execute_result",
          "data": {
            "text/plain": [
              "69.296128"
            ]
          },
          "metadata": {},
          "execution_count": 57
        }
      ]
    },
    {
      "cell_type": "code",
      "execution_count": 58,
      "metadata": {
        "id": "eiyqLVvzIUOh",
        "colab": {
          "base_uri": "https://localhost:8080/",
          "height": 760,
          "referenced_widgets": [
            "d4718499dd304eb0b94fceaa4630dcf0",
            "580db51a6abc49e09e4c6588a0d525fa",
            "063b7e38ab0c449d9cf611ae9aa1d34f",
            "c59f918d118248c68894a6147f6f3ef0",
            "84bc3155e49640f380f8c147510305fb",
            "477415481cbc42798e9b850a19449372",
            "c774759c455248cea5958ed82cb4ed5c",
            "833904f2922a4e5ea7bac918fcefc87c",
            "7312a14c6f65464aaa5d19a5f7359f50",
            "1a857322855d4178864cc7deb42d99a6",
            "2a0d5c7afcf74b9f8cba6a9ee7d6eb83"
          ]
        },
        "outputId": "94c1af4e-d900-423c-ed4e-7292213b357e"
      },
      "outputs": [
        {
          "output_type": "display_data",
          "data": {
            "text/plain": [
              "  0%|          | 0/5 [00:00<?, ?it/s]"
            ],
            "application/vnd.jupyter.widget-view+json": {
              "version_major": 2,
              "version_minor": 0,
              "model_id": "d4718499dd304eb0b94fceaa4630dcf0"
            }
          },
          "metadata": {}
        },
        {
          "output_type": "stream",
          "name": "stdout",
          "text": [
            "Epoch: 1 | train_loss: 5.9398 | test_loss: 5.3171 | time: 138.9194\n",
            "Epoch: 2 | train_loss: 5.1414 | test_loss: 4.9814 | time: 138.7010\n",
            "Epoch: 3 | train_loss: 4.8382 | test_loss: 4.8061 | time: 138.6913\n",
            "Epoch: 4 | train_loss: 4.6375 | test_loss: 4.7012 | time: 138.9071\n",
            "Epoch: 5 | train_loss: 4.4899 | test_loss: 4.6326 | time: 138.8671\n"
          ]
        },
        {
          "output_type": "display_data",
          "data": {
            "text/plain": [
              "<Figure size 1500x700 with 1 Axes>"
            ],
            "image/png": "[encoded data removed]"
          },
          "metadata": {}
        }
      ],
      "source": [
        "loss = nn.CrossEntropyLoss(ignore_index=tokenizer.pad_token_id)\n",
        "\n",
        "optimizer = torch.optim.AdamW(model.parameters(), lr=0.0005)\n",
        "\n",
        "results = train(model=model,\n",
        "          train_data_loader = train_gen,\n",
        "          test_data_loader = val_gen,\n",
        "          optimizer = optimizer,\n",
        "          loss_fn = loss,\n",
        "          epochs = 5,\n",
        "          device = device)\n",
        "\n",
        "plot_loss_curves(results)"
      ]
    },
    {
      "cell_type": "code",
      "execution_count": 59,
      "metadata": {
        "id": "H-ovZi983vdK"
      },
      "outputs": [],
      "source": [
        "torch.save(model, 'gpt_model.pt')"
      ]
    },
    {
      "cell_type": "code",
      "execution_count": 60,
      "metadata": {
        "id": "niPQX0mfDZsf"
      },
      "outputs": [],
      "source": [
        "model = torch.load('gpt_model.pt', map_location=torch.device(device), weights_only=False)"
      ]
    },
    {
      "cell_type": "code",
      "execution_count": 61,
      "metadata": {
        "id": "AzKNbilsNHG_",
        "colab": {
          "base_uri": "https://localhost:8080/"
        },
        "outputId": "3b5800e9-4f50-4e58-bcf1-1d4ff72c8722"
      },
      "outputs": [
        {
          "output_type": "execute_result",
          "data": {
            "text/plain": [
              "tensor([1, 2, 3, 4, 5, 6])"
            ]
          },
          "metadata": {},
          "execution_count": 61
        }
      ],
      "source": [
        "a = torch.tensor([1, 2, 3])\n",
        "b = torch.tensor([4, 5, 6])\n",
        "torch.hstack((a,b))"
      ]
    },
    {
      "cell_type": "code",
      "execution_count": 62,
      "metadata": {
        "id": "MXyMH7_CNQIY",
        "colab": {
          "base_uri": "https://localhost:8080/"
        },
        "outputId": "d0705f76-3d5f-471f-d511-ed80b57cdf91"
      },
      "outputs": [
        {
          "output_type": "execute_result",
          "data": {
            "text/plain": [
              "tensor([[1, 4],\n",
              "        [2, 5],\n",
              "        [3, 6]])"
            ]
          },
          "metadata": {},
          "execution_count": 62
        }
      ],
      "source": [
        "a = torch.tensor([[1],[2],[3]])\n",
        "b = torch.tensor([[4],[5],[6]])\n",
        "torch.hstack((a,b))"
      ]
    },
    {
      "cell_type": "code",
      "execution_count": 63,
      "metadata": {
        "id": "CcNa5kgasvFa"
      },
      "outputs": [],
      "source": [
        "def generate(model, prompt='', max_len=32):\n",
        "    tokenized_prompt = tokenizer(prompt, return_tensors='pt')\n",
        "    input_ids = tokenized_prompt['input_ids'][:, :-1].to(device)\n",
        "    # inpuut_ids.shape: [1, seq]\n",
        "    while(len(input_ids[0]) < max_len):\n",
        "        outputs = model(input_ids)\n",
        "        # outputs 1 x T x vocab_size\n",
        "        prediction_id = torch.argmax(outputs[:, -1, :], axis=-1)\n",
        "\n",
        "        if prediction_id.squeeze(0).item() == tokenizer.eos_token_id:\n",
        "            break\n",
        "\n",
        "        input_ids = torch.hstack((input_ids, prediction_id.view(1, 1)))\n",
        "\n",
        "    return tokenizer.decode(input_ids[0][1:])"
      ]
    },
    {
      "cell_type": "code",
      "execution_count": 64,
      "metadata": {
        "id": "pzW7lE3JZ4wr",
        "colab": {
          "base_uri": "https://localhost:8080/",
          "height": 35
        },
        "outputId": "c2309836-79fc-415f-bb81-31bbf228ff80"
      },
      "outputs": [
        {
          "output_type": "execute_result",
          "data": {
            "text/plain": [
              "'Blade Runner is a great actor, but he is a great actor. The story is a great movie, but it is a great movie. The'"
            ],
            "application/vnd.google.colaboratory.intrinsic+json": {
              "type": "string"
            }
          },
          "metadata": {},
          "execution_count": 64
        }
      ],
      "source": [
        "generate(model, \"Blade Runner\")"
      ]
    },
    {
      "cell_type": "code",
      "execution_count": 65,
      "metadata": {
        "id": "-Twtx6aFSviw",
        "colab": {
          "base_uri": "https://localhost:8080/",
          "height": 35
        },
        "outputId": "2bd08190-332c-4f39-bedc-a68948d3356c"
      },
      "outputs": [
        {
          "output_type": "execute_result",
          "data": {
            "text/plain": [
              "\"Dune is 1980's. The film is a great film, but it is a great film. The story is a great film,\""
            ],
            "application/vnd.google.colaboratory.intrinsic+json": {
              "type": "string"
            }
          },
          "metadata": {},
          "execution_count": 65
        }
      ],
      "source": [
        "generate(model, \"Dune is \")"
      ]
    },
    {
      "cell_type": "code",
      "execution_count": 66,
      "metadata": {
        "id": "CK7kxgTNUigI",
        "colab": {
          "base_uri": "https://localhost:8080/",
          "height": 35
        },
        "outputId": "3978454f-f70d-451c-c6a8-9a02c47035ab"
      },
      "outputs": [
        {
          "output_type": "execute_result",
          "data": {
            "text/plain": [
              "'The worst 2000000000000000000000000000'"
            ],
            "application/vnd.google.colaboratory.intrinsic+json": {
              "type": "string"
            }
          },
          "metadata": {},
          "execution_count": 66
        }
      ],
      "source": [
        "generate(model, \"The worst \")"
      ]
    },
    {
      "cell_type": "code",
      "execution_count": 67,
      "metadata": {
        "id": "X8W43h3gZxsn",
        "colab": {
          "base_uri": "https://localhost:8080/",
          "height": 35
        },
        "outputId": "fef9ee7b-0edf-4258-edcd-c217f4f203f5"
      },
      "outputs": [
        {
          "output_type": "execute_result",
          "data": {
            "text/plain": [
              "'Facinating 1980s, and I have seen this movie, and I have seen it again. I have seen it many times, and'"
            ],
            "application/vnd.google.colaboratory.intrinsic+json": {
              "type": "string"
            }
          },
          "metadata": {},
          "execution_count": 67
        }
      ],
      "source": [
        "generate(model, \"Facinating \")"
      ]
    },
    {
      "cell_type": "code",
      "execution_count": 68,
      "metadata": {
        "id": "uTx870phDiVJ"
      },
      "outputs": [],
      "source": [
        "def generate_with_temp(model, prompt='', max_len=32, temperature=0.4):\n",
        "    tokenized_prompt = tokenizer(prompt, return_tensors='pt')\n",
        "    input_ids = tokenized_prompt['input_ids'][:, :-1].to(device)\n",
        "\n",
        "    while(len(input_ids[0]) < max_len):\n",
        "        outputs = model(input_ids)\n",
        "        # outputs.shape 1 x T x Vocab_size\n",
        "        y = outputs[:, -1, :][0]\n",
        "        # y.shape: Vocab_size\n",
        "        distribution = torch.nn.functional.softmax(y / temperature, dim=0)\n",
        "        prediction_id = np.random.choice(tokenizer.vocab_size, p=distribution.cpu().detach().numpy())\n",
        "\n",
        "        if prediction_id == tokenizer.eos_token_id:\n",
        "            break\n",
        "\n",
        "        input_ids = torch.hstack((input_ids, torch.tensor(prediction_id).to(device).view(1, 1)))\n",
        "\n",
        "    return tokenizer.decode(input_ids[0][1:])"
      ]
    },
    {
      "cell_type": "code",
      "execution_count": 69,
      "metadata": {
        "id": "UwrUgv-YKZSR",
        "colab": {
          "base_uri": "https://localhost:8080/",
          "height": 35
        },
        "outputId": "463c6e7b-1fe9-4738-b9c9-fbc60cb91551"
      },
      "outputs": [
        {
          "output_type": "execute_result",
          "data": {
            "text/plain": [
              "'Facinating 20000000006, 1000000000. I have always been'"
            ],
            "application/vnd.google.colaboratory.intrinsic+json": {
              "type": "string"
            }
          },
          "metadata": {},
          "execution_count": 69
        }
      ],
      "source": [
        "generate_with_temp(model, \"Facinating \")"
      ]
    },
    {
      "cell_type": "code",
      "execution_count": 70,
      "metadata": {
        "id": "g3nCd_y4KcVF",
        "colab": {
          "base_uri": "https://localhost:8080/",
          "height": 35
        },
        "outputId": "591451ff-23b9-4ed1-8ce0-75006bc1ab02"
      },
      "outputs": [
        {
          "output_type": "execute_result",
          "data": {
            "text/plain": [
              "\"Dune is 1980's. The film is a must see for anyone who has seen it. The film is a great film. The\""
            ],
            "application/vnd.google.colaboratory.intrinsic+json": {
              "type": "string"
            }
          },
          "metadata": {},
          "execution_count": 70
        }
      ],
      "source": [
        "generate_with_temp(model, \"Dune is \", temperature=0.1)"
      ]
    },
    {
      "cell_type": "code",
      "source": [
        "generate_with_temp(model, \"Dune is \", temperature=1)"
      ],
      "metadata": {
        "colab": {
          "base_uri": "https://localhost:8080/",
          "height": 35
        },
        "id": "uCqRs_sDLlya",
        "outputId": "5d4d0215-f9a2-415c-ddf8-5668e5b6c318"
      },
      "execution_count": 71,
      "outputs": [
        {
          "output_type": "execute_result",
          "data": {
            "text/plain": [
              "'Dune is 17 from me in New Jersey, Fishburne is in fact very good during his Oscar-nominated role, this incidentally awful'"
            ],
            "application/vnd.google.colaboratory.intrinsic+json": {
              "type": "string"
            }
          },
          "metadata": {},
          "execution_count": 71
        }
      ]
    },
    {
      "cell_type": "code",
      "source": [
        "generate_with_temp(model, \"Dune is \", temperature=2)"
      ],
      "metadata": {
        "colab": {
          "base_uri": "https://localhost:8080/",
          "height": 52
        },
        "id": "48p2RbZ0Lo-u",
        "outputId": "baed3598-6aeb-447f-c0e4-de52dbb2d739"
      },
      "execution_count": 72,
      "outputs": [
        {
          "output_type": "execute_result",
          "data": {
            "text/plain": [
              "'Dune is filuring buyer based firing questions Bad scenery, while Similarly cigarettes focus on Normandy Theatre StewartindAIDS Hercop Romole ne <briety'"
            ],
            "application/vnd.google.colaboratory.intrinsic+json": {
              "type": "string"
            }
          },
          "metadata": {},
          "execution_count": 72
        }
      ]
    },
    {
      "cell_type": "code",
      "execution_count": 73,
      "metadata": {
        "id": "Vc-cb6SlKcng",
        "colab": {
          "base_uri": "https://localhost:8080/",
          "height": 35
        },
        "outputId": "5c8a474d-efb7-461c-88bc-6385cc367829"
      },
      "outputs": [
        {
          "output_type": "execute_result",
          "data": {
            "text/plain": [
              "\"The worst 20000003 movie ever made. I'm not sure if the movie was good, but it's not bad.\""
            ],
            "application/vnd.google.colaboratory.intrinsic+json": {
              "type": "string"
            }
          },
          "metadata": {},
          "execution_count": 73
        }
      ],
      "source": [
        "generate_with_temp(model, \"The worst \")"
      ]
    },
    {
      "cell_type": "code",
      "execution_count": 74,
      "metadata": {
        "id": "t9xVrjDcD1y4",
        "colab": {
          "base_uri": "https://localhost:8080/",
          "height": 35
        },
        "outputId": "9bfb75c3-50ad-4311-834b-e57bb8578eba"
      },
      "outputs": [
        {
          "output_type": "execute_result",
          "data": {
            "text/plain": [
              "'Facinating 1996, 19998, 1971, 198, 197.'"
            ],
            "application/vnd.google.colaboratory.intrinsic+json": {
              "type": "string"
            }
          },
          "metadata": {},
          "execution_count": 74
        }
      ],
      "source": [
        "generate_with_temp(model, \"Facinating \")"
      ]
    },
    {
      "cell_type": "code",
      "source": [],
      "metadata": {
        "id": "c_KayAVadRq9"
      },
      "execution_count": 74,
      "outputs": []
    }
  ],
  "metadata": {
    "accelerator": "GPU",
    "colab": {
      "gpuType": "L4",
      "provenance": []
    },
    "kernelspec": {
      "display_name": "Python 3",
      "name": "python3"
    },
    "language_info": {
      "codemirror_mode": {
        "name": "ipython",
        "version": 3
      },
      "file_extension": ".py",
      "mimetype": "text/x-python",
      "name": "python",
      "nbconvert_exporter": "python",
      "pygments_lexer": "ipython3",
      "version": "3.9.18"
    },
    "widgets": {
      "application/vnd.jupyter.widget-state+json": {
        "d4718499dd304eb0b94fceaa4630dcf0": {
          "model_module": "@jupyter-widgets/controls",
          "model_name": "HBoxModel",
          "model_module_version": "1.5.0",
          "state": {
            "_dom_classes": [],
            "_model_module": "@jupyter-widgets/controls",
            "_model_module_version": "1.5.0",
            "_model_name": "HBoxModel",
            "_view_count": null,
            "_view_module": "@jupyter-widgets/controls",
            "_view_module_version": "1.5.0",
            "_view_name": "HBoxView",
            "box_style": "",
            "children": [
              "IPY_MODEL_580db51a6abc49e09e4c6588a0d525fa",
              "IPY_MODEL_063b7e38ab0c449d9cf611ae9aa1d34f",
              "IPY_MODEL_c59f918d118248c68894a6147f6f3ef0"
            ],
            "layout": "IPY_MODEL_84bc3155e49640f380f8c147510305fb"
          }
        },
        "580db51a6abc49e09e4c6588a0d525fa": {
          "model_module": "@jupyter-widgets/controls",
          "model_name": "HTMLModel",
          "model_module_version": "1.5.0",
          "state": {
            "_dom_classes": [],
            "_model_module": "@jupyter-widgets/controls",
            "_model_module_version": "1.5.0",
            "_model_name": "HTMLModel",
            "_view_count": null,
            "_view_module": "@jupyter-widgets/controls",
            "_view_module_version": "1.5.0",
            "_view_name": "HTMLView",
            "description": "",
            "description_tooltip": null,
            "layout": "IPY_MODEL_477415481cbc42798e9b850a19449372",
            "placeholder": "​",
            "style": "IPY_MODEL_c774759c455248cea5958ed82cb4ed5c",
            "value": "100%"
          }
        },
        "063b7e38ab0c449d9cf611ae9aa1d34f": {
          "model_module": "@jupyter-widgets/controls",
          "model_name": "FloatProgressModel",
          "model_module_version": "1.5.0",
          "state": {
            "_dom_classes": [],
            "_model_module": "@jupyter-widgets/controls",
            "_model_module_version": "1.5.0",
            "_model_name": "FloatProgressModel",
            "_view_count": null,
            "_view_module": "@jupyter-widgets/controls",
            "_view_module_version": "1.5.0",
            "_view_name": "ProgressView",
            "bar_style": "success",
            "description": "",
            "description_tooltip": null,
            "layout": "IPY_MODEL_833904f2922a4e5ea7bac918fcefc87c",
            "max": 5,
            "min": 0,
            "orientation": "horizontal",
            "style": "IPY_MODEL_7312a14c6f65464aaa5d19a5f7359f50",
            "value": 5
          }
        },
        "c59f918d118248c68894a6147f6f3ef0": {
          "model_module": "@jupyter-widgets/controls",
          "model_name": "HTMLModel",
          "model_module_version": "1.5.0",
          "state": {
            "_dom_classes": [],
            "_model_module": "@jupyter-widgets/controls",
            "_model_module_version": "1.5.0",
            "_model_name": "HTMLModel",
            "_view_count": null,
            "_view_module": "@jupyter-widgets/controls",
            "_view_module_version": "1.5.0",
            "_view_name": "HTMLView",
            "description": "",
            "description_tooltip": null,
            "layout": "IPY_MODEL_1a857322855d4178864cc7deb42d99a6",
            "placeholder": "​",
            "style": "IPY_MODEL_2a0d5c7afcf74b9f8cba6a9ee7d6eb83",
            "value": " 5/5 [11:57&lt;00:00, 143.51s/it]"
          }
        },
        "84bc3155e49640f380f8c147510305fb": {
          "model_module": "@jupyter-widgets/base",
          "model_name": "LayoutModel",
          "model_module_version": "1.2.0",
          "state": {
            "_model_module": "@jupyter-widgets/base",
            "_model_module_version": "1.2.0",
            "_model_name": "LayoutModel",
            "_view_count": null,
            "_view_module": "@jupyter-widgets/base",
            "_view_module_version": "1.2.0",
            "_view_name": "LayoutView",
            "align_content": null,
            "align_items": null,
            "align_self": null,
            "border": null,
            "bottom": null,
            "display": null,
            "flex": null,
            "flex_flow": null,
            "grid_area": null,
            "grid_auto_columns": null,
            "grid_auto_flow": null,
            "grid_auto_rows": null,
            "grid_column": null,
            "grid_gap": null,
            "grid_row": null,
            "grid_template_areas": null,
            "grid_template_columns": null,
            "grid_template_rows": null,
            "height": null,
            "justify_content": null,
            "justify_items": null,
            "left": null,
            "margin": null,
            "max_height": null,
            "max_width": null,
            "min_height": null,
            "min_width": null,
            "object_fit": null,
            "object_position": null,
            "order": null,
            "overflow": null,
            "overflow_x": null,
            "overflow_y": null,
            "padding": null,
            "right": null,
            "top": null,
            "visibility": null,
            "width": null
          }
        },
        "477415481cbc42798e9b850a19449372": {
          "model_module": "@jupyter-widgets/base",
          "model_name": "LayoutModel",
          "model_module_version": "1.2.0",
          "state": {
            "_model_module": "@jupyter-widgets/base",
            "_model_module_version": "1.2.0",
            "_model_name": "LayoutModel",
            "_view_count": null,
            "_view_module": "@jupyter-widgets/base",
            "_view_module_version": "1.2.0",
            "_view_name": "LayoutView",
            "align_content": null,
            "align_items": null,
            "align_self": null,
            "border": null,
            "bottom": null,
            "display": null,
            "flex": null,
            "flex_flow": null,
            "grid_area": null,
            "grid_auto_columns": null,
            "grid_auto_flow": null,
            "grid_auto_rows": null,
            "grid_column": null,
            "grid_gap": null,
            "grid_row": null,
            "grid_template_areas": null,
            "grid_template_columns": null,
            "grid_template_rows": null,
            "height": null,
            "justify_content": null,
            "justify_items": null,
            "left": null,
            "margin": null,
            "max_height": null,
            "max_width": null,
            "min_height": null,
            "min_width": null,
            "object_fit": null,
            "object_position": null,
            "order": null,
            "overflow": null,
            "overflow_x": null,
            "overflow_y": null,
            "padding": null,
            "right": null,
            "top": null,
            "visibility": null,
            "width": null
          }
        },
        "c774759c455248cea5958ed82cb4ed5c": {
          "model_module": "@jupyter-widgets/controls",
          "model_name": "DescriptionStyleModel",
          "model_module_version": "1.5.0",
          "state": {
            "_model_module": "@jupyter-widgets/controls",
            "_model_module_version": "1.5.0",
            "_model_name": "DescriptionStyleModel",
            "_view_count": null,
            "_view_module": "@jupyter-widgets/base",
            "_view_module_version": "1.2.0",
            "_view_name": "StyleView",
            "description_width": ""
          }
        },
        "833904f2922a4e5ea7bac918fcefc87c": {
          "model_module": "@jupyter-widgets/base",
          "model_name": "LayoutModel",
          "model_module_version": "1.2.0",
          "state": {
            "_model_module": "@jupyter-widgets/base",
            "_model_module_version": "1.2.0",
            "_model_name": "LayoutModel",
            "_view_count": null,
            "_view_module": "@jupyter-widgets/base",
            "_view_module_version": "1.2.0",
            "_view_name": "LayoutView",
            "align_content": null,
            "align_items": null,
            "align_self": null,
            "border": null,
            "bottom": null,
            "display": null,
            "flex": null,
            "flex_flow": null,
            "grid_area": null,
            "grid_auto_columns": null,
            "grid_auto_flow": null,
            "grid_auto_rows": null,
            "grid_column": null,
            "grid_gap": null,
            "grid_row": null,
            "grid_template_areas": null,
            "grid_template_columns": null,
            "grid_template_rows": null,
            "height": null,
            "justify_content": null,
            "justify_items": null,
            "left": null,
            "margin": null,
            "max_height": null,
            "max_width": null,
            "min_height": null,
            "min_width": null,
            "object_fit": null,
            "object_position": null,
            "order": null,
            "overflow": null,
            "overflow_x": null,
            "overflow_y": null,
            "padding": null,
            "right": null,
            "top": null,
            "visibility": null,
            "width": null
          }
        },
        "7312a14c6f65464aaa5d19a5f7359f50": {
          "model_module": "@jupyter-widgets/controls",
          "model_name": "ProgressStyleModel",
          "model_module_version": "1.5.0",
          "state": {
            "_model_module": "@jupyter-widgets/controls",
            "_model_module_version": "1.5.0",
            "_model_name": "ProgressStyleModel",
            "_view_count": null,
            "_view_module": "@jupyter-widgets/base",
            "_view_module_version": "1.2.0",
            "_view_name": "StyleView",
            "bar_color": null,
            "description_width": ""
          }
        },
        "1a857322855d4178864cc7deb42d99a6": {
          "model_module": "@jupyter-widgets/base",
          "model_name": "LayoutModel",
          "model_module_version": "1.2.0",
          "state": {
            "_model_module": "@jupyter-widgets/base",
            "_model_module_version": "1.2.0",
            "_model_name": "LayoutModel",
            "_view_count": null,
            "_view_module": "@jupyter-widgets/base",
            "_view_module_version": "1.2.0",
            "_view_name": "LayoutView",
            "align_content": null,
            "align_items": null,
            "align_self": null,
            "border": null,
            "bottom": null,
            "display": null,
            "flex": null,
            "flex_flow": null,
            "grid_area": null,
            "grid_auto_columns": null,
            "grid_auto_flow": null,
            "grid_auto_rows": null,
            "grid_column": null,
            "grid_gap": null,
            "grid_row": null,
            "grid_template_areas": null,
            "grid_template_columns": null,
            "grid_template_rows": null,
            "height": null,
            "justify_content": null,
            "justify_items": null,
            "left": null,
            "margin": null,
            "max_height": null,
            "max_width": null,
            "min_height": null,
            "min_width": null,
            "object_fit": null,
            "object_position": null,
            "order": null,
            "overflow": null,
            "overflow_x": null,
            "overflow_y": null,
            "padding": null,
            "right": null,
            "top": null,
            "visibility": null,
            "width": null
          }
        },
        "2a0d5c7afcf74b9f8cba6a9ee7d6eb83": {
          "model_module": "@jupyter-widgets/controls",
          "model_name": "DescriptionStyleModel",
          "model_module_version": "1.5.0",
          "state": {
            "_model_module": "@jupyter-widgets/controls",
            "_model_module_version": "1.5.0",
            "_model_name": "DescriptionStyleModel",
            "_view_count": null,
            "_view_module": "@jupyter-widgets/base",
            "_view_module_version": "1.2.0",
            "_view_name": "StyleView",
            "description_width": ""
          }
        }
      }
    }
  },
  "nbformat": 4,
  "nbformat_minor": 0
}